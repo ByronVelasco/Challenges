{
 "cells": [
  {
   "cell_type": "markdown",
   "id": "486de2a6",
   "metadata": {},
   "source": [
    "## **First approach**"
   ]
  },
  {
   "cell_type": "code",
   "execution_count": 9,
   "id": "169ce7bb",
   "metadata": {},
   "outputs": [],
   "source": [
    "def largest_prime_factor(n):\n",
    "  if n == 1:\n",
    "    return 1\n",
    "  while n > 1 and n % 2 == 0:\n",
    "    n //= 2\n",
    "  if n == 1:\n",
    "    return 2\n",
    "  k = 3\n",
    "  while n>1:\n",
    "    if n % k == 0:\n",
    "      n //= k\n",
    "      continue\n",
    "    k += 2\n",
    "  return k"
   ]
  },
  {
   "cell_type": "code",
   "execution_count": 10,
   "id": "32a4ab7f",
   "metadata": {},
   "outputs": [
    {
     "name": "stdout",
     "output_type": "stream",
     "text": [
      "6857\n"
     ]
    }
   ],
   "source": [
    "n = 600851475143\n",
    "print(largest_prime_factor(n))"
   ]
  },
  {
   "cell_type": "markdown",
   "id": "68e1acfd",
   "metadata": {},
   "source": [
    "## **Optimal method**"
   ]
  },
  {
   "cell_type": "code",
   "execution_count": 11,
   "id": "98f69ab5",
   "metadata": {},
   "outputs": [],
   "source": [
    "from math import sqrt\n",
    "\n",
    "def optimal_largest_prime_factor(n):\n",
    "\tif n == 1:\n",
    "\t\treturn 1\n",
    "\twhile n > 1 and n % 2 == 0:\n",
    "\t\tn //= 2\n",
    "\tif n == 1:\n",
    "\t\treturn 2\n",
    "\tk = 3\n",
    "\twhile k <= sqrt(n) and n>1:\n",
    "\t\tif n % k == 0:\n",
    "\t\t\tn //= k\n",
    "\t\t\tcontinue\n",
    "\t\tk += 2\n",
    "\treturn n"
   ]
  },
  {
   "cell_type": "code",
   "execution_count": 12,
   "id": "295fe946",
   "metadata": {},
   "outputs": [
    {
     "name": "stdout",
     "output_type": "stream",
     "text": [
      "6857\n"
     ]
    }
   ],
   "source": [
    "n = 600851475143\n",
    "print(largest_prime_factor(n))"
   ]
  },
  {
   "cell_type": "markdown",
   "id": "66e279ce",
   "metadata": {},
   "source": [
    "## **Correctness**"
   ]
  },
  {
   "cell_type": "code",
   "execution_count": 17,
   "id": "e922be9a",
   "metadata": {},
   "outputs": [
    {
     "name": "stdout",
     "output_type": "stream",
     "text": [
      "Both algorithms get the same results\n"
     ]
    }
   ],
   "source": [
    "n = 10000\n",
    "test = True\n",
    "for n in range(2, n+1):\n",
    "  if largest_prime_factor(n) != optimal_largest_prime_factor(n):\n",
    "    test = False\n",
    "    break\n",
    "if test:\n",
    "  print('Both algorithms get the same results')\n",
    "else:\n",
    "  print('The algorithms get different results')"
   ]
  }
 ],
 "metadata": {
  "kernelspec": {
   "display_name": "Python 3",
   "language": "python",
   "name": "python3"
  },
  "language_info": {
   "codemirror_mode": {
    "name": "ipython",
    "version": 3
   },
   "file_extension": ".py",
   "mimetype": "text/x-python",
   "name": "python",
   "nbconvert_exporter": "python",
   "pygments_lexer": "ipython3",
   "version": "3.8.10"
  }
 },
 "nbformat": 4,
 "nbformat_minor": 5
}
