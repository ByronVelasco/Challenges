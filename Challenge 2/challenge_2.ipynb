{
 "cells": [
  {
   "cell_type": "markdown",
   "id": "2b16457c",
   "metadata": {},
   "source": [
    "## **Intuitive method**"
   ]
  },
  {
   "cell_type": "code",
   "execution_count": 36,
   "id": "5b5dc394",
   "metadata": {},
   "outputs": [],
   "source": [
    "def sum_fibonacci_even(threshold):\n",
    "  total = 0\n",
    "  x1 = 1\n",
    "  x2 = 1\n",
    "  while x2 < threshold:\n",
    "    if x2 % 2 == 0:\n",
    "      total += x2\n",
    "    x1, x2 = x2, x1 + x2\n",
    "  return total"
   ]
  },
  {
   "cell_type": "code",
   "execution_count": 37,
   "id": "5f7edde9",
   "metadata": {},
   "outputs": [
    {
     "name": "stdout",
     "output_type": "stream",
     "text": [
      "4613732\n"
     ]
    }
   ],
   "source": [
    "print(sum_fibonacci_even(4000000))"
   ]
  },
  {
   "cell_type": "markdown",
   "id": "5f712bbe",
   "metadata": {},
   "source": [
    "## **No conditions method**"
   ]
  },
  {
   "cell_type": "code",
   "execution_count": 38,
   "id": "750f875e",
   "metadata": {},
   "outputs": [],
   "source": [
    "def sum_fibonacci_even_no_condition(threshold):\n",
    "  total = 0\n",
    "  a = 1\n",
    "  b = 1\n",
    "  c = a + b\n",
    "  while c < threshold:\n",
    "    total += c\n",
    "    a = b + c\n",
    "    b = a + c\n",
    "    c = a + b\n",
    "  return total"
   ]
  },
  {
   "cell_type": "code",
   "execution_count": 39,
   "id": "8b3e8222",
   "metadata": {},
   "outputs": [
    {
     "name": "stdout",
     "output_type": "stream",
     "text": [
      "4613732\n"
     ]
    }
   ],
   "source": [
    "print(sum_fibonacci_even_no_condition(4000000))"
   ]
  },
  {
   "cell_type": "markdown",
   "id": "28ba386d",
   "metadata": {},
   "source": [
    "## **Correctness**"
   ]
  },
  {
   "cell_type": "code",
   "execution_count": 40,
   "id": "2ba01841",
   "metadata": {},
   "outputs": [
    {
     "name": "stdout",
     "output_type": "stream",
     "text": [
      "Both algorithms get the same results\n"
     ]
    }
   ],
   "source": [
    "n = 1000000\n",
    "test = True\n",
    "for threshold in range(1, n):\n",
    "  if sum_fibonacci_even(threshold) != sum_fibonacci_even_no_condition(threshold):\n",
    "    test = False\n",
    "    break\n",
    "if test:\n",
    "  print('Both algorithms get the same results')\n",
    "else:\n",
    "  print('The algorithms get different results')"
   ]
  }
 ],
 "metadata": {
  "kernelspec": {
   "display_name": "Python 3",
   "language": "python",
   "name": "python3"
  },
  "language_info": {
   "codemirror_mode": {
    "name": "ipython",
    "version": 3
   },
   "file_extension": ".py",
   "mimetype": "text/x-python",
   "name": "python",
   "nbconvert_exporter": "python",
   "pygments_lexer": "ipython3",
   "version": "3.8.10"
  }
 },
 "nbformat": 4,
 "nbformat_minor": 5
}
