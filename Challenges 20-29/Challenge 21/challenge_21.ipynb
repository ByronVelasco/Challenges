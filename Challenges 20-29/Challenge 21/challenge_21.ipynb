{
 "cells": [
  {
   "cell_type": "markdown",
   "id": "5958103a",
   "metadata": {},
   "source": [
    "# **Challenge 21**\n",
    "## **Efficient Detection and Summation of Amicable Numbers within a Range**\n",
    "This approach systematically checks each number within a specified range, efficiently calculating the sum of proper divisors by iterating up to the square root of each candidate—*an optimal divisor search method previously used in an earlier challenge*. When such a pair is found, their values are accumulated to produce the final result, ensuring that each pair is counted only once and remains within the defined bounds."
   ]
  },
  {
   "cell_type": "code",
   "execution_count": 1,
   "id": "2955cf04",
   "metadata": {},
   "outputs": [],
   "source": [
    "from math import sqrt\n",
    "\n",
    "def sum_of_amicable_numbers(n):\n",
    "\t# Helper function to calculate the sum of proper divisors of x\n",
    "\tdef sum_of_divisors(x):\n",
    "\t\ttotal_divisors = 1  # 1 is a proper divisor of every number > 1\n",
    "\t\tk = 1 if x % 2 == 0 else 2  # Start with 1 for odd numbers, 2 for even numbers\n",
    "\t\t# Iterate up to the square root of x to find divisors efficiently\n",
    "\t\tfor i in range(2, int(sqrt(x)) + 1, k):\n",
    "\t\t\tif x % i == 0:\n",
    "\t\t\t\ttotal_divisors += i  # Add the divisor\n",
    "\t\t\t\tif i != x // i:  # Avoid adding the square root twice for perfect squares\n",
    "\t\t\t\t\ttotal_divisors += x // i  # Add the complementary divisor\n",
    "\t\treturn total_divisors\n",
    "\n",
    "\t# Initialize total to accumulate the sum of amicable numbers\n",
    "\ttotal = 0\n",
    "\t# Check each number in the range for amicable pairs\n",
    "\tfor a in range(2, n):\n",
    "\t\tb = sum_of_divisors(a)\n",
    "\t\t# Ensure b > a to avoid duplicates, b < n to stay within range, and check if pair is amicable\n",
    "\t\tif b > a and b < n and sum_of_divisors(b) == a:\n",
    "\t\t\ttotal += a + b\n",
    "\treturn total"
   ]
  },
  {
   "cell_type": "markdown",
   "id": "d41129c3",
   "metadata": {},
   "source": [
    "### **Example Usage and Output**"
   ]
  },
  {
   "cell_type": "code",
   "execution_count": 4,
   "id": "784ebc9c",
   "metadata": {},
   "outputs": [
    {
     "name": "stdout",
     "output_type": "stream",
     "text": [
      "The sum of all amicable numbers under 10000 is 31626.\n"
     ]
    }
   ],
   "source": [
    "n = 10000\n",
    "total = sum_of_amicable_numbers(n)\n",
    "print(f'The sum of all amicable numbers under {n} is {total}.')"
   ]
  }
 ],
 "metadata": {
  "kernelspec": {
   "display_name": "Python 3",
   "language": "python",
   "name": "python3"
  },
  "language_info": {
   "codemirror_mode": {
    "name": "ipython",
    "version": 3
   },
   "file_extension": ".py",
   "mimetype": "text/x-python",
   "name": "python",
   "nbconvert_exporter": "python",
   "pygments_lexer": "ipython3",
   "version": "3.13.3"
  }
 },
 "nbformat": 4,
 "nbformat_minor": 5
}
