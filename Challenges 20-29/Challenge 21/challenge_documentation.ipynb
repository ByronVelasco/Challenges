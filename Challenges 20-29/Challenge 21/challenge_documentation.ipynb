{
 "cells": [
  {
   "cell_type": "markdown",
   "id": "c45f42cf",
   "metadata": {},
   "source": [
    "# Challenge 21 – Amicable Numbers\n",
    "\n",
    "In this challenge, the objective is to **compute the sum of all amicable numbers under a given limit**. Amicable numbers are two different numbers where each number is the sum of the proper divisors of the other."
   ]
  },
  {
   "cell_type": "markdown",
   "id": "c26f6e99",
   "metadata": {},
   "source": [
    "## Problem Statement\n",
    "\n",
    "**Task:**  \n",
    "Compute the sum of all amicable numbers under 10000."
   ]
  },
  {
   "cell_type": "markdown",
   "id": "d1b9f217",
   "metadata": {},
   "source": [
    "## Data Context\n",
    "\n",
    "- `n`: positive integer.\n",
    "\n",
    "Before reading the solution below, try solving the problem yourself and compare your approach and results."
   ]
  },
  {
   "cell_type": "markdown",
   "id": "d4697042",
   "metadata": {},
   "source": [
    "## Efficient Detection and Summation of Amicable Numbers within a Range\n",
    "\n",
    "To efficiently find all amicable numbers within a given range, we follow a systematic approach:\n",
    "\n",
    "- **Divisor Search:** For each number up to the specified limit, we search for its proper divisors. Since divisors come in pairs (for every divisor less than the square root, there is a complementary divisor greater than the square root), we only need to iterate up to the square root of the number. This significantly reduces the number of iterations required.\n",
    "\n",
    "- **Step Optimization:** To further optimize, we iterate by steps of 1 if the number is even, and by steps of 2 if the number is odd. This skips unnecessary checks for odd divisors in even numbers and vice versa.\n",
    "\n",
    "- **Amicable Pair Detection:** After calculating the sum of proper divisors for each number, we check for amicable pairs—two numbers where each is the sum of the proper divisors of the other. We ensure that each pair is counted only once and within the defined bounds.\n",
    "\n",
    "- **Summation:** Finally, we sum all the amicable numbers found in the range to obtain the result.\n",
    "\n",
    "This method leverages the mathematical property that divisors are paired and uses an optimal search strategy previously established in earlier challenges."
   ]
  },
  {
   "cell_type": "markdown",
   "id": "54c66571",
   "metadata": {},
   "source": [
    "## Final Result\n",
    "\n",
    "For `n=10000`, the correct result is:\n",
    "\n",
    "**31626**\n",
    "\n",
    "---\n",
    "\n",
    "&copy; Byron Velasco, 2025"
   ]
  }
 ],
 "metadata": {
  "language_info": {
   "name": "python"
  }
 },
 "nbformat": 4,
 "nbformat_minor": 5
}
