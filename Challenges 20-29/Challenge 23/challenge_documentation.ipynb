{
 "cells": [
  {
   "cell_type": "markdown",
   "id": "c45f42cf",
   "metadata": {},
   "source": [
    "# Challenge 23 – Non-Abundant Sums\n",
    "\n",
    "In this challenge, the objective is **to compute the sum of all positive integers below a given limit that cannot be written as the sum of two abundant numbers**."
   ]
  },
  {
   "cell_type": "markdown",
   "id": "c26f6e99",
   "metadata": {},
   "source": [
    "## Problem Statement\n",
    "\n",
    "**Task:**  \n",
    "Find the sum of all positive integers that cannot be expressed as the sum of two abundant numbers, given that every integer greater than $28123$ can be written as the sum of two abundant numbers."
   ]
  },
  {
   "cell_type": "markdown",
   "id": "d1b9f217",
   "metadata": {},
   "source": [
    "## Data Context\n",
    "\n",
    "- `limit`: positive integer. It is set to `28123` by default, but can be adjusted.\n",
    "\n",
    "Before reading the solution below, try solving the problem yourself and compare your approach and results."
   ]
  },
  {
   "cell_type": "markdown",
   "id": "d4697042",
   "metadata": {},
   "source": [
    "## Identifying and Summing Non-Abundant Sums within a Range\n",
    "\n",
    "This approach involves identifying numbers that can be expressed as the sum of two special numbers, known as abundant numbers, within a specified range. First, all such special numbers up to a given limit are determined. Then, all possible sums of pairs of these numbers are generated and collected. Finally, the approach sums all numbers within the range that cannot be represented as any of these sums, providing the desired result."
   ]
  },
  {
   "cell_type": "markdown",
   "id": "54c66571",
   "metadata": {},
   "source": [
    "## Final Result\n",
    "\n",
    "For `n=28123`, the correct result is:\n",
    "\n",
    "**4179871**\n",
    "\n",
    "---\n",
    "\n",
    "&copy; Byron Velasco, 2025"
   ]
  }
 ],
 "metadata": {
  "language_info": {
   "name": "python"
  }
 },
 "nbformat": 4,
 "nbformat_minor": 5
}
