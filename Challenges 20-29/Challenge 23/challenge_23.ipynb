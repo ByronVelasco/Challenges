{
 "cells": [
  {
   "cell_type": "markdown",
   "id": "5958103a",
   "metadata": {},
   "source": [
    "# **Challenge 23**\n",
    "## **Identifying and Summing Non-Abundant Sums within a Range**\n",
    "This approach involves identifying numbers that can be expressed as the sum of two special numbers, known as abundant numbers, within a specified range. First, all such special numbers up to a given limit are determined. Then, all possible sums of pairs of these numbers are generated and collected. Finally, the approach sums all numbers within the range that cannot be represented as any of these sums, providing the desired result."
   ]
  },
  {
   "cell_type": "code",
   "execution_count": 1,
   "id": "2955cf04",
   "metadata": {},
   "outputs": [],
   "source": [
    "from math import isqrt\n",
    "\n",
    "def non_abundant_sum(limit=28123):\n",
    "\t# Cap the limit at 28123, since all numbers above this can be written as the sum of two abundant numbers\n",
    "\tif limit > 28123:\n",
    "\t\t\tlimit = 28123\n",
    "\n",
    "\t# Helper function to determine if a number is abundant\n",
    "\tdef is_abundant(n):\n",
    "\t\ttotal = 1  # 1 is always a proper divisor\n",
    "\t\t# Check all divisors up to the square root of n\n",
    "\t\tfor i in range(2, isqrt(n) + 1):\n",
    "\t\t\tif n % i == 0:\n",
    "\t\t\t\ttotal += i  # Add the divisor\n",
    "\t\t\t\tif i != n // i:  # Avoid adding the square root twice for perfect squares\n",
    "\t\t\t\t\ttotal += n // i  # Add the complementary divisor\n",
    "\t\treturn total > n  # A number is abundant if the sum of its proper divisors is greater than itself\n",
    "\n",
    "\t# Generate a list of all abundant numbers up to the limit\n",
    "\tabundant_numbers = [i for i in range(12, limit + 1) if is_abundant(i)]\n",
    "\n",
    "\t# Boolean array to mark numbers that can be written as the sum of two abundant numbers\n",
    "\tcan_be_written_as_abundant_sum = [False] * (limit + 1)\n",
    "\t# Mark all numbers that can be expressed as the sum of two abundant numbers\n",
    "\tfor i, abundant_number_i in enumerate(abundant_numbers):\n",
    "\t\tfor j in range(i, len(abundant_numbers)):\n",
    "\t\t\tsum_abundant = abundant_number_i + abundant_numbers[j]\n",
    "\t\t\tif sum_abundant <= limit:\n",
    "\t\t\t\tcan_be_written_as_abundant_sum[sum_abundant] = True\n",
    "\t\t\telse:\n",
    "\t\t\t\tbreak  # No need to continue if the sum exceeds the limit\n",
    "\t\t# Optimization: stop if the current abundant number is greater than half the limit\n",
    "\t\tif abundant_number_i > limit // 2:\n",
    "\t\t\tbreak\n",
    "\n",
    "\t# Calculate the sum of all numbers that cannot be written as the sum of two abundant numbers\n",
    "\treturn sum(i for i in range(1, limit + 1) if not can_be_written_as_abundant_sum[i])"
   ]
  },
  {
   "cell_type": "markdown",
   "id": "d41129c3",
   "metadata": {},
   "source": [
    "### **Example Usage and Output**"
   ]
  },
  {
   "cell_type": "code",
   "execution_count": 2,
   "id": "784ebc9c",
   "metadata": {},
   "outputs": [
    {
     "name": "stdout",
     "output_type": "stream",
     "text": [
      "The sum of all positive integers that cannot be written as the sum of two abundant numbers is: 4179871\n"
     ]
    }
   ],
   "source": [
    "total_sum = non_abundant_sum()\n",
    "print(f'The sum of all positive integers that cannot be written as the sum of two abundant numbers is: {total_sum}')"
   ]
  }
 ],
 "metadata": {
  "kernelspec": {
   "display_name": "Python 3",
   "language": "python",
   "name": "python3"
  },
  "language_info": {
   "codemirror_mode": {
    "name": "ipython",
    "version": 3
   },
   "file_extension": ".py",
   "mimetype": "text/x-python",
   "name": "python",
   "nbconvert_exporter": "python",
   "pygments_lexer": "ipython3",
   "version": "3.13.4"
  }
 },
 "nbformat": 4,
 "nbformat_minor": 5
}
