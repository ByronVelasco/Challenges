{
 "cells": [
  {
   "cell_type": "markdown",
   "id": "5958103a",
   "metadata": {},
   "source": [
    "# **Challenge 20**\n",
    "## **Recursive Approach for Factorial Digit Sum**\n",
    "This methodology employs recursion to compute the factorial of a number. The process involves repeatedly breaking down the problem into smaller subproblems by calling itself with a decremented value until reaching a base case. Once the factorial value is obtained through this recursive buildup, its digits are extracted and summed to produce the final result. This approach highlights the use of recursive problem-solving for mathematical computations involving large numbers."
   ]
  },
  {
   "cell_type": "code",
   "execution_count": 1,
   "id": "2955cf04",
   "metadata": {},
   "outputs": [],
   "source": [
    "def sum_factorial_digits_recursive(n):\n",
    "\t# Recursive helper function to compute factorial\n",
    "\tdef factorial(n):\n",
    "\t\t# Base case: factorial of 0 or 1 is 1\n",
    "\t\tif n == 1 or n == 0:\n",
    "\t\t\treturn 1\n",
    "\t\t# Recursive case: n! = n * (n-1)!\n",
    "\t\treturn n * factorial(n - 1)\n",
    "\n",
    "\t# Compute the factorial, convert to string, and sum its digits\n",
    "\treturn sum(int(digit) for digit in str(factorial(n)))"
   ]
  },
  {
   "cell_type": "markdown",
   "id": "d41129c3",
   "metadata": {},
   "source": [
    "### **Example Usage and Output**"
   ]
  },
  {
   "cell_type": "code",
   "execution_count": 2,
   "id": "784ebc9c",
   "metadata": {},
   "outputs": [
    {
     "name": "stdout",
     "output_type": "stream",
     "text": [
      "The sum of the digits in 100! is 648.\n"
     ]
    }
   ],
   "source": [
    "n = 100\n",
    "total = sum_factorial_digits_recursive(n)\n",
    "print(f'The sum of the digits in {n}! is {total}.')"
   ]
  },
  {
   "cell_type": "markdown",
   "id": "be73e275",
   "metadata": {},
   "source": [
    "## **Iterative Approach for Factorial Digit Sum**\n",
    "\n",
    "This methodology uses an iterative process to compute the factorial of a number. Starting from the base case, the factorial value is built up step by step by multiplying the current result by each successive integer up to the target number. Once the factorial is obtained, it is converted to a string, and the sum of its digits is calculated by iterating over each character and converting it back to an integer. This approach efficiently handles large numbers and avoids the overhead of recursion."
   ]
  },
  {
   "cell_type": "code",
   "execution_count": 3,
   "id": "f53aea31",
   "metadata": {},
   "outputs": [],
   "source": [
    "def sum_factorial_digits_optimized(n):\n",
    "\t# Handle the special case where n is 0 (0! = 1)\n",
    "\tif n == 0:\n",
    "\t\t\treturn 1\n",
    "\tfactorial = 1  # Initialize the factorial result\n",
    "\t# Iteratively compute the factorial of n\n",
    "\tfor i in range(2, n + 1):\n",
    "\t\tfactorial *= i\n",
    "\t# Convert the factorial to a string and sum its digits\n",
    "\treturn sum(int(digit) for digit in str(factorial))"
   ]
  },
  {
   "cell_type": "markdown",
   "id": "2c3e2807",
   "metadata": {},
   "source": [
    "### **Example Usage and Output**"
   ]
  },
  {
   "cell_type": "code",
   "execution_count": 4,
   "id": "dd763f33",
   "metadata": {},
   "outputs": [
    {
     "name": "stdout",
     "output_type": "stream",
     "text": [
      "The sum of the digits in 100! is 648.\n"
     ]
    }
   ],
   "source": [
    "n = 100\n",
    "total = sum_factorial_digits_optimized(n)\n",
    "print(f'The sum of the digits in {n}! is {total}.')"
   ]
  }
 ],
 "metadata": {
  "kernelspec": {
   "display_name": "Python 3",
   "language": "python",
   "name": "python3"
  },
  "language_info": {
   "codemirror_mode": {
    "name": "ipython",
    "version": 3
   },
   "file_extension": ".py",
   "mimetype": "text/x-python",
   "name": "python",
   "nbconvert_exporter": "python",
   "pygments_lexer": "ipython3",
   "version": "3.13.3"
  }
 },
 "nbformat": 4,
 "nbformat_minor": 5
}
