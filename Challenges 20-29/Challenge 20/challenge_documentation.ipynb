{
 "cells": [
  {
   "cell_type": "markdown",
   "id": "c45f42cf",
   "metadata": {},
   "source": [
    "# Challenge 20 – Factorial Digit Sum\n",
    "\n",
    "In this challenge, the objective is to **calculate the sum of the digits of the factorial of $n$**."
   ]
  },
  {
   "cell_type": "markdown",
   "id": "c26f6e99",
   "metadata": {},
   "source": [
    "## Problem Statement\n",
    "\n",
    "**Task:**  \n",
    "Compute the sum of the digits of the factorial of 100."
   ]
  },
  {
   "cell_type": "markdown",
   "id": "d1b9f217",
   "metadata": {},
   "source": [
    "## Data Context\n",
    "\n",
    "- `n`: positive integer.\n",
    "\n",
    "Before reading the solution below, try solving the problem yourself and compare your approach and results."
   ]
  },
  {
   "cell_type": "markdown",
   "id": "d4697042",
   "metadata": {},
   "source": [
    "## Recursive Approach for Factorial Digit Sum\n",
    "\n",
    "The recursive method for computing the factorial of a number is based on the mathematical definition of the factorial function. For any non-negative integer $n$, the factorial is defined as:\n",
    "$$\n",
    "n! = \n",
    "\\begin{cases}\n",
    "1 & \\text{if } n = 0 \\text{ or } n = 1 \\\\\n",
    "n \\times (n-1)! & \\text{if } n > 1\n",
    "\\end{cases}\n",
    "$$\n",
    "This definition naturally leads to a recursive approach, where the factorial of $n$ is calculated by multiplying $n$ by the factorial of $n-1$, repeatedly applying this process until reaching the base case of $0!$ or $1!$, both of which are defined as $1$."
   ]
  },
  {
   "cell_type": "markdown",
   "id": "d37f7bae",
   "metadata": {},
   "source": [
    "## Iterative Approach for Factorial Digit Sum\n",
    "\n",
    "The iterative method for computing the factorial of a number is grounded in the definition of the factorial as the product of all positive integers up to a given number. For any non-negative integer $n$, the factorial is defined as:\n",
    "$$\n",
    "n! = 1 \\times 2 \\times 3 \\times \\cdots \\times n\n",
    "$$\n",
    "This definition naturally leads to an iterative approach, where the result is initialized to $1$ and then successively multiplied by each integer from $2$ up to $n$. This step-by-step accumulation efficiently computes the factorial without recursion, making it well-suited for handling large values of $n$."
   ]
  },
  {
   "cell_type": "markdown",
   "id": "54c66571",
   "metadata": {},
   "source": [
    "## Final Result\n",
    "\n",
    "For `n=100`, the correct result is:\n",
    "\n",
    "**648**\n",
    "\n",
    "---\n",
    "\n",
    "*Challenge yourself: Try solving it using both methods and reflect on their differences in logic and efficiency!*\n",
    "\n",
    "&copy; Byron Velasco, 2025"
   ]
  }
 ],
 "metadata": {
  "language_info": {
   "name": "python"
  }
 },
 "nbformat": 4,
 "nbformat_minor": 5
}
