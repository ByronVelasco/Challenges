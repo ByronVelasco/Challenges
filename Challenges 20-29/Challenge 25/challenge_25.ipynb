{
 "cells": [
  {
   "cell_type": "markdown",
   "id": "5958103a",
   "metadata": {},
   "source": [
    "# **Challenge 25**\n",
    "## **Iterative Search for the First Fibonacci Number with a Given Number of Digits**\n",
    "This apporach involves generating numbers in a sequence where each number is the sum of the two preceding numbers, starting from two initial values of 1. The process continues iteratively, incrementing a counter with each new number generated. At each step, the number of digits in the current value is checked. The procedure stops once a number with at least the desired number of digits is found, and the position of this number in the sequence is returned."
   ]
  },
  {
   "cell_type": "code",
   "execution_count": 3,
   "id": "2955cf04",
   "metadata": {},
   "outputs": [],
   "source": [
    "def first_fibonacci_with_n_digits(n):\n",
    "\t# Special case: the first Fibonacci number with 1 digit is at index 1\n",
    "\tif n == 1:\n",
    "\t\treturn 1\n",
    "\n",
    "\ta, b = 1, 1  # Initialize the first two Fibonacci numbers\n",
    "\tindex = 2    # Start counting from the third Fibonacci number\n",
    "\n",
    "\t# Loop until a Fibonacci number with at least n digits is found\n",
    "\twhile True:\n",
    "\t\ta, b = b, a + b  # Generate the next Fibonacci number\n",
    "\t\tindex += 1       # Increment the index\n",
    "\t\t# Check if the current Fibonacci number has at least n digits\n",
    "\t\tif len(str(b)) >= n:\n",
    "\t\t\treturn index  # Return the index of the first Fibonacci number with n digits"
   ]
  },
  {
   "cell_type": "markdown",
   "id": "195ef3d4",
   "metadata": {},
   "source": [
    "### **Example Usage and Output**"
   ]
  },
  {
   "cell_type": "code",
   "execution_count": 4,
   "id": "910f9f3b",
   "metadata": {},
   "outputs": [
    {
     "name": "stdout",
     "output_type": "stream",
     "text": [
      "The index of the first Fibonacci number with 1000 digits is: 4782\n"
     ]
    }
   ],
   "source": [
    "n = 1000\n",
    "index = first_fibonacci_with_n_digits(n)\n",
    "print(f\"The index of the first Fibonacci number with {n} digits is: {index}\")"
   ]
  }
 ],
 "metadata": {
  "kernelspec": {
   "display_name": "Python 3",
   "language": "python",
   "name": "python3"
  },
  "language_info": {
   "codemirror_mode": {
    "name": "ipython",
    "version": 3
   },
   "file_extension": ".py",
   "mimetype": "text/x-python",
   "name": "python",
   "nbconvert_exporter": "python",
   "pygments_lexer": "ipython3",
   "version": "3.13.4"
  }
 },
 "nbformat": 4,
 "nbformat_minor": 5
}
