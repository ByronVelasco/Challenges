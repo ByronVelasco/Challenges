{
 "cells": [
  {
   "cell_type": "markdown",
   "id": "c45f42cf",
   "metadata": {},
   "source": [
    "# Challenge 25 – n-digit Fibonacci Number\n",
    "\n",
    "For this challenge, the objective is **to find the index of the first term in the Fibonacci sequence that contains a specified number of digits**."
   ]
  },
  {
   "cell_type": "markdown",
   "id": "c26f6e99",
   "metadata": {},
   "source": [
    "## Problem Statement\n",
    "\n",
    "**Task:**  \n",
    "Find the index of the first term in the Fibonacci sequence that contains 1000 digits."
   ]
  },
  {
   "cell_type": "markdown",
   "id": "d1b9f217",
   "metadata": {},
   "source": [
    "## Data Context\n",
    "\n",
    "- `n`: number of digits to search for in the Fibonacci sequence.\n",
    "\n",
    "Before reading the solution below, try solving the problem yourself and compare your approach and results."
   ]
  },
  {
   "cell_type": "markdown",
   "id": "8af43551",
   "metadata": {},
   "source": [
    "## Iterative Search for the First Fibonacci Number with a Given Number of Digits\n",
    "\n",
    "This apporach involves generating numbers in a sequence where each number is the sum of the two preceding numbers, starting from two initial values of 1. The process continues iteratively, incrementing a counter with each new number generated. At each step, the number of digits in the current value is checked. The procedure stops once a number with at least the desired number of digits is found, and the position of this number in the sequence is returned."
   ]
  },
  {
   "cell_type": "markdown",
   "id": "54c66571",
   "metadata": {},
   "source": [
    "## Final Result\n",
    "\n",
    "For `n=1000`, the correct result is:\n",
    "\n",
    "**4782**\n",
    "\n",
    "---\n",
    "\n",
    "&copy; Byron Velasco, 2025"
   ]
  }
 ],
 "metadata": {
  "language_info": {
   "name": "python"
  }
 },
 "nbformat": 4,
 "nbformat_minor": 5
}
