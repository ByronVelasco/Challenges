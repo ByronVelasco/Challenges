{
 "cells": [
  {
   "cell_type": "markdown",
   "id": "c45f42cf",
   "metadata": {},
   "source": [
    "# Challenge 26 – Reciprocal Cycles\n",
    "\n",
    "In this challenge, the objective is **to find the value of `d` for which the decimal representation of `1/d` contains the longest recurring cycle in its decimal fraction part.**"
   ]
  },
  {
   "cell_type": "markdown",
   "id": "c26f6e99",
   "metadata": {},
   "source": [
    "## Problem Statement\n",
    "\n",
    "**Task:**  \n",
    "Find the value of `d` for which the decimal representation of `1/d` contains the longest recurring cycle in its decimal fraction part, for `d` in the range from 1 to 999."
   ]
  },
  {
   "cell_type": "markdown",
   "id": "d1b9f217",
   "metadata": {},
   "source": [
    "## Data Context\n",
    "\n",
    "- `n`: upper limit of the range (exclusive).\n",
    "\n",
    "Before reading the solution below, try solving the problem yourself and compare your approach and results."
   ]
  },
  {
   "cell_type": "markdown",
   "id": "8af43551",
   "metadata": {},
   "source": [
    "## Detecting the Longest Recurring Cycle in Decimal Expansions via Long Division Simulation\n",
    "\n",
    "To determine the length of the recurring cycle in the decimal expansion of a unit fraction $\\frac{1}{d}$, we simulate the process of long division. The key mathematical concept is that the decimal expansion of $\\frac{1}{d}$ will eventually repeat if $d$ is not a factor of 10. The length of the recurring cycle corresponds to the smallest integer $k$ such that:\n",
    "$$\n",
    "10^k \\equiv 1 \\pmod{d}\n",
    "$$\n",
    "This is equivalent to finding the order of 10 modulo $d$. During long division, if a remainder repeats, the sequence of digits between the first and second occurrence of that remainder forms the recurring cycle. By tracking the position of each remainder, we can compute the length of the cycle as the difference between the positions of the first and second occurrence of the same remainder."
   ]
  },
  {
   "cell_type": "markdown",
   "id": "54c66571",
   "metadata": {},
   "source": [
    "## Final Result\n",
    "\n",
    "For `n=1000`, the correct result is:\n",
    "\n",
    "**983**\n",
    "\n",
    "---\n",
    "\n",
    "&copy; Byron Velasco, 2025"
   ]
  }
 ],
 "metadata": {
  "language_info": {
   "name": "python"
  }
 },
 "nbformat": 4,
 "nbformat_minor": 5
}
