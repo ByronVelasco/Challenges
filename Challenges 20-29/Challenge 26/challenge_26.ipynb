{
 "cells": [
  {
   "cell_type": "markdown",
   "id": "5958103a",
   "metadata": {},
   "source": [
    "# **Challenge 26**\n",
    "## **Detecting the Longest Recurring Cycle in Decimal Expansions via Long Division Simulation**\n",
    "The approach involves simulating the process of long division to identify repeating cycles in the decimal representation of unit fractions. For each denominator within a specified range, the method tracks the sequence of remainders that occur as the division progresses. By recording the position at which each remainder first appears, it becomes possible to detect when a remainder repeats, indicating the start of a recurring cycle. The length of the cycle is determined by the difference in positions between the first and subsequent occurrence of the same remainder. By comparing the cycle lengths for all denominators, the one with the longest recurring cycle can be identified."
   ]
  },
  {
   "cell_type": "code",
   "execution_count": null,
   "id": "2955cf04",
   "metadata": {},
   "outputs": [],
   "source": [
    "def longest_recurring_cycle(n):\n",
    "\t# Initialize variables to track the maximum cycle length and corresponding denominator\n",
    "\tmax_length = 0\n",
    "\tresult = 0\n",
    "\n",
    "\t# Iterate through all denominators from 2 up to n-1\n",
    "\tfor d in range(2, n):\n",
    "\t\tremainders = {}  # Dictionary to store previously seen remainders and their positions\n",
    "\t\tvalue = 1        # Numerator for division (1/d)\n",
    "\t\tposition = 0     # Position in the decimal expansion\n",
    "\n",
    "\t\t# Simulate the long division process to detect cycles\n",
    "\t\twhile value != 0 and value not in remainders:\n",
    "\t\t\tremainders[value] = position  # Store the position of the current remainder\n",
    "\t\t\tvalue = (value * 10) % d      # Update the value for the next decimal digit\n",
    "\t\t\tposition += 1                 # Move to the next position\n",
    "\n",
    "\t\t# If a cycle is detected (value repeats), calculate its length\n",
    "\t\tif value != 0:\n",
    "\t\t\tcycle_length = position - remainders[value]\n",
    "\t\t\t# Update the maximum cycle length and result if this cycle is longer\n",
    "\t\t\tif cycle_length > max_length:\n",
    "\t\t\t\tmax_length = cycle_length\n",
    "\t\t\t\tresult = d\n",
    "\n",
    "\t# Return the denominator with the longest recurring cycle\n",
    "\treturn result"
   ]
  },
  {
   "cell_type": "markdown",
   "id": "195ef3d4",
   "metadata": {},
   "source": [
    "### **Example Usage and Output**"
   ]
  },
  {
   "cell_type": "code",
   "execution_count": 2,
   "id": "910f9f3b",
   "metadata": {},
   "outputs": [
    {
     "name": "stdout",
     "output_type": "stream",
     "text": [
      "The value of d < 1000 with the longest recurring cycle in its decimal fraction part is: 983\n"
     ]
    }
   ],
   "source": [
    "n = 1000\n",
    "recurring_recycle = longest_recurring_cycle(n)\n",
    "print(f\"The value of d < {n} with the longest recurring cycle in its decimal fraction part is: {recurring_recycle}\")"
   ]
  }
 ],
 "metadata": {
  "kernelspec": {
   "display_name": "Python 3",
   "language": "python",
   "name": "python3"
  },
  "language_info": {
   "codemirror_mode": {
    "name": "ipython",
    "version": 3
   },
   "file_extension": ".py",
   "mimetype": "text/x-python",
   "name": "python",
   "nbconvert_exporter": "python",
   "pygments_lexer": "ipython3",
   "version": "3.13.4"
  }
 },
 "nbformat": 4,
 "nbformat_minor": 5
}
