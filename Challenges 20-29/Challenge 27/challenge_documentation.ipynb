{
 "cells": [
  {
   "cell_type": "markdown",
   "id": "c45f42cf",
   "metadata": {},
   "source": [
    "# Challenge 27 – Quadratic Primes\n",
    "\n",
    "Considering quadratics of the form:\n",
    "$$\n",
    "n^2 + an + b, \\text{where } |a|<\\text{limit}_a \\text{ and } |b|\\leq\\text{limit}_b\n",
    "$$\n",
    "The objective is to find the product of coefficients, $a$ and $b$, that produces the maximum number of primes for consecutive values of $n$, starting with $n=0$."
   ]
  },
  {
   "cell_type": "markdown",
   "id": "c26f6e99",
   "metadata": {},
   "source": [
    "## Problem Statement\n",
    "\n",
    "**Task:**  \n",
    "Find the product of coefficients $a$ and $b$ that produces the maximum number of primes for consecutive values of $n$, starting with $n=0$, such that $|a|<1000$ and $|b|\\leq 1000$."
   ]
  },
  {
   "cell_type": "markdown",
   "id": "d1b9f217",
   "metadata": {},
   "source": [
    "## Data Context\n",
    "\n",
    "- `lim_a`: absolute limit for coefficient $a$ (excluding).\n",
    "- `lim_b`: absolute limit for coefficient $b$ (including).\n",
    "\n",
    "Before reading the solution below, try solving the problem yourself and compare your approach and results."
   ]
  },
  {
   "cell_type": "markdown",
   "id": "8af43551",
   "metadata": {},
   "source": [
    "## Systematic Search for Quadratic Prime-Generating Coefficients\n",
    "\n",
    "The approach consists of two main steps: first, efficiently determining whether a given number is prime by checking divisibility up to its square root; second, systematically evaluating all possible combinations of coefficients within specified bounds. For each combination, the process counts how many consecutive integer inputs yield prime outputs before encountering a non-prime result. The combination that produces the longest sequence is identified, and its relevant properties are reported."
   ]
  },
  {
   "cell_type": "markdown",
   "id": "54c66571",
   "metadata": {},
   "source": [
    "## Final Result\n",
    "\n",
    "For `lim_a=1000` and `lim_b=1000`, the correct result is:\n",
    "\n",
    "**-59231**\n",
    "\n",
    "---\n",
    "\n",
    "&copy; Byron Velasco, 2025"
   ]
  }
 ],
 "metadata": {
  "language_info": {
   "name": "python"
  }
 },
 "nbformat": 4,
 "nbformat_minor": 5
}
