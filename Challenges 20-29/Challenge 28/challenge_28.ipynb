{
 "cells": [
  {
   "cell_type": "markdown",
   "id": "5958103a",
   "metadata": {},
   "source": [
    "# **Challenge 28**\n",
    "## **Efficient Calculation of Diagonal Sums in a Square Spiral Using Corner Patterns**\n",
    "The approach calculates the sum of the numbers on the diagonals in a square spiral by recognizing a pattern in the corner values of each concentric layer. Starting from the center, each new layer forms a square with an odd side length, and the values at the four corners of each layer can be determined mathematically. By iteratively adding the sum of these corner values for each layer, the total diagonal sum is efficiently computed without constructing the entire spiral."
   ]
  },
  {
   "cell_type": "code",
   "execution_count": null,
   "id": "31e6e591",
   "metadata": {},
   "outputs": [],
   "source": [
    "def spiral_diagonal_sum(n):\n",
    "\t# Initialize the total with the center value of the spiral (which is always 1)\n",
    "\ttotal = 1\n",
    "\t# Iterate over each layer of the spiral (side lengths are odd numbers from 3 to n)\n",
    "\tfor side_length in range(3, n + 1, 2):\n",
    "\t\t# Calculate the sum of the four corners of the current layer\n",
    "\t\ttotal += 4 * side_length * side_length - 6 * (side_length - 1)\n",
    "\t# Return the total sum of the numbers on the diagonals\n",
    "\treturn total"
   ]
  },
  {
   "cell_type": "markdown",
   "id": "195ef3d4",
   "metadata": {},
   "source": [
    "### **Example Usage and Output**"
   ]
  },
  {
   "cell_type": "code",
   "execution_count": 7,
   "id": "910f9f3b",
   "metadata": {},
   "outputs": [
    {
     "name": "stdout",
     "output_type": "stream",
     "text": [
      "The sum of the numbers on the diagonals in a 1001x1001 spiral is: 669171001\n"
     ]
    }
   ],
   "source": [
    "n = 1001\n",
    "total = spiral_diagonal_sum(n)\n",
    "print(f'The sum of the numbers on the diagonals in a {n}x{n} spiral is: {total}')"
   ]
  }
 ],
 "metadata": {
  "kernelspec": {
   "display_name": "Python 3",
   "language": "python",
   "name": "python3"
  },
  "language_info": {
   "codemirror_mode": {
    "name": "ipython",
    "version": 3
   },
   "file_extension": ".py",
   "mimetype": "text/x-python",
   "name": "python",
   "nbconvert_exporter": "python",
   "pygments_lexer": "ipython3",
   "version": "3.13.4"
  }
 },
 "nbformat": 4,
 "nbformat_minor": 5
}
