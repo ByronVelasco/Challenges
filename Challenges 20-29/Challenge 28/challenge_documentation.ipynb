{
 "cells": [
  {
   "cell_type": "markdown",
   "id": "c45f42cf",
   "metadata": {},
   "source": [
    "# Challenge 28 – Number Spiral Diagonals\n",
    "\n",
    "For this challenge, the objective is **to find the sum of the numbers on the diagonals in a number spiral of size `n x n`**.\n",
    "\n",
    "The number spiral is constructed by starting with the number 1 in the center and spiraling outwards in a clockwise direction. Por ejemplo, for a 5x5 spiral, the numbers would be arranged as follows:\n",
    "\n",
    "```plaintext\n",
    "                                          21 22 23 24 25\n",
    "                                          20  7  8  9 10\n",
    "                                          19  6  1  2 11\n",
    "                                          18  5  4  3 12\n",
    "                                          17 16 15 14 13\n",
    "```"
   ]
  },
  {
   "cell_type": "markdown",
   "id": "c26f6e99",
   "metadata": {},
   "source": [
    "## Problem Statement\n",
    "\n",
    "**Task:**  \n",
    "Find the sum of the numbers on the diagonals in a number spiral of size `1001 x 1001`."
   ]
  },
  {
   "cell_type": "markdown",
   "id": "d1b9f217",
   "metadata": {},
   "source": [
    "## Data Context\n",
    "\n",
    "- `n`: odd positive integer representing the size of the spiral.\n",
    "\n",
    "Before reading the solution below, try solving the problem yourself and compare your approach and results."
   ]
  },
  {
   "cell_type": "markdown",
   "id": "8af43551",
   "metadata": {},
   "source": [
    "## Efficient Calculation of Diagonal Sums in a Square Spiral Using Corner Patterns\n",
    "\n",
    "In a square spiral of size $n \\times n$ (where $n$ is odd), the numbers are arranged starting from 1 at the center and spiraling outward in a clockwise direction. Each concentric layer forms a square with an odd side length. For any layer with side length $k$, the four corners of the square can be expressed as:\n",
    "\\begin{align*}\n",
    "\\text{Top-right corner:} & \\quad k^2 \\\\\n",
    "\\text{Top-left corner:} & \\quad k^2 - (k - 1) \\\\\n",
    "\\text{Bottom-left corner:} & \\quad k^2 - 2(k - 1) \\\\\n",
    "\\text{Bottom-right corner:} & \\quad k^2 - 3(k - 1)\n",
    "\\end{align*}\n",
    "\n",
    "The sum of the corners for each layer is:\n",
    "$$\n",
    "4k^2 - 6(k - 1)\n",
    "$$\n",
    "\n",
    "By summing these corner values for all odd $k$ from 3 up to $n$, and adding the center value (which is always 1), one obtains the total sum of the numbers on the diagonals of the spiral."
   ]
  },
  {
   "cell_type": "markdown",
   "id": "54c66571",
   "metadata": {},
   "source": [
    "## Final Result\n",
    "\n",
    "For `n=1001`, the correct result is:\n",
    "\n",
    "**669171001**\n",
    "\n",
    "---\n",
    "\n",
    "&copy; Byron Velasco, 2025"
   ]
  }
 ],
 "metadata": {
  "language_info": {
   "name": "python"
  }
 },
 "nbformat": 4,
 "nbformat_minor": 5
}
