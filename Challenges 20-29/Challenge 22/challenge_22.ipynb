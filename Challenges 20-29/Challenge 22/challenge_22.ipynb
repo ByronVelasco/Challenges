{
 "cells": [
  {
   "cell_type": "markdown",
   "id": "5958103a",
   "metadata": {},
   "source": [
    "# **Challenge 22**\n",
    "## **Processing and Scoring Names from a Text File**\n",
    "This approach involves reading the text file, which contains a list of names separated by commas and enclosed in double quotes. It then splits the string by commas and removes the surrounding quotes from each name, resulting in a Python list where each element is a clean name string. To make sure the names are in the same format, they are converted to uppercase.\n",
    "\n",
    "Then, all names are arranged in alphabetical order. For each name, an alphabetical value is calculated by summing the positions of its letters in the alphabet (A=1, B=2, etc.). Each name's score is then determined by multiplying its alphabetical value by its position in the sorted list (starting from 1). The final result is obtained by summing the scores of all names."
   ]
  },
  {
   "cell_type": "code",
   "execution_count": 9,
   "id": "8a3f2e61",
   "metadata": {},
   "outputs": [],
   "source": [
    "def names_scores(file_path):\n",
    "\t# Read the file contents\n",
    "\twith open(file_path, \"r\") as f:\n",
    "\t\tcontent = f.read()\n",
    "\n",
    "\t# Split the string by commas and strip the quotes from each name\n",
    "\tnames = [name.strip('\"').upper() for name in content.split(\",\")]\n",
    "\t# Sort the names alphabetically\n",
    "\tnames.sort()\n",
    "\n",
    "\t# Calculate the total score by summing each name's alphabetical value times its position\n",
    "\ttotal_score = 0\n",
    "\tfor index, name in enumerate(names):\n",
    "\t\t# Calculate the alphabetical value of the name (A=1, B=2, ...)\n",
    "\t\tname_value = sum(ord(char) - ord('A') + 1 for char in name)\n",
    "\t\t# Multiply by the name's position (starting from 1)\n",
    "\t\ttotal_score += (index + 1) * name_value\n",
    "\n",
    "\treturn total_score"
   ]
  },
  {
   "cell_type": "markdown",
   "id": "d41129c3",
   "metadata": {},
   "source": [
    "### **Example Usage and Output**"
   ]
  },
  {
   "cell_type": "code",
   "execution_count": 10,
   "id": "784ebc9c",
   "metadata": {},
   "outputs": [
    {
     "name": "stdout",
     "output_type": "stream",
     "text": [
      "The total of all the name scores in the file is: 871198282\n"
     ]
    }
   ],
   "source": [
    "file_path = \"0022_names.txt\"\n",
    "total_score = names_scores(file_path)\n",
    "print(f'The total of all the name scores in the file is: {total_score}')"
   ]
  }
 ],
 "metadata": {
  "kernelspec": {
   "display_name": "Python 3",
   "language": "python",
   "name": "python3"
  },
  "language_info": {
   "codemirror_mode": {
    "name": "ipython",
    "version": 3
   },
   "file_extension": ".py",
   "mimetype": "text/x-python",
   "name": "python",
   "nbconvert_exporter": "python",
   "pygments_lexer": "ipython3",
   "version": "3.13.4"
  }
 },
 "nbformat": 4,
 "nbformat_minor": 5
}
