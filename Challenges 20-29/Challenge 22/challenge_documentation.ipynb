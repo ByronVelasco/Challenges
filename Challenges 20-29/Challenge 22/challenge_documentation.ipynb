{
 "cells": [
  {
   "cell_type": "markdown",
   "id": "c45f42cf",
   "metadata": {},
   "source": [
    "# Challenge 22 – Names Scores\n",
    "\n",
    "In this challenge, the objective is **to calculate the score of names based on their alphabetical position**. For example, the name \"COLIN\" is worth $3+15+12+9+14 = 53$, and it is the 938th name in alphabetical order in the list of names. The final score for \"COLIN\" is $938 \\times 53 = 49714$."
   ]
  },
  {
   "cell_type": "markdown",
   "id": "c26f6e99",
   "metadata": {},
   "source": [
    "## Problem Statement\n",
    "\n",
    "**Task:**  \n",
    "Compute the total score of all names in a given text file."
   ]
  },
  {
   "cell_type": "markdown",
   "id": "d1b9f217",
   "metadata": {},
   "source": [
    "## Data Context\n",
    "\n",
    "- `file_path`: The path to the text file containing the names. The file must follow these requirements:\n",
    "  - It contains only names separated by commas.\n",
    "  - Each name consists solely of letters.\n",
    "  - There are no extra characters, whitespace, or lines in the file.\n",
    "\n",
    "Before reading the solution below, try solving the problem yourself and compare your approach and results."
   ]
  },
  {
   "cell_type": "markdown",
   "id": "d4697042",
   "metadata": {},
   "source": [
    "## Processing and Scoring Names from a Text File\n",
    "\n",
    "This approach involves reading the text file, which contains a list of names separated by commas and enclosed in double quotes. It then splits the string by commas and removes the surrounding quotes from each name, resulting in a Python list where each element is a clean name string. To make sure the names are in the same format, they are converted to uppercase.\n",
    "\n",
    "Then, all names are arranged in alphabetical order. For each name, an alphabetical value is calculated by summing the positions of its letters in the alphabet (A=1, B=2, etc.). Each name's score is then determined by multiplying its alphabetical value by its position in the sorted list (starting from 1). The final result is obtained by summing the scores of all names."
   ]
  },
  {
   "cell_type": "markdown",
   "id": "54c66571",
   "metadata": {},
   "source": [
    "## Final Result\n",
    "\n",
    "For `file_path=\"0022_names.txt\"`, the correct result is:\n",
    "\n",
    "**871198282**\n",
    "\n",
    "---\n",
    "\n",
    "&copy; Byron Velasco, 2025"
   ]
  }
 ],
 "metadata": {
  "language_info": {
   "name": "python"
  }
 },
 "nbformat": 4,
 "nbformat_minor": 5
}
