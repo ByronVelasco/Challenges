{
 "cells": [
  {
   "cell_type": "markdown",
   "id": "c45f42cf",
   "metadata": {},
   "source": [
    "# Challenge 29 – Distinct Powers\n",
    "\n",
    "For this challenge, the objective is **to calculate the number of distinct powers of the form $a^b$ for given ranges of `a` and `b`.**"
   ]
  },
  {
   "cell_type": "markdown",
   "id": "c26f6e99",
   "metadata": {},
   "source": [
    "## Problem Statement\n",
    "\n",
    "**Task:**  \n",
    "Find the number of distinct values of $a^b$ for $2 \\leq a \\leq 100$ and $2 \\leq b \\leq 100$`."
   ]
  },
  {
   "cell_type": "markdown",
   "id": "d1b9f217",
   "metadata": {},
   "source": [
    "## Data Context\n",
    "\n",
    "- `a`: integer number greater than or equal to 2.\n",
    "- `b`: integer number greater than or equal to 2.\n",
    "\n",
    "Before reading the solution below, try solving the problem yourself and compare your approach and results."
   ]
  },
  {
   "cell_type": "markdown",
   "id": "8af43551",
   "metadata": {},
   "source": [
    "## Counting Unique Integer Powers by Generating All Base-Exponent Combinations\n",
    "\n",
    "The approach involves generating all possible combinations of integer bases and exponents within specified ranges. For each combination, the corresponding power is calculated and stored in a set to ensure uniqueness. After all combinations have been processed, the total number of unique results is determined by counting the elements in the set.\n",
    "\n",
    "Since each power can be expressed as $a^n = a \\times a^{n-1}$, we can take advantage of previously computed powers by calculating each new power through multiplication. This approach effectively uses a form of memory, making it more optimal than using the power operator (`**`), especially for larger numbers."
   ]
  },
  {
   "cell_type": "markdown",
   "id": "54c66571",
   "metadata": {},
   "source": [
    "## Final Result\n",
    "\n",
    "For `a=100` and `b=100`, the correct result is:\n",
    "\n",
    "**9183**\n",
    "\n",
    "---\n",
    "\n",
    "&copy; Byron Velasco, 2025"
   ]
  }
 ],
 "metadata": {
  "language_info": {
   "name": "python"
  }
 },
 "nbformat": 4,
 "nbformat_minor": 5
}
