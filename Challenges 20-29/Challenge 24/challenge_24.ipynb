{
 "cells": [
  {
   "cell_type": "markdown",
   "id": "5958103a",
   "metadata": {},
   "source": [
    "# **Challenge 24**\n",
    "## **Brute Force Lexicographic Permutation Generation and Selection**\n",
    "This approach generates all possible unique permutations of a given sequence and arranges them in lexicographic (dictionary) order. After sorting, the desired permutation is selected based on its position in this ordered list. This method ensures that the result corresponds exactly to the specified lexicographic rank."
   ]
  },
  {
   "cell_type": "code",
   "execution_count": 3,
   "id": "2955cf04",
   "metadata": {},
   "outputs": [],
   "source": [
    "from itertools import permutations\n",
    "\n",
    "def ith_lexicographic_permutation(s, i):\n",
    "\t# Generate all unique permutations and sort them lexicographically\n",
    "\tperms = sorted([''.join(p) for p in permutations(s)])\n",
    "\t# Return the (i-1)th permutation\n",
    "\treturn perms[i - 1]"
   ]
  },
  {
   "cell_type": "markdown",
   "id": "d41129c3",
   "metadata": {},
   "source": [
    "### **Example Usage and Output**"
   ]
  },
  {
   "cell_type": "code",
   "execution_count": 4,
   "id": "784ebc9c",
   "metadata": {},
   "outputs": [
    {
     "name": "stdout",
     "output_type": "stream",
     "text": [
      "The 1000000th lexicographic permutation of 0123456789 is: 2783915460\n"
     ]
    }
   ],
   "source": [
    "s = '0123456789'\n",
    "i = 1000000\n",
    "result = ith_lexicographic_permutation(s, i)\n",
    "print(f'The {i}th lexicographic permutation of {s} is: {result}')"
   ]
  },
  {
   "cell_type": "markdown",
   "id": "f0f559fe",
   "metadata": {},
   "source": [
    "## **Efficient Lexicographic Permutation Selection Without Full Generation**\n",
    "This approach efficiently determines the lexicographic permutation at a specific position without generating all possible permutations. It works by iteratively selecting each character for the result based on the number of permutations that can be formed with the remaining characters. At each step, it calculates the appropriate index by dividing the target position by the factorial of the remaining length, selects the character at that index, removes it from the pool, and updates the position accordingly. This process continues until all characters are selected, resulting in the desired permutation."
   ]
  },
  {
   "cell_type": "code",
   "execution_count": 5,
   "id": "d5a12757",
   "metadata": {},
   "outputs": [],
   "source": [
    "from math import factorial\n",
    "\n",
    "def ith_lexicographic_permutation_optimized(s, i):\n",
    "\t# Sort the input to ensure permutations are in lexicographic order\n",
    "\ts = sorted(s)\n",
    "\tn = len(s)\n",
    "\tresult = []\n",
    "\ti -= 1  # Convert to zero-based index for calculation\n",
    "\n",
    "\t# Construct the permutation one character at a time\n",
    "\twhile n > 0:\n",
    "\t\tn -= 1\n",
    "\t\tfact = factorial(n)  # Number of permutations for the remaining characters\n",
    "\t\tindex = i // fact    # Determine which character to pick next\n",
    "\t\tresult.append(s[index])  # Append the selected character to the result\n",
    "\t\ts.pop(index)             # Remove the used character from the list\n",
    "\t\ti %= fact                # Update i for the next position\n",
    "\n",
    "\t# Join the list of characters into a string and return\n",
    "\treturn ''.join(result)"
   ]
  },
  {
   "cell_type": "markdown",
   "id": "195ef3d4",
   "metadata": {},
   "source": [
    "### **Example Usage and Output**"
   ]
  },
  {
   "cell_type": "code",
   "execution_count": 8,
   "id": "910f9f3b",
   "metadata": {},
   "outputs": [
    {
     "name": "stdout",
     "output_type": "stream",
     "text": [
      "The 1000000th lexicographic permutation of 0123456789 is: 2783915460\n"
     ]
    }
   ],
   "source": [
    "s = '0123456789'\n",
    "i = 1000000\n",
    "result = ith_lexicographic_permutation_optimized(s, i)\n",
    "print(f'The {i}th lexicographic permutation of {s} is: {result}')"
   ]
  }
 ],
 "metadata": {
  "kernelspec": {
   "display_name": "Python 3",
   "language": "python",
   "name": "python3"
  },
  "language_info": {
   "codemirror_mode": {
    "name": "ipython",
    "version": 3
   },
   "file_extension": ".py",
   "mimetype": "text/x-python",
   "name": "python",
   "nbconvert_exporter": "python",
   "pygments_lexer": "ipython3",
   "version": "3.13.4"
  }
 },
 "nbformat": 4,
 "nbformat_minor": 5
}
