{
 "cells": [
  {
   "cell_type": "markdown",
   "id": "c45f42cf",
   "metadata": {},
   "source": [
    "# Challenge 24 – Lexicographic Permutations\n",
    "\n",
    "For this challenge, the objective is **to find the i-th lexicographic permutation of a given set of digits**."
   ]
  },
  {
   "cell_type": "markdown",
   "id": "c26f6e99",
   "metadata": {},
   "source": [
    "## Problem Statement\n",
    "\n",
    "**Task:**  \n",
    "Find the 1000000th lexicographic permutation of the digits 0 to 9."
   ]
  },
  {
   "cell_type": "markdown",
   "id": "d1b9f217",
   "metadata": {},
   "source": [
    "## Data Context\n",
    "\n",
    "- `s`: A string containing the digits to permute.\n",
    "- `i`: An integer representing the index of the permutation to find (1-based).\n",
    "\n",
    "Before reading the solution below, try solving the problem yourself and compare your approach and results."
   ]
  },
  {
   "cell_type": "markdown",
   "id": "d4697042",
   "metadata": {},
   "source": [
    "## Brute Force Lexicographic Permutation Generation and Selection\n",
    "\n",
    "This approach generates all possible unique permutations of a given sequence and arranges them in lexicographic (dictionary) order. After sorting, the desired permutation is selected based on its position in this ordered list. This method ensures that the result corresponds exactly to the specified lexicographic rank."
   ]
  },
  {
   "cell_type": "markdown",
   "id": "652cc953",
   "metadata": {},
   "source": [
    "## Efficient Lexicographic Permutation Selection Without Full Generation\n",
    "\n",
    "Given a set of *n* distinct elements, the total number of possible permutations is *n!* (n factorial). To determine the element at a specific lexicographic position without generating all permutations, the following principles are used:\n",
    "\n",
    "1. **Permutation Blocks**:  \n",
    "\tThe first element of the permutation determines a block of permutations. Each unique first element corresponds to a block of size *(n-1)!*, representing all permutations of the remaining elements.\n",
    "\n",
    "2. **Block Indexing**:  \n",
    "\tTo find the element at a given position, divide the target position (zero-based) by *(n-1)!*. The quotient gives the index of the element to select as the next character in the permutation.\n",
    "\n",
    "3. **Recursive Reduction**:  \n",
    "\tAfter selecting an element, remove it from the set and update the target position to the remainder of the division. Repeat the process with the reduced set and updated position.\n",
    "\n",
    "4. **Termination**:  \n",
    "\tContinue this process until all elements have been selected, resulting in the desired permutation.\n",
    "\n",
    "This approach efficiently constructs the permutation corresponding to any lexicographic rank."
   ]
  },
  {
   "cell_type": "markdown",
   "id": "54c66571",
   "metadata": {},
   "source": [
    "## Final Result\n",
    "\n",
    "For `s='0123456789'` and `i=1000000`, the correct result is:\n",
    "\n",
    "**2783915460**\n",
    "\n",
    "---\n",
    "\n",
    "*Challenge yourself: Try solving it using both methods and reflect on their differences in logic and efficiency!*\n",
    "\n",
    "&copy; Byron Velasco, 2025"
   ]
  }
 ],
 "metadata": {
  "language_info": {
   "name": "python"
  }
 },
 "nbformat": 4,
 "nbformat_minor": 5
}
