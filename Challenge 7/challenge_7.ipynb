{
 "cells": [
  {
   "cell_type": "markdown",
   "id": "5958103a",
   "metadata": {},
   "source": [
    "## **First approach**"
   ]
  },
  {
   "cell_type": "code",
   "execution_count": 26,
   "id": "563d5cfa",
   "metadata": {},
   "outputs": [],
   "source": [
    "def k_th_prime_number(k):\n",
    "  n = 2\n",
    "  i = 1\n",
    "  while i != k:\n",
    "    prime = True\n",
    "    n += 1\n",
    "    for j in range(2, n):\n",
    "      if n % j == 0:\n",
    "        prime = False\n",
    "        break\n",
    "    if prime:\n",
    "      i += 1\n",
    "  return n"
   ]
  },
  {
   "cell_type": "code",
   "execution_count": 27,
   "id": "60014725",
   "metadata": {},
   "outputs": [
    {
     "name": "stdout",
     "output_type": "stream",
     "text": [
      "104743\n"
     ]
    }
   ],
   "source": [
    "print(k_th_prime_number(10001))"
   ]
  },
  {
   "cell_type": "markdown",
   "id": "72499812",
   "metadata": {},
   "source": [
    "## **Optimal method**"
   ]
  },
  {
   "cell_type": "code",
   "execution_count": 24,
   "id": "52d8660b",
   "metadata": {},
   "outputs": [],
   "source": [
    "from math import sqrt\n",
    "\n",
    "def k_th_prime_number_optimal(k):\n",
    "  if k == 1:\n",
    "     return 2\n",
    "  n = 3\n",
    "  i = 2\n",
    "  while i != k:\n",
    "    prime = True\n",
    "    n += 2\n",
    "    for j in range(3, int(sqrt(n)+1), 2):\n",
    "      if n % j == 0:\n",
    "        prime = False\n",
    "        break\n",
    "    if prime:\n",
    "      i += 1\n",
    "  return n"
   ]
  },
  {
   "cell_type": "code",
   "execution_count": 25,
   "id": "fe204846",
   "metadata": {},
   "outputs": [
    {
     "name": "stdout",
     "output_type": "stream",
     "text": [
      "104743\n"
     ]
    }
   ],
   "source": [
    "print(k_th_prime_number_optimal(10001))"
   ]
  },
  {
   "cell_type": "markdown",
   "id": "66e279ce",
   "metadata": {},
   "source": [
    "## **Correctness**"
   ]
  },
  {
   "cell_type": "code",
   "execution_count": 29,
   "id": "1bfeb0cc",
   "metadata": {},
   "outputs": [
    {
     "name": "stdout",
     "output_type": "stream",
     "text": [
      "Both algorithms get the same results.\n"
     ]
    }
   ],
   "source": [
    "m = 1000\n",
    "test = True\n",
    "for n in range(1, m+1):\n",
    "  if k_th_prime_number(n) != k_th_prime_number_optimal(n):\n",
    "    print('The algorithms get different results')\n",
    "    test = False\n",
    "    break\n",
    "if test:\n",
    "  print('Both algorithms get the same results.')"
   ]
  }
 ],
 "metadata": {
  "kernelspec": {
   "display_name": "Python 3",
   "language": "python",
   "name": "python3"
  },
  "language_info": {
   "codemirror_mode": {
    "name": "ipython",
    "version": 3
   },
   "file_extension": ".py",
   "mimetype": "text/x-python",
   "name": "python",
   "nbconvert_exporter": "python",
   "pygments_lexer": "ipython3",
   "version": "3.8.10"
  }
 },
 "nbformat": 4,
 "nbformat_minor": 5
}
