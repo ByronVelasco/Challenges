{
 "cells": [
  {
   "cell_type": "markdown",
   "id": "5958103a",
   "metadata": {},
   "source": [
    "## **Algorythm**"
   ]
  },
  {
   "cell_type": "code",
   "execution_count": null,
   "id": "27479eef",
   "metadata": {},
   "outputs": [],
   "source": [
    "from math import sqrt\n",
    "\n",
    "def is_prime(n):\n",
    "  if n == 2:\n",
    "    return True\n",
    "  for i in range(2, int(sqrt(n))+1):\n",
    "    if n % i == 0:\n",
    "      return False\n",
    "  return True\n",
    "\n",
    "def sum_primes_below_k(k):\n",
    "  if k == 2:\n",
    "    return 0\n",
    "  if k == 3:\n",
    "    return 2\n",
    "  sum = 2\n",
    "  for n in range(3, k, 2):\n",
    "    if is_prime(n):\n",
    "      sum += n\n",
    "  return sum"
   ]
  },
  {
   "cell_type": "code",
   "execution_count": 16,
   "id": "4c21379d",
   "metadata": {},
   "outputs": [
    {
     "name": "stdout",
     "output_type": "stream",
     "text": [
      "142913828922\n"
     ]
    }
   ],
   "source": [
    "k=2000000\n",
    "print(sum_primes_below_k(k))"
   ]
  }
 ],
 "metadata": {
  "kernelspec": {
   "display_name": "Python 3",
   "language": "python",
   "name": "python3"
  },
  "language_info": {
   "codemirror_mode": {
    "name": "ipython",
    "version": 3
   },
   "file_extension": ".py",
   "mimetype": "text/x-python",
   "name": "python",
   "nbconvert_exporter": "python",
   "pygments_lexer": "ipython3",
   "version": "3.12.3"
  }
 },
 "nbformat": 4,
 "nbformat_minor": 5
}
