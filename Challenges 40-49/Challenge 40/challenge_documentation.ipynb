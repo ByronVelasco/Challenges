{
 "cells": [
  {
   "cell_type": "markdown",
   "id": "c45f42cf",
   "metadata": {},
   "source": [
    "# Challenge 40 – Champernowne's Constant\n",
    "\n",
    "The objective of this challenge is **to find the product of the digits at specific positions in Champernowne's constant**. The Champernowne's constant is formed by concatenating the positive integers: 0.12345678910111213..."
   ]
  },
  {
   "cell_type": "markdown",
   "id": "c26f6e99",
   "metadata": {},
   "source": [
    "## Problem Statement\n",
    "\n",
    "**Task:**  \n",
    "Find the product of the digits at the following positions in Champernowne's constant: 1, 10, 100, 1000, 10000, 100000, and 1000000."
   ]
  },
  {
   "cell_type": "markdown",
   "id": "d1b9f217",
   "metadata": {},
   "source": [
    "## Data Context\n",
    "\n",
    "- `targets`: A list of positions in Champernowne's constant for which the corresponding digits are to be extracted.\n",
    "\n",
    "Before reading the solution below, try solving the problem yourself and compare your approach and results."
   ]
  },
  {
   "cell_type": "markdown",
   "id": "859516fc",
   "metadata": {},
   "source": [
    "## Mathematical Fundamentals of Digit Extraction from Champernowne's Constant\n",
    "\n",
    "To find the digit at a specific position, it is necessary to determine which integer contributes that digit. This involves calculating the range of positions covered by numbers with the same number of digits (e.g., 1-digit, 2-digit, etc.), and then identifying the exact number and digit within that number.\n",
    "\n",
    "The process begins by segmenting the sequence into blocks based on the number of digits. For example, the first 9 digits come from single-digit numbers, the next 180 digits from two-digit numbers, and so on. By subtracting the size of each block from the target position, one can locate the block containing the desired digit.\n",
    "Once the block is identified, the position within the block is used to determine the specific integer and the digit within that integer. This approach allows efficient access to any digit in the constant without generating the entire sequence, relying on arithmetic properties of number ranges and positional indexing."
   ]
  },
  {
   "cell_type": "markdown",
   "id": "54c66571",
   "metadata": {},
   "source": [
    "## Final Result\n",
    "\n",
    "For `targets = [1, 10, 100, 1000, 10000, 100000, 1000000]`, the solution is:\n",
    "\n",
    "**210**\n",
    "\n",
    "---\n",
    "\n",
    "&copy; Byron Velasco, 2025"
   ]
  }
 ],
 "metadata": {
  "language_info": {
   "name": "python"
  }
 },
 "nbformat": 4,
 "nbformat_minor": 5
}
