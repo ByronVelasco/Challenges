{
 "cells": [
  {
   "cell_type": "markdown",
   "id": "5958103a",
   "metadata": {},
   "source": [
    "# **Challenge 40**\n",
    "## **Mathematical Fundamentals of Digit Extraction from Champernowne's Constant**\n",
    "\n",
    "To find the digit at a specific position, it is necessary to determine which integer contributes that digit. This involves calculating the range of positions covered by numbers with the same number of digits (e.g., 1-digit, 2-digit, etc.), and then identifying the exact number and digit within that number.\n",
    "\n",
    "The process begins by segmenting the sequence into blocks based on the number of digits. For example, the first 9 digits come from single-digit numbers, the next 180 digits from two-digit numbers, and so on. By subtracting the size of each block from the target position, one can locate the block containing the desired digit.\n",
    "Once the block is identified, the position within the block is used to determine the specific integer and the digit within that integer. This approach allows efficient access to any digit in the constant without generating the entire sequence, relying on arithmetic properties of number ranges and positional indexing."
   ]
  },
  {
   "cell_type": "code",
   "execution_count": null,
   "id": "a10b78b4",
   "metadata": {},
   "outputs": [],
   "source": [
    "def champernowne_digit(n: int) -> int:\n",
    "  \"\"\"\n",
    "  Returns the nth digit in Champernowne's constant.\n",
    "  \"\"\"\n",
    "  length = 1          # Current digit length of numbers being considered (1 for 1-9, 2 for 10-99, etc.)\n",
    "  count = 9           # Number of numbers with current digit length\n",
    "  start = 1           # Starting number for current digit length\n",
    "  \n",
    "  # Find the block (digit length) where the nth digit is located\n",
    "  while n > length * count:\n",
    "    n -= length * count      # Skip all digits in the current block\n",
    "    length += 1              # Move to next digit length\n",
    "    count *= 10              # Update count for next block\n",
    "    start *= 10              # Update starting number for next block\n",
    "  \n",
    "  # Find the exact number and digit within the block\n",
    "  index_in_block = (n - 1) // length   # Which number in the block\n",
    "  number = start + index_in_block      # The actual number containing the digit\n",
    "  digit_index = (n - 1) % length      # Which digit in the number\n",
    "  return int(str(number)[digit_index]) # Return the digit as integer\n",
    "\n",
    "def solve(targets):\n",
    "  \"\"\"\n",
    "  Given a list of positions, finds the digit at each position in Champernowne's constant,\n",
    "  then returns the product of these digits.\n",
    "  \"\"\"\n",
    "  digits = [champernowne_digit(n) for n in targets] # Get digits at specified positions\n",
    "  product = 1\n",
    "  for d in digits:\n",
    "    product *= d\n",
    "  return product"
   ]
  },
  {
   "cell_type": "markdown",
   "id": "6ac897d1",
   "metadata": {},
   "source": [
    "### **Example Usage and Output**"
   ]
  },
  {
   "cell_type": "code",
   "execution_count": 2,
   "id": "1ecd49ce",
   "metadata": {},
   "outputs": [
    {
     "name": "stdout",
     "output_type": "stream",
     "text": [
      "Product of digits at positions [1, 10, 100, 1000, 10000, 100000, 1000000] is: 210\n"
     ]
    }
   ],
   "source": [
    "targets = [1, 10, 100, 1000, 10000, 100000, 1000000]\n",
    "product = solve(targets)\n",
    "print(f\"Product of digits at positions {targets} is: {product}\")"
   ]
  }
 ],
 "metadata": {
  "kernelspec": {
   "display_name": "Python 3",
   "language": "python",
   "name": "python3"
  },
  "language_info": {
   "codemirror_mode": {
    "name": "ipython",
    "version": 3
   },
   "file_extension": ".py",
   "mimetype": "text/x-python",
   "name": "python",
   "nbconvert_exporter": "python",
   "pygments_lexer": "ipython3",
   "version": "3.13.6"
  }
 },
 "nbformat": 4,
 "nbformat_minor": 5
}
