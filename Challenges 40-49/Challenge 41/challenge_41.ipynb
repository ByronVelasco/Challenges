{
 "cells": [
  {
   "cell_type": "markdown",
   "id": "5958103a",
   "metadata": {},
   "source": [
    "# **Challenge 41**\n",
    "## **Mathematical Fundamentals of Finding the Largest Pandigital Prime**\n",
    "\n",
    "A key mathematical insight is that the sum of the digits in a pandigital number determines its divisibility by 3. For example, the sum of the digits in 9, 8, 6 and 3-digit pandigital numbers is always divisible by 3, making these numbers composite. Therefore, only pandigital numbers with 7 or fewer digits need to be considered.\n",
    "\n",
    "The process involves generating all permutations of the digits for each valid n, converting each permutation into an integer, and checking for primality. Numbers divisible by 2 or 5 are immediately excluded, as they cannot be prime. The search is performed in descending order of n to ensure the largest prime is found first.\n",
    "\n",
    "This approach combines combinatorial generation of pandigital numbers with number theory properties, optimizing the search by eliminating cases that are guaranteed to be composite due to digit sum divisibility rules."
   ]
  },
  {
   "cell_type": "code",
   "execution_count": null,
   "id": "a10b78b4",
   "metadata": {},
   "outputs": [],
   "source": [
    "from itertools import permutations\n",
    "import math\n",
    "\n",
    "def is_prime(n: int) -> bool:\n",
    "  \"\"\"\n",
    "  Checks if a number is prime using trial division.\n",
    "  Handles small cases and uses 6k +/- 1 optimization for efficiency.\n",
    "  \"\"\"\n",
    "  if n < 2:\n",
    "    return False  # Numbers less than 2 are not prime\n",
    "  if n % 2 == 0:\n",
    "    return n == 2  # 2 is the only even prime\n",
    "  if n % 3 == 0:\n",
    "    return n == 3  # 3 is prime, other multiples of 3 are not\n",
    "  r = int(math.isqrt(n))  # Only check up to the square root of n\n",
    "  f = 5\n",
    "  while f <= r:\n",
    "    # Check divisibility by f and f+2\n",
    "    if n % f == 0 or n % (f + 2) == 0:\n",
    "      return False\n",
    "    f += 6\n",
    "  return True\n",
    "\n",
    "def largest_pandigital_prime() -> int:\n",
    "  \"\"\"\n",
    "  Finds the largest n-digit pandigital prime.\n",
    "  Iterates over n from 7 down to 1, generates all n-digit pandigital numbers,\n",
    "  and returns the largest one that is prime.\n",
    "  \"\"\"\n",
    "  \n",
    "  # We avoid 9, 8, 6 and 3 because the sum of the digits hold the property of divisibility by 3\n",
    "  for n in [7, 5, 4, 2, 1]:\n",
    "    digits = ''.join(str(d) for d in range(n, 0, -1))  # Create string of digits n to 1\n",
    "    for p in permutations(digits):\n",
    "      num = int(''.join(p))  # Convert permutation to integer\n",
    "      # Skip numbers divisible by 2 or 5 (not prime)\n",
    "      if num % 2 == 0 or num % 5 == 0:\n",
    "        continue\n",
    "      if is_prime(num):\n",
    "        return num  # Return the first (largest) pandigital prime found\n",
    "  return -1  # If no pandigital prime is found"
   ]
  },
  {
   "cell_type": "markdown",
   "id": "6ac897d1",
   "metadata": {},
   "source": [
    "### **Example Usage and Output**"
   ]
  },
  {
   "cell_type": "code",
   "execution_count": 4,
   "id": "1ecd49ce",
   "metadata": {},
   "outputs": [
    {
     "name": "stdout",
     "output_type": "stream",
     "text": [
      "The largest n-digit pandigital prime is: 7652413\n"
     ]
    }
   ],
   "source": [
    "result = largest_pandigital_prime()\n",
    "print(f\"The largest n-digit pandigital prime is: {result}\")"
   ]
  }
 ],
 "metadata": {
  "kernelspec": {
   "display_name": "Python 3",
   "language": "python",
   "name": "python3"
  },
  "language_info": {
   "codemirror_mode": {
    "name": "ipython",
    "version": 3
   },
   "file_extension": ".py",
   "mimetype": "text/x-python",
   "name": "python",
   "nbconvert_exporter": "python",
   "pygments_lexer": "ipython3",
   "version": "3.13.6"
  }
 },
 "nbformat": 4,
 "nbformat_minor": 5
}
