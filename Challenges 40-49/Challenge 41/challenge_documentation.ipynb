{
 "cells": [
  {
   "cell_type": "markdown",
   "id": "c45f42cf",
   "metadata": {},
   "source": [
    "# Challenge 41 – Pandigital Prime\n",
    "\n",
    "The objective of this challenge is **to find the largest n-digit pandigital prime**. A pandigital number is an integer that contains each digit from 1 to n exactly once. For example, 2143 is a 4-digit pandigital number."
   ]
  },
  {
   "cell_type": "markdown",
   "id": "c26f6e99",
   "metadata": {},
   "source": [
    "## Problem Statement\n",
    "\n",
    "**Task:**  \n",
    "Find the largest n-digit pandigital prime."
   ]
  },
  {
   "cell_type": "markdown",
   "id": "859516fc",
   "metadata": {},
   "source": [
    "## Mathematical Fundamentals of Finding the Largest Pandigital Prime\n",
    "\n",
    "A key mathematical insight is that the sum of the digits in a pandigital number determines its divisibility by 3. For example, the sum of the digits in 9, 8, 6 and 3-digit pandigital numbers is always divisible by 3, making these numbers composite. Therefore, only pandigital numbers with 7 or fewer digits need to be considered.\n",
    "\n",
    "The process involves generating all permutations of the digits for each valid n, converting each permutation into an integer, and checking for primality. Numbers divisible by 2 or 5 are immediately excluded, as they cannot be prime. The search is performed in descending order of n to ensure the largest prime is found first.\n",
    "\n",
    "This approach combines combinatorial generation of pandigital numbers with number theory properties, optimizing the search by eliminating cases that are guaranteed to be composite due to digit sum divisibility rules."
   ]
  },
  {
   "cell_type": "markdown",
   "id": "54c66571",
   "metadata": {},
   "source": [
    "## Final Result\n",
    "\n",
    "The solution is:\n",
    "\n",
    "**7652413**\n",
    "\n",
    "---\n",
    "\n",
    "&copy; Byron Velasco, 2025"
   ]
  }
 ],
 "metadata": {
  "language_info": {
   "name": "python"
  }
 },
 "nbformat": 4,
 "nbformat_minor": 5
}
