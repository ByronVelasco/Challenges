{
 "cells": [
  {
   "cell_type": "markdown",
   "id": "5958103a",
   "metadata": {},
   "source": [
    "# **Challenge 42**\n",
    "## **Solving the Triangle Words Problem**\n",
    "This script solves the problem of counting how many words in a given list are triangle words. A triangle word is defined as a word whose alphabetical value (sum of the positions of its letters in the alphabet) is a triangular number.\n",
    "\n",
    "The process involves:\n",
    "1. Reading the list of words from a file formatted as a quoted CSV.\n",
    "2. Calculating the alphabetical value for each word.\n",
    "3. Checking if each value is a triangular number using a mathematical relationship with perfect squares.\n",
    "4. Summing the total number of words that meet the triangular number condition.\n",
    "\n",
    "The final output is the total count of triangle words found in the provided list."
   ]
  },
  {
   "cell_type": "code",
   "execution_count": null,
   "id": "a10b78b4",
   "metadata": {},
   "outputs": [],
   "source": [
    "from math import isqrt\n",
    "from pathlib import Path\n",
    "\n",
    "def word_value(w: str) -> int:\n",
    "  \"\"\"Sums the alphabetical positions (A=1,...,Z=26) of the word.\"\"\"\n",
    "  return sum((ord(c) - 64) for c in w.upper() if \"A\" <= c <= \"Z\")\n",
    "\n",
    "def is_triangle_number(t: int) -> bool:\n",
    "  \"\"\"\n",
    "  Checks if t is a triangle number by solving n(n+1)/2 = t.\n",
    "  t is triangular <=> (8t + 1) is a perfect square.\n",
    "  \"\"\"\n",
    "  if t <= 0:\n",
    "    return False\n",
    "  s = isqrt(8 * t + 1)\n",
    "  return s * s == 8 * t + 1 and (s - 1) % 2 == 0\n",
    "\n",
    "def parse_words_file(path: Path) -> list[str]:\n",
    "  \"\"\"\n",
    "  Euler's words.txt comes as a quoted CSV list:\n",
    "  \"WORD1\",\"WORD2\",...\n",
    "  \"\"\"\n",
    "  text = path.read_text(encoding=\"utf-8\").strip()\n",
    "  # Remove quotes and split by comma\n",
    "  return [w.strip('\"') for w in text.split(\",\") if w]\n",
    "\n",
    "def count_triangle_words(words: list[str]) -> int:\n",
    "  return sum(1 for w in words if is_triangle_number(word_value(w)))"
   ]
  },
  {
   "cell_type": "markdown",
   "id": "6ac897d1",
   "metadata": {},
   "source": [
    "### **Example Usage and Output**"
   ]
  },
  {
   "cell_type": "code",
   "execution_count": 3,
   "id": "1ecd49ce",
   "metadata": {},
   "outputs": [
    {
     "name": "stdout",
     "output_type": "stream",
     "text": [
      "The total number of triangle words is: 162\n"
     ]
    }
   ],
   "source": [
    "path = Path(\"words.txt\")\n",
    "words = parse_words_file(path)\n",
    "total = count_triangle_words(words)\n",
    "print(f\"The total number of triangle words is: {total}\")"
   ]
  }
 ],
 "metadata": {
  "kernelspec": {
   "display_name": "Python 3",
   "language": "python",
   "name": "python3"
  },
  "language_info": {
   "codemirror_mode": {
    "name": "ipython",
    "version": 3
   },
   "file_extension": ".py",
   "mimetype": "text/x-python",
   "name": "python",
   "nbconvert_exporter": "python",
   "pygments_lexer": "ipython3",
   "version": "3.13.6"
  }
 },
 "nbformat": 4,
 "nbformat_minor": 5
}
