{
 "cells": [
  {
   "cell_type": "markdown",
   "id": "c45f42cf",
   "metadata": {},
   "source": [
    "# Challenge 42 – Coded Triangle Numbers\n",
    "\n",
    "The objective of this challenge is **to find the total number of triangle words in a given list**. A triangle word is defined as a word whose alphabetical value (sum of the positions of its letters in the alphabet) is a triangular number. Recall, a triangle number $T$ is such that $T_n = \\frac{n(n+1)}{2}$ for some positive integer $n$."
   ]
  },
  {
   "cell_type": "markdown",
   "id": "c26f6e99",
   "metadata": {},
   "source": [
    "## Problem Statement\n",
    "\n",
    "**Task:**  \n",
    "Find the total number of triangle words in the provided list."
   ]
  },
  {
   "cell_type": "markdown",
   "id": "d1b9f217",
   "metadata": {},
   "source": [
    "## Data Context\n",
    "\n",
    "- `path`: Path to the `words.txt` file containing a list of words formatted as a quoted CSV. In order to run the script, it is mandatory the file to be present in the same directory as the script.\n",
    "\n",
    "Before reading the solution below, try solving the problem yourself and compare your approach and results."
   ]
  },
  {
   "cell_type": "markdown",
   "id": "859516fc",
   "metadata": {},
   "source": [
    "## Mathematical Explanation: Triangular Numbers and the Square Relationship\n",
    "A triangular number is a number that can be represented as a triangle with dots. The nth triangular number is given by:\n",
    "$$\n",
    "T_n = \\frac{n(n+1)}{2}\n",
    "$$\n",
    "\n",
    "To check if a given number is triangular, solve for n in:\n",
    "$$\n",
    "T = \\frac{n(n+1)}{2}\n",
    "$$\n",
    "Multiplying both sides by 2 gives:\n",
    "$$\n",
    "2T = n^2 + n\n",
    "$$\n",
    "Rearranging yields a quadratic equation:\n",
    "$$\n",
    "n^2 + n - 2T = 0\n",
    "$$\n",
    "The discriminant of this equation must be a perfect square for n to be an integer:\n",
    "$$\n",
    "\\Delta = 1 + 8T\n",
    "$$\n",
    "Thus, a number is triangular if and only if $8T + 1$ is a perfect square, and the resulting n is a positive integer. This provides an efficient way to check for triangular numbers using properties of perfect squares."
   ]
  },
  {
   "cell_type": "markdown",
   "id": "54c66571",
   "metadata": {},
   "source": [
    "## Final Result\n",
    "\n",
    "The solution is:\n",
    "\n",
    "**162**\n",
    "\n",
    "---\n",
    "\n",
    "&copy; Byron Velasco, 2025"
   ]
  }
 ],
 "metadata": {
  "language_info": {
   "name": "python"
  }
 },
 "nbformat": 4,
 "nbformat_minor": 5
}
