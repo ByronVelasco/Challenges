{
 "cells": [
  {
   "cell_type": "markdown",
   "id": "7ca9bad1",
   "metadata": {},
   "source": [
    "# **Challenge 7**\n",
    "## **Prime Number Search Using Square Root Optimization**\n",
    "In previous challenges, we used the fact that 2 is the only even prime number and that any composite number has at least one prime factor less than or equal to its square root. Building on these ideas, we can efficiently identify prime numbers by checking divisibility only up to the square root and skipping even numbers greater than 2. By counting primes in this way, we can find and return the k-th prime number."
   ]
  },
  {
   "cell_type": "code",
   "execution_count": 16,
   "id": "7219aad6",
   "metadata": {},
   "outputs": [],
   "source": [
    "from math import sqrt\n",
    "\n",
    "def k_th_prime_number(k):\n",
    "\t# Special case: the first prime number is 2\n",
    "\tif k == 1:\n",
    "\t\treturn 2\n",
    "\tn = 3           # Start checking from 3 (the next odd number after 2)\n",
    "\tk_th = 2        # Counter for how many primes have been found (2 is the second prime)\n",
    "\twhile k_th < k:\n",
    "\t\tn += 2      # Only check odd numbers (even numbers > 2 are not prime)\n",
    "\t\tis_prime = True\n",
    "\t\t# Check divisibility up to the square root of n\n",
    "\t\tfor i in range(2, int(sqrt(n)) + 1):\n",
    "\t\t\tif n % i == 0:\n",
    "\t\t\t\tis_prime = False\n",
    "\t\t\t\tbreak\n",
    "\t\t# If n is prime, increment the prime counter\n",
    "\t\tif is_prime:\n",
    "\t\t\tk_th += 1\n",
    "\t# Return the k-th prime number found\n",
    "\treturn n"
   ]
  },
  {
   "cell_type": "markdown",
   "id": "60abafcd",
   "metadata": {},
   "source": [
    "### **Example Usage and Output**"
   ]
  },
  {
   "cell_type": "code",
   "execution_count": 22,
   "id": "06dd17e3",
   "metadata": {},
   "outputs": [
    {
     "name": "stdout",
     "output_type": "stream",
     "text": [
      "The 10001th prime number is 104743.\n"
     ]
    }
   ],
   "source": [
    "k = 10001\n",
    "k_th = k_th_prime_number(k)\n",
    "print(f\"The {k}th prime number is {k_th}.\")"
   ]
  },
  {
   "cell_type": "markdown",
   "id": "72f0221e",
   "metadata": {},
   "source": [
    "## **Efficient Prime Search Using the Prime Number Theorem and Sieve of Eratosthenes**\n",
    "This approach estimates an upper bound for the desired prime using the prime number theorem, which relates the distribution of primes to logarithmic functions. It then creates a boolean array representing potential prime candidates up to this bound. Using the Sieve of Eratosthenes algorithm, it iteratively marks multiples of each found prime as non-prime, efficiently identifying all primes up to the estimated limit. The process continues until the required prime count is reached."
   ]
  },
  {
   "cell_type": "code",
   "execution_count": null,
   "id": "d06439c5",
   "metadata": {},
   "outputs": [],
   "source": [
    "from math import log\n",
    "\n",
    "def k_th_prime_number_optimized(k):\n",
    "\t# Special case: the first prime number is 2\n",
    "\tif k == 1:\n",
    "\t\treturn 2\n",
    "\t# Estimate an upper bound for the k-th prime using the prime number theorem\n",
    "\tif k < 6:\n",
    "\t\tupper = 15  # Small upper bound for small k\n",
    "\telse:\n",
    "\t\tupper = int(k * log(k) + k * log(log(k)))  # Estimate for larger k\n",
    "\n",
    "\t# Initialize the sieve for prime number generation\n",
    "\tsieve = [True] * (upper + 1)\n",
    "\tsieve[0:2] = [False, False]  # 0 and 1 are not primes\n",
    "\tcount = 0  # Counter for how many primes have been found\n",
    "\n",
    "\t# Sieve of Eratosthenes: mark non-primes as False\n",
    "\tfor i in range(2, upper + 1):\n",
    "\t\tif sieve[i]:\n",
    "\t\t\tcount += 1\n",
    "\t\t\t# If we've found the k-th prime, return it\n",
    "\t\t\tif count == k:\n",
    "\t\t\t\treturn i\n",
    "\t\t\t# Mark all multiples of i as non-prime\n",
    "\t\t\tfor j in range(i * i, upper + 1, i):\n",
    "\t\t\t\tsieve[j] = False"
   ]
  },
  {
   "cell_type": "markdown",
   "id": "8dd33b40",
   "metadata": {},
   "source": [
    "### **Example Usage and Output**"
   ]
  },
  {
   "cell_type": "code",
   "execution_count": 24,
   "id": "6365443a",
   "metadata": {},
   "outputs": [
    {
     "name": "stdout",
     "output_type": "stream",
     "text": [
      "The 10001th prime number is 104743.\n"
     ]
    }
   ],
   "source": [
    "k = 10001\n",
    "k_th = k_th_prime_number_optimized(k)\n",
    "print(f\"The {k}th prime number is {k_th}.\")"
   ]
  }
 ],
 "metadata": {
  "kernelspec": {
   "display_name": "Python 3",
   "language": "python",
   "name": "python3"
  },
  "language_info": {
   "codemirror_mode": {
    "name": "ipython",
    "version": 3
   },
   "file_extension": ".py",
   "mimetype": "text/x-python",
   "name": "python",
   "nbconvert_exporter": "python",
   "pygments_lexer": "ipython3",
   "version": "3.8.10"
  }
 },
 "nbformat": 4,
 "nbformat_minor": 5
}
