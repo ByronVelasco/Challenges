{
 "cells": [
  {
   "cell_type": "markdown",
   "id": "5958103a",
   "metadata": {},
   "source": [
    "## **Algorithm**"
   ]
  },
  {
   "cell_type": "code",
   "execution_count": 1,
   "id": "52d8660b",
   "metadata": {},
   "outputs": [],
   "source": [
    "def lcm_range(n):\n",
    "  candidate = n\n",
    "  lowest = True\n",
    "  while True:\n",
    "    for i in range(n-1, 1, -1):\n",
    "      if candidate % i != 0:\n",
    "        lowest = False\n",
    "        break\n",
    "    if not lowest:\n",
    "      lowest = True\n",
    "      candidate += n\n",
    "    else:\n",
    "      break      \n",
    "  return candidate"
   ]
  },
  {
   "cell_type": "code",
   "execution_count": 2,
   "id": "60014725",
   "metadata": {},
   "outputs": [
    {
     "name": "stdout",
     "output_type": "stream",
     "text": [
      "232792560\n"
     ]
    }
   ],
   "source": [
    "print(lcm_range(20))"
   ]
  }
 ],
 "metadata": {
  "kernelspec": {
   "display_name": "Python 3",
   "language": "python",
   "name": "python3"
  },
  "language_info": {
   "codemirror_mode": {
    "name": "ipython",
    "version": 3
   },
   "file_extension": ".py",
   "mimetype": "text/x-python",
   "name": "python",
   "nbconvert_exporter": "python",
   "pygments_lexer": "ipython3",
   "version": "3.8.10"
  }
 },
 "nbformat": 4,
 "nbformat_minor": 5
}
