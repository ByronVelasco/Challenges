{
 "cells": [
  {
   "cell_type": "markdown",
   "id": "56156429",
   "metadata": {},
   "source": [
    "# **Challenge 5**\n",
    "## **Brute Force Search for the Least Common Multiple**\n",
    "Since the least common multiple (LCM) must be a multiple of every number in the range, we focus on multiples of the largest number. For each multiple, we check if it is also divisible by all other numbers in the range. The first such multiple found is the smallest number evenly divisible by every number in the range."
   ]
  },
  {
   "cell_type": "code",
   "execution_count": 1,
   "id": "c04965c1",
   "metadata": {},
   "outputs": [],
   "source": [
    "def lcm_range(n):\n",
    "\t# Start with the first candidate as n\n",
    "\tcandidate = n\n",
    "\t# Flag to track if the current candidate is the lowest common multiple\n",
    "\tlowest = True\n",
    "\twhile True:\n",
    "\t\t# Check divisibility for all numbers from n-1 down to 2\n",
    "\t\tfor i in range(n-1, 1, -1):\n",
    "\t\t\tif candidate % i != 0:\n",
    "\t\t\t\t# If candidate is not divisible by i, set flag to False and break\n",
    "\t\t\t\tlowest = False\n",
    "\t\t\t\tbreak\n",
    "\t\tif not lowest:\n",
    "\t\t\t# If not all numbers divide candidate, reset flag and try next candidate\n",
    "\t\t\tlowest = True\n",
    "\t\t\tcandidate += n\n",
    "\t\telse:\n",
    "\t\t\t# If candidate is divisible by all, break the loop\n",
    "\t\t\tbreak      \n",
    "\t# Return the smallest candidate found\n",
    "\treturn candidate"
   ]
  },
  {
   "cell_type": "markdown",
   "id": "3a8a4d2a",
   "metadata": {},
   "source": [
    "### **Example Usage and Output**"
   ]
  },
  {
   "cell_type": "code",
   "execution_count": 2,
   "id": "52e8dc66",
   "metadata": {},
   "outputs": [
    {
     "name": "stdout",
     "output_type": "stream",
     "text": [
      "The smallest number that is evenly divisible by all numbers from 1 to 20 is 232792560.\n"
     ]
    }
   ],
   "source": [
    "k = 20\n",
    "lcm = lcm_range(k)\n",
    "print(f\"The smallest number that is evenly divisible by all numbers from 1 to {k} is {lcm}.\")"
   ]
  },
  {
   "cell_type": "markdown",
   "id": "eef96447",
   "metadata": {},
   "source": [
    "## **Efficient LCM Calculation Using GCD**\n",
    "This approach leverages the mathematical relationship between the least common multiple (LCM) and the greatest common divisor (GCD), which we have already utilized in previous challenges by calling the `gcd` function from the math library. By iteratively computing the LCM of the current result with each number in the range, the method efficiently determines the smallest number divisible by all numbers in the specified range."
   ]
  },
  {
   "cell_type": "code",
   "execution_count": 3,
   "id": "dd6a238b",
   "metadata": {},
   "outputs": [],
   "source": [
    "from math import gcd\n",
    "\n",
    "def lcm_range_optimized(n):\n",
    "\t# Initialize the least common multiple as 1\n",
    "\tlcm = 1\n",
    "\t# Iterate through all numbers from 2 up to n\n",
    "\tfor i in range(2, n+1):\n",
    "\t\t# Update lcm by computing the LCM of the current lcm and i using the GCD\n",
    "\t\tlcm = lcm * i // gcd(lcm, i)\n",
    "\t# Return the final least common multiple\n",
    "\treturn lcm"
   ]
  },
  {
   "cell_type": "markdown",
   "id": "464b2f58",
   "metadata": {},
   "source": [
    "### **Example Usage and Output**"
   ]
  },
  {
   "cell_type": "code",
   "execution_count": 4,
   "id": "53b0d001",
   "metadata": {},
   "outputs": [
    {
     "name": "stdout",
     "output_type": "stream",
     "text": [
      "The smallest number that is evenly divisible by all numbers from 1 to 20 is 232792560.\n"
     ]
    }
   ],
   "source": [
    "k = 20\n",
    "lcm = lcm_range_optimized(k)\n",
    "print(f\"The smallest number that is evenly divisible by all numbers from 1 to {k} is {lcm}.\")"
   ]
  }
 ],
 "metadata": {
  "kernelspec": {
   "display_name": "Python 3",
   "language": "python",
   "name": "python3"
  },
  "language_info": {
   "codemirror_mode": {
    "name": "ipython",
    "version": 3
   },
   "file_extension": ".py",
   "mimetype": "text/x-python",
   "name": "python",
   "nbconvert_exporter": "python",
   "pygments_lexer": "ipython3",
   "version": "3.8.10"
  }
 },
 "nbformat": 4,
 "nbformat_minor": 5
}
