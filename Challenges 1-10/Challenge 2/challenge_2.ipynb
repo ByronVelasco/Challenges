{
 "cells": [
  {
   "cell_type": "markdown",
   "id": "2b16457c",
   "metadata": {},
   "source": [
    "# **Challenge 2**\n",
    "## **Brute Force Function Implementation**\n",
    "This method generates the Fibonacci sequence up to a specified limit, selectively adding only the even-valued terms to a running total. By iterating through the sequence and summing the even numbers as they appear, it efficiently computes the desired sum without storing the entire sequence or performing unnecessary calculations."
   ]
  },
  {
   "cell_type": "code",
   "execution_count": 10,
   "id": "5b5dc394",
   "metadata": {},
   "outputs": [],
   "source": [
    "def sum_even_fibonacci(k):\n",
    "\t# Initialize the first two Fibonacci numbers\n",
    "\ta, b = 0, 1\n",
    "\t# Initialize the sum accumulator for even Fibonacci numbers\n",
    "\tsum = 0\n",
    "\t# Generate Fibonacci numbers up to k\n",
    "\twhile b <= k:\n",
    "\t\t# If the Fibonacci number is even, add it to the sum\n",
    "\t\tif b % 2 == 0:\n",
    "\t\t\tsum += b\n",
    "\t\t# Move to the next Fibonacci number\n",
    "\t\ta, b = b, a + b\n",
    "\t# Return the total sum of even Fibonacci numbers found\n",
    "\treturn sum"
   ]
  },
  {
   "cell_type": "markdown",
   "id": "03a66243",
   "metadata": {},
   "source": [
    "### **Example Usage and Output**"
   ]
  },
  {
   "cell_type": "code",
   "execution_count": 11,
   "id": "5f7edde9",
   "metadata": {},
   "outputs": [
    {
     "name": "stdout",
     "output_type": "stream",
     "text": [
      "Sum of even Fibonacci numbers up to 4000000 is: 4613732\n"
     ]
    }
   ],
   "source": [
    "k = 4000000  # Set the upper limit for Fibonacci numbers\n",
    "sum = sum_even_fibonacci(k)  # Calculate the sum of even Fibonacci numbers up to k\n",
    "# Print the result in a formatted string\n",
    "print(f\"Sum of even Fibonacci numbers up to {k} is: {sum}\")"
   ]
  },
  {
   "cell_type": "markdown",
   "id": "7571bd99",
   "metadata": {},
   "source": [
    "## **Optimized Approach Using Even Fibonacci Recurrence**\n",
    "This optimized approach focuses exclusively on the even-valued terms of the Fibonacci sequence by using a recurrence relation that allows direct computation of each even term from the previous ones. By generating only the even Fibonacci numbers and omitting all odd terms, the method significantly reduces the number of calculations required. This results in a much more efficient accumulation of the sum of even Fibonacci numbers up to the specified limit."
   ]
  },
  {
   "cell_type": "code",
   "execution_count": 12,
   "id": "24cbfb2c",
   "metadata": {},
   "outputs": [],
   "source": [
    "def sum_even_fibonacci_optimized(k):\n",
    "    # Initialize the first two even Fibonacci numbers\n",
    "    a, b = 2, 8\n",
    "    # Initialize the sum accumulator for even Fibonacci numbers\n",
    "    sum = 0\n",
    "    # Generate even Fibonacci numbers up to k\n",
    "    while a <= k:\n",
    "        # Add the current even Fibonacci number to the sum\n",
    "        sum += a\n",
    "        # Compute the next even Fibonacci number using the recurrence relation\n",
    "        a, b = b, 4 * b + a\n",
    "    # Return the total sum of even Fibonacci numbers found\n",
    "    return sum"
   ]
  },
  {
   "cell_type": "markdown",
   "id": "225274f4",
   "metadata": {},
   "source": [
    "### **Example Usage and Output**"
   ]
  },
  {
   "cell_type": "code",
   "execution_count": 13,
   "id": "750f875e",
   "metadata": {},
   "outputs": [
    {
     "name": "stdout",
     "output_type": "stream",
     "text": [
      "Sum of even Fibonacci numbers up to 4000000 is: 4613732\n"
     ]
    }
   ],
   "source": [
    "k = 4000000  # Set the upper limit for Fibonacci numbers\n",
    "sum = sum_even_fibonacci_optimized(k)  # Calculate the sum of even Fibonacci numbers up to k\n",
    "# Print the result in a formatted string\n",
    "print(f\"Sum of even Fibonacci numbers up to {k} is: {sum}\")"
   ]
  }
 ],
 "metadata": {
  "kernelspec": {
   "display_name": "Python 3",
   "language": "python",
   "name": "python3"
  },
  "language_info": {
   "codemirror_mode": {
    "name": "ipython",
    "version": 3
   },
   "file_extension": ".py",
   "mimetype": "text/x-python",
   "name": "python",
   "nbconvert_exporter": "python",
   "pygments_lexer": "ipython3",
   "version": "3.8.10"
  }
 },
 "nbformat": 4,
 "nbformat_minor": 5
}
