{
 "cells": [
  {
   "cell_type": "markdown",
   "id": "bf0f2447",
   "metadata": {},
   "source": [
    "# **Challenge 1**\n",
    "## **Brute Force Function Implementation**\n",
    "This first approach uses a straightforward loop to check each number below `k` and adds it to the sum if it is a multiple of either `n1` or `n2`. This brute-force method is easy to understand and implement, but may not be the most efficient for very large values of `k`."
   ]
  },
  {
   "cell_type": "code",
   "execution_count": 7,
   "id": "169ce7bb",
   "metadata": {},
   "outputs": [],
   "source": [
    "def sum_of_multiples(n1, n2, k):\n",
    "\t# Initialize the sum accumulator\n",
    "\tsum = 0\n",
    "\t# Iterate through all numbers from 1 up to (but not including) k\n",
    "\tfor i in range(1, k):\n",
    "\t\t# Check if the current number is a multiple of n1 or n2\n",
    "\t\tif i % n1 == 0 or i % n2 == 0:\n",
    "\t\t\t# If so, add it to the sum\n",
    "\t\t\tsum += i\n",
    "\t# Return the total sum of all multiples found\n",
    "\treturn sum"
   ]
  },
  {
   "cell_type": "markdown",
   "id": "fa34bc2e",
   "metadata": {},
   "source": [
    "### **Example Usage and Output**"
   ]
  },
  {
   "cell_type": "code",
   "execution_count": 8,
   "id": "b5352dab",
   "metadata": {},
   "outputs": [
    {
     "name": "stdout",
     "output_type": "stream",
     "text": [
      "The sum of all multiples of 3 or 5, below 1000, is: 233168\n"
     ]
    }
   ],
   "source": [
    "k = 1000  # Upper limit (not inclusive) for the numbers to check\n",
    "n1 = 3    # First divisor\n",
    "n2 = 5    # Second divisor\n",
    "\n",
    "# Call the function to compute the sum of all multiples of n1 or n2 below k\n",
    "sum = sum_of_multiples(n1, n2, k)\n",
    "\n",
    "# Print the result in a formatted string\n",
    "print(f\"The sum of all multiples of {n1} or {n2}, below {k}, is: {sum}\")"
   ]
  },
  {
   "cell_type": "markdown",
   "id": "56a31ffe",
   "metadata": {},
   "source": [
    "## **Efficient Sum Using Inclusion-Exclusion Principle**\n",
    "The optimized version uses mathematical formulas and the inclusion-exclusion principle to efficiently compute the sum of all multiples of `n1` or `n2` below `k`. Instead of checking each number individually, it calculates the sum of multiples directly, resulting in much faster performance, especially for large values of `k`.\n",
    "\n",
    "**Note:** This function works correctly when `n1` and `n2` are coprime (i.e., have no common divisors other than 1)."
   ]
  },
  {
   "cell_type": "code",
   "execution_count": 9,
   "id": "01cc3ba7",
   "metadata": {},
   "outputs": [],
   "source": [
    "def sum_of_multiples_optimized(n1, n2, k):\n",
    "    # Helper function to calculate the sum of all multiples of n below k\n",
    "    def sum_divisible_by(n):\n",
    "        # Find the largest integer less than k that is divisible by n\n",
    "        p = (k - 1) // n\n",
    "        # Use the formula for the sum of the first p natural numbers, scaled by n\n",
    "        return n * p * (p + 1) // 2\n",
    "\n",
    "    # Inclusion-exclusion principle: sum multiples of n1 and n2, subtract multiples of both (their LCM)\n",
    "    return sum_divisible_by(n1) + sum_divisible_by(n2) - sum_divisible_by(n1 * n2)"
   ]
  },
  {
   "cell_type": "markdown",
   "id": "8812f5bf",
   "metadata": {},
   "source": [
    "### **Example Usage and Output**"
   ]
  },
  {
   "cell_type": "code",
   "execution_count": 15,
   "id": "21ba7c2f",
   "metadata": {},
   "outputs": [
    {
     "name": "stdout",
     "output_type": "stream",
     "text": [
      "The sum of all multiples of 3 or 5, below 1000, is: 233168\n"
     ]
    }
   ],
   "source": [
    "k = 1000  # Upper limit (not inclusive) for the numbers to check\n",
    "n1 = 3    # First divisor\n",
    "n2 = 5    # Second divisor\n",
    "\n",
    "# Call the function to compute the sum of all multiples of n1 or n2 below k\n",
    "sum = sum_of_multiples_optimized(n1, n2, k)\n",
    "\n",
    "# Print the result in a formatted string\n",
    "print(f\"The sum of all multiples of {n1} or {n2}, below {k}, is: {sum}\")"
   ]
  }
 ],
 "metadata": {
  "kernelspec": {
   "display_name": "Python 3",
   "language": "python",
   "name": "python3"
  },
  "language_info": {
   "codemirror_mode": {
    "name": "ipython",
    "version": 3
   },
   "file_extension": ".py",
   "mimetype": "text/x-python",
   "name": "python",
   "nbconvert_exporter": "python",
   "pygments_lexer": "ipython3",
   "version": "3.8.10"
  }
 },
 "nbformat": 4,
 "nbformat_minor": 5
}
