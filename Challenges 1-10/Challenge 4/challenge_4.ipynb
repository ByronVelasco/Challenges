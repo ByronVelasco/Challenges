{
 "cells": [
  {
   "cell_type": "markdown",
   "id": "5958103a",
   "metadata": {},
   "source": [
    "## **First approach**"
   ]
  },
  {
   "cell_type": "code",
   "execution_count": 20,
   "id": "52d8660b",
   "metadata": {},
   "outputs": [],
   "source": [
    "def max_palindrome(threshold):\n",
    "\tmax_pal = 0\n",
    "\tfor x in range(1, threshold):\n",
    "\t\tfor y in range(1, threshold):\n",
    "\t\t\tproduct = x * y\n",
    "\t\t\tif product > max_pal and str(product) == str(product)[::-1]:  # Check if the product is a palindrome\n",
    "\t\t\t\tmax_pal = product\n",
    "\treturn max_pal"
   ]
  },
  {
   "cell_type": "code",
   "execution_count": 21,
   "id": "60014725",
   "metadata": {},
   "outputs": [
    {
     "name": "stdout",
     "output_type": "stream",
     "text": [
      "906609\n"
     ]
    }
   ],
   "source": [
    "threshold = 1000\n",
    "print(max_palindrome(threshold))"
   ]
  },
  {
   "cell_type": "markdown",
   "id": "486de2a6",
   "metadata": {},
   "source": [
    "## **Optimal method**"
   ]
  },
  {
   "cell_type": "code",
   "execution_count": 22,
   "id": "4d1641cc",
   "metadata": {},
   "outputs": [],
   "source": [
    "def max_palindrome_optimal(threshold):\n",
    "\tmax_pal = 0\n",
    "\tfor x in range(threshold - 1, 0, -1):\n",
    "\t\tfor y in range(x, 0, -1):\n",
    "\t\t\tproduct = x * y\n",
    "\t\t\tif product <= max_pal:\n",
    "\t\t\t\tbreak\n",
    "\t\t\tif str(product) == str(product)[::-1]:  # Check if the product is a palindrome\n",
    "\t\t\t\tmax_pal = product\n",
    "\treturn max_pal"
   ]
  },
  {
   "cell_type": "code",
   "execution_count": 23,
   "id": "f6c60438",
   "metadata": {},
   "outputs": [
    {
     "name": "stdout",
     "output_type": "stream",
     "text": [
      "906609\n"
     ]
    }
   ],
   "source": [
    "threshold = 1000\n",
    "print(max_palindrome_optimal(threshold))"
   ]
  },
  {
   "cell_type": "markdown",
   "id": "66e279ce",
   "metadata": {},
   "source": [
    "## **Correctness**"
   ]
  },
  {
   "cell_type": "code",
   "execution_count": 24,
   "id": "1bfeb0cc",
   "metadata": {},
   "outputs": [
    {
     "name": "stdout",
     "output_type": "stream",
     "text": [
      "Both algorithms get the same results.\n"
     ]
    }
   ],
   "source": [
    "n = 1000\n",
    "test = True\n",
    "for threshold in range(1, n+1):\n",
    "  if max_palindrome_optimal(threshold) != max_palindrome(threshold):\n",
    "    test = False\n",
    "    break\n",
    "if test:\n",
    "  print('Both algorithms get the same results.')\n",
    "else:\n",
    "  print('The algorithms get different results')"
   ]
  }
 ],
 "metadata": {
  "kernelspec": {
   "display_name": "Python 3",
   "language": "python",
   "name": "python3"
  },
  "language_info": {
   "codemirror_mode": {
    "name": "ipython",
    "version": 3
   },
   "file_extension": ".py",
   "mimetype": "text/x-python",
   "name": "python",
   "nbconvert_exporter": "python",
   "pygments_lexer": "ipython3",
   "version": "3.8.10"
  }
 },
 "nbformat": 4,
 "nbformat_minor": 5
}
