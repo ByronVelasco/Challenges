{
 "cells": [
  {
   "cell_type": "markdown",
   "id": "5958103a",
   "metadata": {},
   "source": [
    "## **Algorithm**"
   ]
  },
  {
   "cell_type": "code",
   "execution_count": 28,
   "id": "27479eef",
   "metadata": {},
   "outputs": [],
   "source": [
    "def pythagorean_triplets(total):\n",
    "  list_of_pythagorean_triplets = []\n",
    "  max_a = total // 3 - 1\n",
    "  for a in range(1, max_a+1):\n",
    "    b = a+1\n",
    "    c = total-a-b\n",
    "    while b < c:\n",
    "      if a**2 + b**2 == c**2:\n",
    "        list_of_pythagorean_triplets.append((a,b,c))\n",
    "      b+=1\n",
    "      c = total-a-b\n",
    "  return list_of_pythagorean_triplets"
   ]
  },
  {
   "cell_type": "code",
   "execution_count": 29,
   "id": "271349bf",
   "metadata": {},
   "outputs": [
    {
     "name": "stdout",
     "output_type": "stream",
     "text": [
      "Pythagorian triplet: (200, 375, 425)\tProduct: 31875000\n"
     ]
    }
   ],
   "source": [
    "from math import prod\n",
    "total=1000\n",
    "triplets = pythagorean_triplets(total)\n",
    "if triplets:\n",
    "\tfor triplet in triplets:\n",
    "\t\tprint(f'Pythagorian triplet: {triplet}\\tProduct: {prod(triplet)}')"
   ]
  }
 ],
 "metadata": {
  "kernelspec": {
   "display_name": "Python 3",
   "language": "python",
   "name": "python3"
  },
  "language_info": {
   "codemirror_mode": {
    "name": "ipython",
    "version": 3
   },
   "file_extension": ".py",
   "mimetype": "text/x-python",
   "name": "python",
   "nbconvert_exporter": "python",
   "pygments_lexer": "ipython3",
   "version": "3.8.10"
  }
 },
 "nbformat": 4,
 "nbformat_minor": 5
}
