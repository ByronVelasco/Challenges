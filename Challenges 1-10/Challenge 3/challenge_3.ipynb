{
 "cells": [
  {
   "cell_type": "markdown",
   "id": "486de2a6",
   "metadata": {},
   "source": [
    "# **Challenge 3**\n",
    "## **Brute Force Function Implementation**\n",
    "This approach first checks if the given number is a prime by testing divisibility up to its square root. If the number is not prime, it iteratively searches for the largest factor by decrementing from half of the number. For each candidate factor, it checks if it divides the number evenly and if it is a prime. The process stops when the largest such prime factor is found."
   ]
  },
  {
   "cell_type": "code",
   "execution_count": null,
   "id": "169ce7bb",
   "metadata": {},
   "outputs": [],
   "source": [
    "def largest_prime_factor(n):\n",
    "\t# Helper function to check if a number is prime\n",
    "\tdef is_prime(num):\n",
    "\t\t# Check divisibility up to the square root of num\n",
    "\t\tfor i in range(2, int(num**0.5) + 1):\n",
    "\t\t\tif num % i == 0:\n",
    "\t\t\t\treturn False\n",
    "\t\treturn True\n",
    "\n",
    "\t# If n itself is prime, return n\n",
    "\tif is_prime(n):\n",
    "\t\treturn n\n",
    "\n",
    "\t# Start checking from n//2 downwards for the largest factor\n",
    "\ti = n // 2\n",
    "\twhile True:\n",
    "\t\t# If i is a factor of n and is prime, it is the largest prime factor\n",
    "\t\tif n % i == 0 and is_prime(i):\n",
    "\t\t\tlargest_prime = i\n",
    "\t\t\tbreak\n",
    "\t\ti -= 1\n",
    "\t# Return the largest prime factor found\n",
    "\treturn largest_prime"
   ]
  },
  {
   "cell_type": "markdown",
   "id": "69d28800",
   "metadata": {},
   "source": [
    "### **Example Usage and Output**"
   ]
  },
  {
   "cell_type": "code",
   "execution_count": null,
   "id": "32a4ab7f",
   "metadata": {},
   "outputs": [
    {
     "name": "stdout",
     "output_type": "stream",
     "text": [
      "The largest prime factor of 600851475143 is 6857\n"
     ]
    }
   ],
   "source": [
    "n = 600851475143\n",
    "largest_prime = largest_prime_factor(n)\n",
    "print(f'The largest prime factor of {n} is {largest_prime}')"
   ]
  },
  {
   "cell_type": "markdown",
   "id": "f985bb68",
   "metadata": {},
   "source": [
    "## **Efficient Prime Factorization by Progressive Division**\n",
    "This approach efficiently finds the largest prime factor of a number by first removing all factors of 2, ensuring the remaining value is odd. It then iteratively checks for divisibility by odd numbers, starting from 3 and increasing by 2 each time. Whenever a divisor is found, the number is divided by this factor, and the process continues with the reduced value. This eliminates smaller prime factors early and reduces the size of the number to be factored. The process continues until the square of the current factor exceeds the remaining value. If the final value is greater than 1, it is itself a prime and thus the largest prime factor."
   ]
  },
  {
   "cell_type": "code",
   "execution_count": 25,
   "id": "a0498a52",
   "metadata": {},
   "outputs": [],
   "source": [
    "def largest_prime_factor_optimized(n):\n",
    "\t# Remove all factors of 2 first\n",
    "\twhile n % 2 == 0:\n",
    "\t\tlast_factor = 2\n",
    "\t\tn //= 2\n",
    "\n",
    "\t# Start checking for odd factors from 3 upwards\n",
    "\tfactor = 3\n",
    "\twhile factor * factor <= n:\n",
    "\t\tif n % factor == 0:\n",
    "\t\t\t# If factor divides n, update last_factor and divide n by factor\n",
    "\t\t\tlast_factor = factor\n",
    "\t\t\tn //= factor\n",
    "\t\telse:\n",
    "\t\t\t# Move to the next odd number\n",
    "\t\t\tfactor += 2\n",
    "\n",
    "\t# If n is now greater than 1, it is prime and the largest factor\n",
    "\treturn n if n > 1 else last_factor"
   ]
  },
  {
   "cell_type": "markdown",
   "id": "2a805e00",
   "metadata": {},
   "source": [
    "### **Example Usage and Output**"
   ]
  },
  {
   "cell_type": "code",
   "execution_count": 21,
   "id": "7474cbfc",
   "metadata": {},
   "outputs": [
    {
     "name": "stdout",
     "output_type": "stream",
     "text": [
      "The largest prime factor of 600851475143 is 6857\n"
     ]
    }
   ],
   "source": [
    "n = 600851475143\n",
    "largest_prime = largest_prime_factor_optimized(n)\n",
    "print(f'The largest prime factor of {n} is {largest_prime}')"
   ]
  }
 ],
 "metadata": {
  "kernelspec": {
   "display_name": "Python 3",
   "language": "python",
   "name": "python3"
  },
  "language_info": {
   "codemirror_mode": {
    "name": "ipython",
    "version": 3
   },
   "file_extension": ".py",
   "mimetype": "text/x-python",
   "name": "python",
   "nbconvert_exporter": "python",
   "pygments_lexer": "ipython3",
   "version": "3.8.10"
  }
 },
 "nbformat": 4,
 "nbformat_minor": 5
}
