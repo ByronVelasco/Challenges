{
 "cells": [
  {
   "cell_type": "markdown",
   "id": "dce37ffd",
   "metadata": {},
   "source": [
    "# **Challenge 8**\n",
    "## **Efficient Maximum Product Search in a Digit Series**\n",
    "The approach involves scanning through a long sequence of digits to find the highest product obtainable from a fixed number of consecutive digits. For each possible group of adjacent digits, the method multiplies them together to compute their product. If a zero is encountered within a group, the process skips ahead to avoid unnecessary calculations, as any product involving zero will be zero. Throughout the scan, the maximum product found is tracked and updated whenever a larger product is discovered."
   ]
  },
  {
   "cell_type": "code",
   "execution_count": 4,
   "id": "985cb8a1",
   "metadata": {},
   "outputs": [],
   "source": [
    "def largest_product_in_series(series, k):\n",
    "\t# Initialize the maximum product found\n",
    "\tmax_product = 0\n",
    "\ti = 0\n",
    "\t# Iterate through the series, considering each substring of length k\n",
    "\twhile i <= len(series) - k:\n",
    "\t\tproduct = 1\n",
    "\t\t# Check the k digits starting from position i (right to left)\n",
    "\t\tfor j in range(k-1, -1, -1):\n",
    "\t\t\t# If a zero is found, skip ahead to the position after the zero\n",
    "\t\t\tif series[i + j] == '0':\n",
    "\t\t\t\ti += j\n",
    "\t\t\t\tbreak\n",
    "\t\t\t# Multiply the current digit into the product\n",
    "\t\t\tproduct *= int(series[i + j])\n",
    "\t\t\t# Update max_product if a new maximum is found\n",
    "\t\t\tif product > max_product:\n",
    "\t\t\t\tmax_product = product\n",
    "\t\t# Move to the next starting position\n",
    "\t\ti += 1\n",
    "\t# Return the largest product found\n",
    "\treturn max_product"
   ]
  },
  {
   "cell_type": "markdown",
   "id": "c9f85b69",
   "metadata": {},
   "source": [
    "### **Example Usage and Output**"
   ]
  },
  {
   "cell_type": "code",
   "execution_count": 5,
   "id": "fe204846",
   "metadata": {},
   "outputs": [
    {
     "name": "stdout",
     "output_type": "stream",
     "text": [
      "The largest product of 13 adjacent digits in the series is: 23514624000\n"
     ]
    }
   ],
   "source": [
    "# 1000-digit number\n",
    "series = '7316717653133062491922511967442657474235534919493496983520312774506326239578318016984801869478851843858615607891129494954595017379583319528532088055111254069874715852386305071569329096329522744304355766896648950445244523161731856403098711121722383113622298934233803081353362766142828064444866452387493035890729629049156044077239071381051585930796086670172427121883998797908792274921901699720888093776657273330010533678812202354218097512545405947522435258490771167055601360483958644670632441572215539753697817977846174064955149290862569321978468622482839722413756570560574902614079729686524145351004748216637048440319989000889524345065854122758866688116427171479924442928230863465674813919123162824586178664583591245665294765456828489128831426076900422421902267105562632111110937054421750694165896040807198403850962455444362981230987879927244284909188845801561660979191338754992005240636899125607176060588611646710940507754100225698315520005593572972571636269561882670428252483600823257530420752963450'\n",
    "\n",
    "# Number of adjacent digits to multiply\n",
    "k = 13\n",
    "largest_product = largest_product_in_series(series, k)\n",
    "print(f\"The largest product of {k} adjacent digits in the series is: {largest_product}\")"
   ]
  }
 ],
 "metadata": {
  "kernelspec": {
   "display_name": "Python 3",
   "language": "python",
   "name": "python3"
  },
  "language_info": {
   "codemirror_mode": {
    "name": "ipython",
    "version": 3
   },
   "file_extension": ".py",
   "mimetype": "text/x-python",
   "name": "python",
   "nbconvert_exporter": "python",
   "pygments_lexer": "ipython3",
   "version": "3.8.10"
  }
 },
 "nbformat": 4,
 "nbformat_minor": 5
}
