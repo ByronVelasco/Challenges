{
 "cells": [
  {
   "cell_type": "markdown",
   "id": "5958103a",
   "metadata": {},
   "source": [
    "## **First approach**"
   ]
  },
  {
   "cell_type": "code",
   "execution_count": 21,
   "id": "52d8660b",
   "metadata": {},
   "outputs": [],
   "source": [
    "def lcm_range(n):\n",
    "  candidate = n\n",
    "  lowest = True\n",
    "  while True:\n",
    "    for i in range(n-1, 1, -1):\n",
    "      if candidate % i != 0:\n",
    "        lowest = False\n",
    "        break\n",
    "    if not lowest:\n",
    "      lowest = True\n",
    "      candidate += n\n",
    "    else:\n",
    "      break      \n",
    "  return candidate"
   ]
  },
  {
   "cell_type": "code",
   "execution_count": 22,
   "id": "60014725",
   "metadata": {},
   "outputs": [
    {
     "name": "stdout",
     "output_type": "stream",
     "text": [
      "232792560\n"
     ]
    }
   ],
   "source": [
    "print(lcm_range(20))"
   ]
  },
  {
   "cell_type": "markdown",
   "id": "72499812",
   "metadata": {},
   "source": [
    "## **Optimal method**"
   ]
  },
  {
   "cell_type": "code",
   "execution_count": 26,
   "id": "6c58ddd3",
   "metadata": {},
   "outputs": [],
   "source": [
    "from math import sqrt, floor, log\n",
    "\n",
    "def is_prime(n):\n",
    "\tif n < 2:\n",
    "\t\treturn False\n",
    "\tfor i in range(2, int(sqrt(n)) + 1):\n",
    "\t\tif n % i == 0:\n",
    "\t\t\treturn False\n",
    "\treturn True\n",
    "\n",
    "def primes_up_to(n):\n",
    "\treturn [i for i in range(2, n + 1) if is_prime(i)]\n",
    "\n",
    "def lcm_range_optimal(n):\n",
    "\tprimos = primes_up_to(n)\n",
    "\tN = 1\n",
    "\tthreshold = sqrt(n)\n",
    "\n",
    "\tfor p in primos:\n",
    "\t\tif p <= threshold:\n",
    "\t\t\ta = floor(log(n) / log(p))\n",
    "\t\telse:\n",
    "\t\t\ta = 1\n",
    "\t\tN *= p ** a\n",
    "\n",
    "\treturn N"
   ]
  },
  {
   "cell_type": "code",
   "execution_count": 36,
   "id": "fe204846",
   "metadata": {},
   "outputs": [
    {
     "name": "stdout",
     "output_type": "stream",
     "text": [
      "232792560\n"
     ]
    }
   ],
   "source": [
    "print(lcm_range_optimal(20))"
   ]
  },
  {
   "cell_type": "markdown",
   "id": "66e279ce",
   "metadata": {},
   "source": [
    "## **Correctness**"
   ]
  },
  {
   "cell_type": "code",
   "execution_count": 30,
   "id": "1bfeb0cc",
   "metadata": {},
   "outputs": [
    {
     "name": "stdout",
     "output_type": "stream",
     "text": [
      "Both algorithms get the same results.\n"
     ]
    }
   ],
   "source": [
    "m = 20\n",
    "test = True\n",
    "for n in range(1, m+1):\n",
    "  if lcm_range_optimal(n) != lcm_range(n):\n",
    "    test = False\n",
    "    break\n",
    "if test:\n",
    "  print('Both algorithms get the same results.')\n",
    "else:\n",
    "  print('The algorithms get different results')"
   ]
  }
 ],
 "metadata": {
  "kernelspec": {
   "display_name": "Python 3",
   "language": "python",
   "name": "python3"
  },
  "language_info": {
   "codemirror_mode": {
    "name": "ipython",
    "version": 3
   },
   "file_extension": ".py",
   "mimetype": "text/x-python",
   "name": "python",
   "nbconvert_exporter": "python",
   "pygments_lexer": "ipython3",
   "version": "3.8.10"
  }
 },
 "nbformat": 4,
 "nbformat_minor": 5
}
