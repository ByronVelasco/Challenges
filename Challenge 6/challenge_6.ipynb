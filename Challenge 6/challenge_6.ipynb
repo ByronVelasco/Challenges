{
 "cells": [
  {
   "cell_type": "markdown",
   "id": "5958103a",
   "metadata": {},
   "source": [
    "## **First approach**"
   ]
  },
  {
   "cell_type": "code",
   "execution_count": 2,
   "id": "52d8660b",
   "metadata": {},
   "outputs": [],
   "source": [
    "def difference_sqr(n):\n",
    "  sum = 0\n",
    "  for i in range(1, n+1):\n",
    "    sum += i\n",
    "  sum **= 2\n",
    "  for i in range(1, n+1):\n",
    "    sum -= i**2\n",
    "  return sum"
   ]
  },
  {
   "cell_type": "code",
   "execution_count": 20,
   "id": "60014725",
   "metadata": {},
   "outputs": [
    {
     "name": "stdout",
     "output_type": "stream",
     "text": [
      "25164150\n"
     ]
    }
   ],
   "source": [
    "print(difference_sqr(100))"
   ]
  },
  {
   "cell_type": "markdown",
   "id": "72499812",
   "metadata": {},
   "source": [
    "## **Optimal method**"
   ]
  },
  {
   "cell_type": "code",
   "execution_count": 24,
   "id": "6c58ddd3",
   "metadata": {},
   "outputs": [],
   "source": [
    "def difference_sqr_optimal(n):\n",
    "  return n*(n+1)*(n-1)*(3*n+2)//12"
   ]
  },
  {
   "cell_type": "code",
   "execution_count": 25,
   "id": "fe204846",
   "metadata": {},
   "outputs": [
    {
     "name": "stdout",
     "output_type": "stream",
     "text": [
      "25164150\n"
     ]
    }
   ],
   "source": [
    "print(difference_sqr_optimal(100))"
   ]
  },
  {
   "cell_type": "markdown",
   "id": "66e279ce",
   "metadata": {},
   "source": [
    "## **Correctness**"
   ]
  },
  {
   "cell_type": "code",
   "execution_count": 26,
   "id": "1bfeb0cc",
   "metadata": {},
   "outputs": [
    {
     "name": "stdout",
     "output_type": "stream",
     "text": [
      "Both algorithms get the same results.\n"
     ]
    }
   ],
   "source": [
    "m = 10000\n",
    "test = True\n",
    "for n in range(1, m+1):\n",
    "  if difference_sqr(n) != difference_sqr_optimal(n):\n",
    "    print('The algorithms get different results')\n",
    "    test = False\n",
    "    break\n",
    "if test:\n",
    "  print('Both algorithms get the same results.')"
   ]
  }
 ],
 "metadata": {
  "kernelspec": {
   "display_name": "Python 3",
   "language": "python",
   "name": "python3"
  },
  "language_info": {
   "codemirror_mode": {
    "name": "ipython",
    "version": 3
   },
   "file_extension": ".py",
   "mimetype": "text/x-python",
   "name": "python",
   "nbconvert_exporter": "python",
   "pygments_lexer": "ipython3",
   "version": "3.8.10"
  }
 },
 "nbformat": 4,
 "nbformat_minor": 5
}
