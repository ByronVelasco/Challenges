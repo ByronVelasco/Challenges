{
 "cells": [
  {
   "cell_type": "markdown",
   "id": "c45f42cf",
   "metadata": {},
   "source": [
    "# Challenge 33 – Digit Cancelling Fractions\n",
    "\n",
    "For this challenge, the goal is **to find all two-digit fractions that can be simplified by cancelling a common digit in both the numerator and denominator**, resulting in an equivalent fraction."
   ]
  },
  {
   "cell_type": "markdown",
   "id": "c26f6e99",
   "metadata": {},
   "source": [
    "## Problem Statement\n",
    "\n",
    "**Task:**  \n",
    "Find the denominator of the product of all non-trivial digit cancelling fractions."
   ]
  },
  {
   "cell_type": "markdown",
   "id": "d1b9f217",
   "metadata": {},
   "source": [
    "## Data Context\n",
    "\n",
    "- Every fraction is proper, and avoid trivial cases where the denominator is a multiple of 10 (e.g., 10, 20, ..., 90).\n",
    "\n",
    "Before reading the solution below, try solving the problem yourself and compare your approach and results."
   ]
  },
  {
   "cell_type": "markdown",
   "id": "142664bc",
   "metadata": {},
   "source": [
    "## Systematic Search for Digit-Cancelling Fractions Through Exhaustive Enumeration\n",
    "\n",
    "The methodology systematically examines all possible two-digit proper fractions to identify those where cancelling a common digit from both numerator and denominator produces an equivalent fraction. The approach iterates through all combinations of two-digit numbers (excluding trivial cases ending in zero), converts them to strings for digit manipulation, and checks every possible position where a digit might be cancelled. For each potential cancellation, it verifies whether the original fraction equals the simplified version after removing the common digit. Valid fractions are collected and their product is computed."
   ]
  },
  {
   "cell_type": "markdown",
   "id": "54c66571",
   "metadata": {},
   "source": [
    "## Final Result\n",
    "\n",
    "The correct result is:\n",
    "\n",
    "**100**\n",
    "\n",
    "---\n",
    "\n",
    "&copy; Byron Velasco, 2025"
   ]
  }
 ],
 "metadata": {
  "language_info": {
   "name": "python"
  }
 },
 "nbformat": 4,
 "nbformat_minor": 5
}
