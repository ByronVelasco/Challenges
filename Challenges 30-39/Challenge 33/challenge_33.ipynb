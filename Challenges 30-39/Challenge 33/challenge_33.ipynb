{
 "cells": [
  {
   "cell_type": "markdown",
   "id": "5958103a",
   "metadata": {},
   "source": [
    "# **Challenge 33**\n",
    "## **Systematic Search for Digit-Cancelling Fractions Through Exhaustive Enumeration**\n",
    "The methodology systematically examines all possible two-digit proper fractions to identify those where cancelling a common digit from both numerator and denominator produces an equivalent fraction. The approach iterates through all combinations of two-digit numbers (excluding trivial cases ending in zero), converts them to strings for digit manipulation, and checks every possible position where a digit might be cancelled. For each potential cancellation, it verifies whether the original fraction equals the simplified version after removing the common digit. Valid fractions are collected and their product is computed."
   ]
  },
  {
   "cell_type": "code",
   "execution_count": 8,
   "id": "7e5dafaf",
   "metadata": {},
   "outputs": [],
   "source": [
    "from fractions import Fraction\n",
    "\n",
    "def find_digit_cancelling_fractions():\n",
    "\tfractions = []  # List to store valid digit-cancelling fractions\n",
    "\n",
    "\t# Iterate through all possible two-digit numerators\n",
    "\tfor numerator in range(10, 99):\n",
    "\t\t# Iterate through all possible two-digit denominators greater than numerator\n",
    "\t\tfor denominator in range(numerator + 1, 100):\n",
    "\t\t\tif denominator % 10 == 0:  # Skip numbers ending in 0 (trivial cases)\n",
    "\t\t\t\tcontinue\n",
    "\t\t\t\n",
    "\t\t\t# Convert numerator and denominator to strings for digit manipulation\n",
    "\t\t\tn_str, d_str = str(numerator), str(denominator)\n",
    "\t\t\t\n",
    "\t\t\t# Check all possible digit cancellations\n",
    "\t\t\tfor i in range(2):  # i: position in numerator (0 or 1)\n",
    "\t\t\t\tfor j in range(2):  # j: position in denominator (0 or 1)\n",
    "\t\t\t\t\t# Check if digits at positions i and j\n",
    "\t\t\t\t\tif n_str[i] == d_str[j]:\n",
    "\t\t\t\t\t\t# Create new numerator and denominator by removing the common digit\n",
    "\t\t\t\t\t\tnew_n = int(n_str[1 - i])  # Remaining digit in numerator\n",
    "\t\t\t\t\t\tnew_d = int(d_str[1 - j])  # Remaining digit in denominator\n",
    "\t\t\t\t\t\t\n",
    "\t\t\t\t\t\t# Create fraction objects for comparison\n",
    "\t\t\t\t\t\toriginal_fraction = Fraction(numerator, denominator)\n",
    "\t\t\t\t\t\tcancelled_fraction = Fraction(new_n, new_d)\n",
    "\t\t\t\t\t\t\n",
    "\t\t\t\t\t\t# Check if the original fraction equals the cancelled fraction\n",
    "\t\t\t\t\t\tif original_fraction == cancelled_fraction:\n",
    "\t\t\t\t\t\t\tfractions.append(original_fraction)\n",
    "\t\t\t\t\t\t\tif len(fractions) == 4:  # Stop after finding 4 valid fractions\n",
    "\t\t\t\t\t\t\t\treturn fractions\n",
    "\n",
    "def simplified_product(fractions):\n",
    "\t# Initialize product as 1/1\n",
    "\tproduct = Fraction(1, 1)\n",
    "\t# Multiply all fractions together\n",
    "\tfor frac in fractions:\n",
    "\t\tproduct *= frac\n",
    "\treturn product"
   ]
  },
  {
   "cell_type": "markdown",
   "id": "6ac897d1",
   "metadata": {},
   "source": [
    "### **Example Usage and Output**"
   ]
  },
  {
   "cell_type": "code",
   "execution_count": 9,
   "id": "a20d5a10",
   "metadata": {},
   "outputs": [
    {
     "name": "stdout",
     "output_type": "stream",
     "text": [
      "Curious fractions: [Fraction(1, 4), Fraction(1, 5), Fraction(2, 5), Fraction(1, 2)]\n",
      "Final product: 1/100\n",
      "Denominator of the final product: 100\n"
     ]
    }
   ],
   "source": [
    "fractions = find_digit_cancelling_fractions()\n",
    "final_product = simplified_product(fractions)\n",
    "print(f\"Curious fractions: {fractions}\")\n",
    "print(f\"Final product: {final_product}\")\n",
    "print(f\"Denominator of the final product: {final_product.denominator}\")"
   ]
  }
 ],
 "metadata": {
  "kernelspec": {
   "display_name": "Python 3",
   "language": "python",
   "name": "python3"
  },
  "language_info": {
   "codemirror_mode": {
    "name": "ipython",
    "version": 3
   },
   "file_extension": ".py",
   "mimetype": "text/x-python",
   "name": "python",
   "nbconvert_exporter": "python",
   "pygments_lexer": "ipython3",
   "version": "3.13.4"
  }
 },
 "nbformat": 4,
 "nbformat_minor": 5
}
