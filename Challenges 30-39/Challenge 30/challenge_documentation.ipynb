{
 "cells": [
  {
   "cell_type": "markdown",
   "id": "c45f42cf",
   "metadata": {},
   "source": [
    "# Challenge 30 – Digit Fifth Powers\n",
    "\n",
    "For this challenge, the objective is **to find the sum of all the numbers that can be expressed as the sum of the p-th powers of their digits**."
   ]
  },
  {
   "cell_type": "markdown",
   "id": "c26f6e99",
   "metadata": {},
   "source": [
    "## Problem Statement\n",
    "\n",
    "**Task:**  \n",
    "Find the sum of all numbers that can be expressed as the sum of the fifth powers of their digits."
   ]
  },
  {
   "cell_type": "markdown",
   "id": "d1b9f217",
   "metadata": {},
   "source": [
    "## Data Context\n",
    "\n",
    "- `p`: positive integer number greater than 1, which represents the power to which each digit is raised.\n",
    "\n",
    "Before reading the solution below, try solving the problem yourself and compare your approach and results."
   ]
  },
  {
   "cell_type": "markdown",
   "id": "8af43551",
   "metadata": {},
   "source": [
    "## Dynamic Search for Numbers Equal to the Sum of Their Digits Raised to a Power\n",
    "\n",
    "The problem is based on finding all natural numbers that can be written as the sum of their digits each raised to a fixed power $p$. For a number with $d$ digits, the maximum possible sum of its digits raised to the power $p$ is $d \\times 9^p$, since 9 is the largest possible digit. However, as the number of digits increases, the smallest $d$-digit number, $10^{d-1}$, eventually exceeds the maximum sum $d \\times 9^p$. This creates a natural upper bound for the search: only numbers up to this bound need to be checked.\n",
    "\n",
    "Mathematically, for each number $n$ in the search range, the following condition is tested:\n",
    "$$\n",
    "n = \\sum_{i=1}^{k} d_i^{\\text{ }p}\n",
    "$$\n",
    "where $d_i$ are the digits of $n$, and $k$ is the number of digits in $n$. All numbers that satisfy this equality are collected, and their sum can be computed."
   ]
  },
  {
   "cell_type": "markdown",
   "id": "54c66571",
   "metadata": {},
   "source": [
    "## Final Result\n",
    "\n",
    "For `p=5`, the correct result is:\n",
    "\n",
    "**443839**\n",
    "\n",
    "---\n",
    "\n",
    "&copy; Byron Velasco, 2025"
   ]
  }
 ],
 "metadata": {
  "language_info": {
   "name": "python"
  }
 },
 "nbformat": 4,
 "nbformat_minor": 5
}
