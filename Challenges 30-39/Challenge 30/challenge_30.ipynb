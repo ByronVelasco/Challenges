{
 "cells": [
  {
   "cell_type": "markdown",
   "id": "5958103a",
   "metadata": {},
   "source": [
    "# **Challenge 30**\n",
    "## **Dynamic Search for Numbers Equal to the Sum of Their Digits Raised to a Power**\n",
    "First, it dynamically calculates an upper bound for the search by considering the maximum possible sum of digit powers for numbers with increasing digit lengths. Then, it iterates through all numbers within this range, checking if each number is equal to the sum of its digits raised to the specified power. All numbers that satisfy this condition are collected, and their sum is computed."
   ]
  },
  {
   "cell_type": "code",
   "execution_count": null,
   "id": "31e6e591",
   "metadata": {},
   "outputs": [],
   "source": [
    "def sum_digits_power(p):\n",
    "\t# Calculate the maximum value a single digit can contribute (9^p)\n",
    "\tmax_digit_power = 9 ** p\n",
    "\td = 1  # Start with one digit\n",
    "\n",
    "\t# Dynamically determine the upper limit for the search\n",
    "\t# Increase the number of digits until d * max_digit_power is not greater than the smallest d-digit number\n",
    "\twhile d * max_digit_power > 10 ** (d - 1):\n",
    "\t\td += 1\n",
    "\tupper_limit = (d - 1) * max_digit_power  # The highest number to check\n",
    "\n",
    "\tresults = []  # List to store numbers that satisfy the condition\n",
    "\n",
    "\t# Check each number in the range to see if it equals the sum of its digits each raised to the power p\n",
    "\tfor n in range(10, upper_limit + 1):  # Start from 10, since single-digit numbers are excluded\n",
    "\t\tdigit_sum = sum(int(digit) ** p for digit in str(n))  # Sum of digits raised to power p\n",
    "\t\tif n == digit_sum:\n",
    "\t\t\tresults.append(n)  # Add number to results if it matches the condition\n",
    "\n",
    "\t# Return the list of numbers found and their sum\n",
    "\treturn results, sum(results)"
   ]
  },
  {
   "cell_type": "markdown",
   "id": "195ef3d4",
   "metadata": {},
   "source": [
    "### **Example Usage and Output**"
   ]
  },
  {
   "cell_type": "code",
   "execution_count": 6,
   "id": "910f9f3b",
   "metadata": {},
   "outputs": [
    {
     "name": "stdout",
     "output_type": "stream",
     "text": [
      "Numbers that can be written as the sum of their digits each raised to the power of 5:\n",
      "4150\n",
      "4151\n",
      "54748\n",
      "92727\n",
      "93084\n",
      "194979\n",
      "Total sum: 443839\n"
     ]
    }
   ],
   "source": [
    "p = 5\n",
    "results, total_sum = sum_digits_power(p)\n",
    "print(f\"Numbers that can be written as the sum of their digits each raised to the power of {p}:\")\n",
    "for number in results:\n",
    "\t\tprint(number)\n",
    "print(f\"Total sum: {total_sum}\")"
   ]
  }
 ],
 "metadata": {
  "kernelspec": {
   "display_name": "Python 3",
   "language": "python",
   "name": "python3"
  },
  "language_info": {
   "codemirror_mode": {
    "name": "ipython",
    "version": 3
   },
   "file_extension": ".py",
   "mimetype": "text/x-python",
   "name": "python",
   "nbconvert_exporter": "python",
   "pygments_lexer": "ipython3",
   "version": "3.13.4"
  }
 },
 "nbformat": 4,
 "nbformat_minor": 5
}
