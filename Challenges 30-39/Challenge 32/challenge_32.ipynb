{
 "cells": [
  {
   "cell_type": "markdown",
   "id": "5958103a",
   "metadata": {},
   "source": [
    "# **Challenge 32**\n",
    "## **Exhaustive Permutation-Based Search for Pandigital Products**\n",
    "This approach involves generating all possible arrangements of the digits from 1 to n and systematically examining every way to split each arrangement into three parts representing a multiplicand, a multiplier, and a product. For each split, it checks whether the multiplication identity holds. If it does, the product is recorded, ensuring only unique products are counted. After evaluating all permutations and splits, the sum of all unique valid products is computed."
   ]
  },
  {
   "cell_type": "code",
   "execution_count": 1,
   "id": "7e5dafaf",
   "metadata": {},
   "outputs": [],
   "source": [
    "from itertools import permutations\n",
    "\n",
    "def pandigital_products(n):\n",
    "\t# Helper function to check if the multiplication is valid\n",
    "\tdef is_valid(multiplicand, multiplier, product):\n",
    "\t\treturn multiplicand * multiplier == product\n",
    "\n",
    "\t# Create a string of digits from 1 to n (inclusive)\n",
    "\tdigits = ''.join(str(i) for i in range(1, n + 1))\n",
    "\tunique_products = set()  # Set to store unique products\n",
    "\n",
    "\t# Generate all possible permutations of the digits\n",
    "\tfor perm in permutations(digits):\n",
    "\t\ts = ''.join(perm)  # Convert the tuple to a string\n",
    "\n",
    "\t\t# Try all possible ways to split s into multiplicand, multiplier, and product\n",
    "\t\tfor i in range(1, n - 1):            # i: end of multiplicand\n",
    "\t\t\tfor j in range(i + 1, n):        # j: end of multiplier\n",
    "\t\t\t\tmultiplicand = int(s[:i])    # Digits before i as multiplicand\n",
    "\t\t\t\tmultiplier = int(s[i:j])     # Digits from i to j as multiplier\n",
    "\t\t\t\tproduct = int(s[j:])         # Digits from j to end as product\n",
    "\n",
    "\t\t\t\t# Check if the multiplication holds and add the product if valid\n",
    "\t\t\t\tif is_valid(multiplicand, multiplier, product):\n",
    "\t\t\t\t\tunique_products.add(product)\n",
    "\n",
    "\t# Return the sum of all unique products found\n",
    "\treturn sum(unique_products)"
   ]
  },
  {
   "cell_type": "markdown",
   "id": "6ac897d1",
   "metadata": {},
   "source": [
    "### **Example Usage and Output**"
   ]
  },
  {
   "cell_type": "code",
   "execution_count": 2,
   "id": "a20d5a10",
   "metadata": {},
   "outputs": [
    {
     "name": "stdout",
     "output_type": "stream",
     "text": [
      "The sum of all unique products for n=9 is: 45228\n"
     ]
    }
   ],
   "source": [
    "n = 9\n",
    "result = pandigital_products(n)\n",
    "print(f\"The sum of all unique products for n={n} is: {result}\")"
   ]
  },
  {
   "cell_type": "markdown",
   "id": "2cf501f8",
   "metadata": {},
   "source": [
    "## **Systematic Search for 1-to-9 Pandigital Products Using Specific Multiplication Formats**\n",
    "This approach only focuses on all valid combinations of multiplicands and multipliers that could produce a 9-digit pandigital product. It considers two specific multiplication formats: a single-digit number multiplied by a four-digit number, and a two-digit number multiplied by a three-digit number. For each combination, the digits of the multiplicand, multiplier, and product are concatenated and checked to ensure that all digits from 1 to 9 are used exactly once with no repetitions or omissions. Unique products that satisfy this condition are collected, and their sum is computed to obtain the final result."
   ]
  },
  {
   "cell_type": "code",
   "execution_count": 3,
   "id": "31e6e591",
   "metadata": {},
   "outputs": [
    {
     "name": "stdout",
     "output_type": "stream",
     "text": [
      "The sum of all unique products is: 45228\n"
     ]
    }
   ],
   "source": [
    "unique_products = set()           # Set to store unique products that meet the pandigital condition\n",
    "digits = set('123456789')         # Set of digits that must be used exactly once\n",
    "\n",
    "# Format 1: 1-digit × 4-digit = 4-digit\n",
    "for a in range(1, 10):            # a: 1-digit multiplicand (1 to 9)\n",
    "\tfor b in range(1234, 9877):   # b: 4-digit multiplier (1234 to 9876)\n",
    "\t\tproduct = a * b           # Calculate the product\n",
    "\t\ts = f\"{a}{b}{product}\"    # Concatenate multiplicand, multiplier, and product as a string\n",
    "\t\t# Check if the concatenated string is 9 digits and pandigital\n",
    "\t\tif len(s) == 9 and set(s) == digits:\n",
    "\t\t\tunique_products.add(product)  # Add the product if it meets the condition\n",
    "\n",
    "# Format 2: 2-digit × 3-digit = 4-digit\n",
    "for a in range(12, 100):          # a: 2-digit multiplicand (12 to 99)\n",
    "\tfor b in range(123, 988):     # b: 3-digit multiplier (123 to 987)\n",
    "\t\tproduct = a * b           # Calculate the product\n",
    "\t\ts = f\"{a}{b}{product}\"    # Concatenate multiplicand, multiplier, and product as a string\n",
    "\t\t# Check if the concatenated string is 9 digits and pandigital\n",
    "\t\tif len(s) == 9 and set(s) == digits:\n",
    "\t\t\tunique_products.add(product)  # Add the product if it meets the condition\n",
    "\n",
    "print(f\"The sum of all unique products is: {sum(unique_products)}\")"
   ]
  }
 ],
 "metadata": {
  "kernelspec": {
   "display_name": "Python 3",
   "language": "python",
   "name": "python3"
  },
  "language_info": {
   "codemirror_mode": {
    "name": "ipython",
    "version": 3
   },
   "file_extension": ".py",
   "mimetype": "text/x-python",
   "name": "python",
   "nbconvert_exporter": "python",
   "pygments_lexer": "ipython3",
   "version": "3.13.4"
  }
 },
 "nbformat": 4,
 "nbformat_minor": 5
}
