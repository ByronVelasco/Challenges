{
 "cells": [
  {
   "cell_type": "markdown",
   "id": "c45f42cf",
   "metadata": {},
   "source": [
    "# Challenge 34 – Digit Factorials\n",
    "\n",
    "For this challenge, the goal is **to find the sum of all curious numbers**. A curious number is defined as a number that is equal to the sum of the factorials of its digits. We avoid single-digit numbers since they do not meet the criteria."
   ]
  },
  {
   "cell_type": "markdown",
   "id": "c26f6e99",
   "metadata": {},
   "source": [
    "## Problem Statement\n",
    "\n",
    "**Task:**  \n",
    "Find the sum of all curious numbers."
   ]
  },
  {
   "cell_type": "markdown",
   "id": "d1b9f217",
   "metadata": {},
   "source": [
    "## Data Context\n",
    "\n",
    "- The upper limit for curious numbers is set to 7 * 9! (factorial of 9), which is 2540160. This is because the maximum sum of the factorials of the digits for a number with up to seven digits cannot exceed this value.\n",
    "\n",
    "Before reading the solution below, try solving the problem yourself and compare your approach and results."
   ]
  },
  {
   "cell_type": "markdown",
   "id": "859516fc",
   "metadata": {},
   "source": [
    "## Finding Curious Numbers Through Factorial Sum Verification\n",
    "\n",
    "The approach identifies numbers that are equal to the sum of the factorials of their digits. It sets an upper limit based on the maximum possible sum for numbers with up to seven digits, since 7 × 9! is the largest sum achievable by a number of this form. For each number in the specified range (excluding single-digit numbers), it calculates the sum of the factorials of its digits and checks if this sum matches the original number. If so, the number is collected as a result."
   ]
  },
  {
   "cell_type": "markdown",
   "id": "54c66571",
   "metadata": {},
   "source": [
    "## Final Result\n",
    "\n",
    "The correct result is:\n",
    "\n",
    "**40730**\n",
    "\n",
    "---\n",
    "\n",
    "&copy; Byron Velasco, 2025"
   ]
  }
 ],
 "metadata": {
  "language_info": {
   "name": "python"
  }
 },
 "nbformat": 4,
 "nbformat_minor": 5
}
