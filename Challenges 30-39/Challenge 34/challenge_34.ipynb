{
 "cells": [
  {
   "cell_type": "markdown",
   "id": "5958103a",
   "metadata": {},
   "source": [
    "# **Challenge 34**\n",
    "## **Finding Curious Numbers Through Factorial Sum Verification**\n",
    "The approach identifies numbers that are equal to the sum of the factorials of their digits. It sets an upper limit based on the maximum possible sum for numbers with up to seven digits, since 7 × 9! is the largest sum achievable by a number of this form. For each number in the specified range (excluding single-digit numbers), it calculates the sum of the factorials of its digits and checks if this sum matches the original number. If so, the number is collected as a result."
   ]
  },
  {
   "cell_type": "code",
   "execution_count": 3,
   "id": "7e5dafaf",
   "metadata": {},
   "outputs": [],
   "source": [
    "from math import factorial\n",
    "\n",
    "def find_curious_numbers():\n",
    "  \n",
    "\t# Helper function to calculate the sum of factorials of digits in a number\n",
    "\tdef sum_of_digit_factorials(n):\n",
    "\t\treturn sum(digit_factorials[int(d)] for d in str(n))\n",
    "\n",
    "\t# Precompute factorials of digits 0-9\n",
    "\tdigit_factorials = [factorial(i) for i in range(10)]\n",
    "\n",
    "\t# Set upper limit based on the maximum possible sum for 7-digit numbers\n",
    "\t# 7 * 9! is the theoretical upper bound since 9! is the largest factorial of a single digit\n",
    "\tupper_limit = 7 * factorial(9)\n",
    "\tcurious_numbers = []  # List to store numbers that satisfy the curious property\n",
    "\n",
    "\t# Check all numbers from 10 to the upper limit\n",
    "\tfor i in range(10, upper_limit):  # Start from 10 since single digits are excluded\n",
    "\t\t# Check if the number equals the sum of factorials of its digits\n",
    "\t\tif i == sum_of_digit_factorials(i):\n",
    "\t\t\tcurious_numbers.append(i)  # Add to list if it satisfies the condition\n",
    "\n",
    "\treturn curious_numbers"
   ]
  },
  {
   "cell_type": "markdown",
   "id": "6ac897d1",
   "metadata": {},
   "source": [
    "### **Example Usage and Output**"
   ]
  },
  {
   "cell_type": "code",
   "execution_count": 4,
   "id": "a20d5a10",
   "metadata": {},
   "outputs": [
    {
     "name": "stdout",
     "output_type": "stream",
     "text": [
      "Curious numbers: [145, 40585]\n",
      "Sum: 40730\n"
     ]
    }
   ],
   "source": [
    "curious_numbers = find_curious_numbers()\n",
    "print(\"Curious numbers:\", curious_numbers)\n",
    "print(\"Sum:\", sum(curious_numbers))"
   ]
  }
 ],
 "metadata": {
  "kernelspec": {
   "display_name": "Python 3",
   "language": "python",
   "name": "python3"
  },
  "language_info": {
   "codemirror_mode": {
    "name": "ipython",
    "version": 3
   },
   "file_extension": ".py",
   "mimetype": "text/x-python",
   "name": "python",
   "nbconvert_exporter": "python",
   "pygments_lexer": "ipython3",
   "version": "3.13.4"
  }
 },
 "nbformat": 4,
 "nbformat_minor": 5
}
