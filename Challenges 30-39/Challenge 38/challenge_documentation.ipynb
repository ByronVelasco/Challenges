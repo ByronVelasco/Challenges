{
 "cells": [
  {
   "cell_type": "markdown",
   "id": "c45f42cf",
   "metadata": {},
   "source": [
    "# Challenge 38 – Pandigital Multiples\n",
    "\n",
    "For this challenge, the goal is **to find the largest 1-to-9 pandigital number that can be formed as a concatenated product of an integer with (1, 2, ..., n)**. A pandigital number contains each digit from 1 to 9 exactly once."
   ]
  },
  {
   "cell_type": "markdown",
   "id": "c26f6e99",
   "metadata": {},
   "source": [
    "## Problem Statement\n",
    "\n",
    "**Task:**  \n",
    "Find the largest 1-to-9 pandigital number that can be formed as a concatenated product of an integer with (1, 2, ..., n)."
   ]
  },
  {
   "cell_type": "markdown",
   "id": "d1b9f217",
   "metadata": {},
   "source": [
    "## Data Context\n",
    "\n",
    "- None\n",
    "\n",
    "Before reading the solution below, try solving the problem yourself and compare your approach and results."
   ]
  },
  {
   "cell_type": "markdown",
   "id": "859516fc",
   "metadata": {},
   "source": [
    "## Systematic Search for the Largest Pandigital Concatenated Product\n",
    "\n",
    "The methodology involves two complementary approaches: first, a verification mechanism that determines whether a given string represents a 1-to-9 pandigital number by checking if it contains exactly 9 digits and uses each digit from 1 to 9 exactly once. Second, a systematic search algorithm that examines all integers up to 4 digits and generates concatenated products by multiplying each integer by consecutive values (1, 2, 3, ...) until the concatenated result reaches at least 9 digits. For each generated 9-digit concatenated product, the pandigital verification is applied, and if valid, the result is compared against the current maximum to track the largest pandigital concatenated product found. The search is optimized by limiting the range to 4-digit numbers, as 5-digit numbers would exceed 9 digits when concatenated with just their first two multiples."
   ]
  },
  {
   "cell_type": "markdown",
   "id": "54c66571",
   "metadata": {},
   "source": [
    "## Final Result\n",
    "\n",
    "The final result is:\n",
    "\n",
    "**932718654**\n",
    "\n",
    "---\n",
    "\n",
    "&copy; Byron Velasco, 2025"
   ]
  }
 ],
 "metadata": {
  "language_info": {
   "name": "python"
  }
 },
 "nbformat": 4,
 "nbformat_minor": 5
}
