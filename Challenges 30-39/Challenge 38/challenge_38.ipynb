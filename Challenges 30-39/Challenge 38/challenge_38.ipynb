{
 "cells": [
  {
   "cell_type": "markdown",
   "id": "5958103a",
   "metadata": {},
   "source": [
    "# **Challenge 38**\n",
    "## **Systematic Search for the Largest Pandigital Concatenated Product**\n",
    "The methodology involves two complementary approaches: first, a verification mechanism that determines whether a given string represents a 1-to-9 pandigital number by checking if it contains exactly 9 digits and uses each digit from 1 to 9 exactly once. Second, a systematic search algorithm that examines all integers up to 4 digits and generates concatenated products by multiplying each integer by consecutive values (1, 2, 3, ...) until the concatenated result reaches at least 9 digits. For each generated 9-digit concatenated product, the pandigital verification is applied, and if valid, the result is compared against the current maximum to track the largest pandigital concatenated product found. The search is optimized by limiting the range to 4-digit numbers, as 5-digit numbers would exceed 9 digits when concatenated with just their first two multiples."
   ]
  },
  {
   "cell_type": "code",
   "execution_count": null,
   "id": "4b112016",
   "metadata": {},
   "outputs": [],
   "source": [
    "def is_pandigital(num_str):\n",
    "\t\"\"\"\n",
    "\tCheck if a string represents a 1-to-9 pandigital number.\n",
    "\t\n",
    "\tArgs:\n",
    "\t\tnum_str (str): String representation of the number to check\n",
    "\t\t\t\n",
    "\tReturns:\n",
    "\t\tbool: True if the string is 1-to-9 pandigital, False otherwise\n",
    "\t\"\"\"\n",
    "\n",
    "\treturn len(num_str) == 9 and set(num_str) == set(\"123456789\")\n",
    "\n",
    "def largest_pandigital_multiple():\n",
    "\t\"\"\"\n",
    "\tFind the largest 1-to-9 pandigital number that can be formed as a concatenated product.\n",
    "\t\n",
    "\tReturns:\n",
    "\t\tint: The largest 1-to-9 pandigital concatenated product\n",
    "\t\"\"\"\n",
    "\tmax_pandigital = 0  # Track the maximum pandigital number found\n",
    "\t\n",
    "\t# We only need to consider numbers up to 4 digits\n",
    "\t# (5-digit numbers would exceed 9 digits when multiplied by 1 and 2)\n",
    "\tfor i in range(1, 10000):\n",
    "\t\tconcatenated = \"\"  # String to build the concatenated product\n",
    "\t\tn = 1              # Multiplier starting from 1\n",
    "\t\t\n",
    "\t\t# Build concatenated product until we have at least 9 digits\n",
    "\t\twhile len(concatenated) < 9:\n",
    "\t\t\tconcatenated += str(i * n)  # Append the next multiple\n",
    "\t\t\tn += 1                      # Increment the multiplier\n",
    "\t\t\n",
    "\t\t# Check if the resulting 9-digit number is pandigital\n",
    "\t\tif is_pandigital(concatenated):\n",
    "\t\t\t# Update maximum if this pandigital number is larger\n",
    "\t\t\tmax_pandigital = max(max_pandigital, int(concatenated))\n",
    "\t\n",
    "\treturn max_pandigital"
   ]
  },
  {
   "cell_type": "markdown",
   "id": "6ac897d1",
   "metadata": {},
   "source": [
    "### **Example Usage and Output**"
   ]
  },
  {
   "cell_type": "code",
   "execution_count": 6,
   "id": "1ecd49ce",
   "metadata": {},
   "outputs": [
    {
     "name": "stdout",
     "output_type": "stream",
     "text": [
      "The largest 1 to 9 pandigital number that can be formed as a concatenated product is: 932718654\n"
     ]
    }
   ],
   "source": [
    "result = largest_pandigital_multiple\n",
    "print(f\"The largest 1 to 9 pandigital number that can be formed as a concatenated product is: {result()}\")"
   ]
  }
 ],
 "metadata": {
  "kernelspec": {
   "display_name": "Python 3",
   "language": "python",
   "name": "python3"
  },
  "language_info": {
   "codemirror_mode": {
    "name": "ipython",
    "version": 3
   },
   "file_extension": ".py",
   "mimetype": "text/x-python",
   "name": "python",
   "nbconvert_exporter": "python",
   "pygments_lexer": "ipython3",
   "version": "3.13.4"
  }
 },
 "nbformat": 4,
 "nbformat_minor": 5
}
