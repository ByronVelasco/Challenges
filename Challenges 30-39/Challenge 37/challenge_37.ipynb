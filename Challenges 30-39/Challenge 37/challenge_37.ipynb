{
 "cells": [
  {
   "cell_type": "markdown",
   "id": "5958103a",
   "metadata": {},
   "source": [
    "# **Challenge 37**\n",
    "## **Systematic Sequential Search for Truncatable Primes with Bidirectional Digit Removal Verification**\n",
    "The methodology employs a systematic search approach to identify truncatable prime numbers through three key components. First, it implements an efficient primality testing algorithm that checks divisibility up to the square root of a number, optimizing by handling even numbers as special cases. Second, it verifies the truncatable property by systematically removing digits from both ends of a number and testing whether all resulting truncations remain prime - this involves checking all possible left-to-right truncations (removing digits from the left) and all possible right-to-left truncations (removing digits from the right). Finally, it uses a sequential search strategy that examines odd numbers starting from 11, skipping even numbers for efficiency, and continues until exactly 11 truncatable primes are found, leveraging the known mathematical fact that there are precisely 11 such numbers."
   ]
  },
  {
   "cell_type": "code",
   "execution_count": 23,
   "id": "1ec0f2cb",
   "metadata": {},
   "outputs": [],
   "source": [
    "from math import isqrt\n",
    "\n",
    "def is_prime(n):\n",
    "\t# Handle edge cases: numbers less than 2 are not prime\n",
    "\tif n < 2:\n",
    "\t\treturn False\n",
    "\t# 2 is the only even prime number\n",
    "\tif n == 2:\n",
    "\t\treturn True\n",
    "\t# Exclude even numbers greater than 2\n",
    "\tif n % 2 == 0:\n",
    "\t\treturn False\n",
    "\t# Check for odd divisors up to the square root of n\n",
    "\tfor i in range(3, isqrt(n) + 1, 2):\n",
    "\t\tif n % i == 0:\n",
    "\t\t\treturn False\n",
    "\treturn True\n",
    "\n",
    "def is_truncatable_prime(n):\n",
    "\ts = str(n)  # Convert number to string for digit manipulation\n",
    "\t\n",
    "\t# Check truncations from left to right (removing digits from the left)\n",
    "\tfor i in range(len(s)):\n",
    "\t\tif not is_prime(int(s[i:])):  # Check if remaining right portion is prime\n",
    "\t\t\treturn False\n",
    "\t\n",
    "\t# Check truncations from right to left (removing digits from the right)\n",
    "\tfor i in range(len(s)):\n",
    "\t\tif not is_prime(int(s[:len(s)-i])):  # Check if remaining left portion is prime\n",
    "\t\t\treturn False\n",
    "\t\n",
    "\treturn True  # All truncations are prime\n",
    "\n",
    "def find_truncatable_primes():\n",
    "\ttruncatable_primes = []  # List to store found truncatable primes\n",
    "\tnum = 11  # Start from 11 because single-digit primes are excluded from the problem\n",
    "\t\n",
    "\t# Continue until we find exactly 11 truncatable primes (known mathematical fact)\n",
    "\twhile len(truncatable_primes) < 11:\n",
    "\t\t# Check if current number is both prime and truncatable\n",
    "\t\tif is_truncatable_prime(num):\n",
    "\t\t\ttruncatable_primes.append(num)\n",
    "\t\tnum += 2  # Skip even numbers since they can't be prime (except 2)\n",
    "\t\n",
    "\treturn sum(truncatable_primes)"
   ]
  },
  {
   "cell_type": "markdown",
   "id": "6ac897d1",
   "metadata": {},
   "source": [
    "### **Example Usage and Output**"
   ]
  },
  {
   "cell_type": "code",
   "execution_count": 27,
   "id": "db41049f",
   "metadata": {},
   "outputs": [
    {
     "name": "stdout",
     "output_type": "stream",
     "text": [
      "The sum of the 11 truncatable primes is: 748317\n"
     ]
    }
   ],
   "source": [
    "result = find_truncatable_primes()\n",
    "print(f\"The sum of the 11 truncatable primes is: {result}\")"
   ]
  },
  {
   "cell_type": "markdown",
   "id": "12a08fa0",
   "metadata": {},
   "source": [
    "## **Optimized Recursive Backtracking for Truncatable Prime Candidate Generation**\n",
    "\n",
    "The methodology employs an optimized candidate generation approach using recursive backtracking to build potential truncatable prime numbers. It begins with a carefully selected set of single-digit prime numbers as starting points and uses only specific digits (1, 3, 7, 9) for extensions, as these are the only digits that can appear in truncatable primes without immediately creating composite numbers. The backtracking algorithm recursively constructs multi-digit numbers by appending valid digits to existing prime numbers, pruning branches early when a non-prime number is encountered. This systematic construction ensures that only numbers with the potential to be truncatable primes are generated, significantly reducing the search space. Once all viable candidates are collected, each is tested for the full truncatable prime property, and the sum of all valid truncatable primes is computed."
   ]
  },
  {
   "cell_type": "code",
   "execution_count": 31,
   "id": "1c5fbe9b",
   "metadata": {},
   "outputs": [],
   "source": [
    "def generate_candidates():\n",
    "\t# Only use digits that can appear in truncatable primes without creating composite numbers\n",
    "\tdigits = ['1', '3', '7', '9']\n",
    "\t# Start with single-digit prime numbers as the base for building candidates\n",
    "\tinitial = ['2', '3', '5', '7']\n",
    "\tcandidates = set()  # Set to store unique candidate numbers\n",
    "\n",
    "\tdef backtrack(num_str):\n",
    "\t\t# Early pruning: stop if the current number is not prime\n",
    "\t\tif not is_prime(int(num_str)):\n",
    "\t\t\treturn\n",
    "\t\t# Add multi-digit numbers to candidates (exclude single-digit primes)\n",
    "\t\tif len(num_str) > 1:\n",
    "\t\t\tcandidates.add(int(num_str))\n",
    "\t\t# Try extending the current number with each valid digit\n",
    "\t\tfor d in digits:\n",
    "\t\t\tnew = num_str + d  # Append digit to create a new number\n",
    "\t\t\t# Only continue recursion if the new number is prime\n",
    "\t\t\tif is_prime(int(new)):\n",
    "\t\t\t\tbacktrack(new)  # Recursive call to build longer numbers\n",
    "\n",
    "\t# Start the backtracking process with each initial single-digit prime\n",
    "\tfor base in initial:\n",
    "\t\tbacktrack(base)\n",
    "\n",
    "\treturn candidates\n",
    "\n",
    "def optimized_find_truncatable_primes():\n",
    "\t# Generate all potential truncatable prime candidates using backtracking\n",
    "\tcandidates = generate_candidates()\n",
    "\t# Filter candidates to find those that are actually truncatable primes\n",
    "\ttruncatable = [n for n in candidates if is_truncatable_prime(n)]\n",
    "\t# Return the sum of all truncatable primes found\n",
    "\treturn sum(truncatable)"
   ]
  },
  {
   "cell_type": "markdown",
   "id": "60d5d4b1",
   "metadata": {},
   "source": [
    "### **Example Usage and Output**"
   ]
  },
  {
   "cell_type": "code",
   "execution_count": 32,
   "id": "6afe527a",
   "metadata": {},
   "outputs": [
    {
     "name": "stdout",
     "output_type": "stream",
     "text": [
      "The sum of the 11 truncatable primes is: 748317\n"
     ]
    }
   ],
   "source": [
    "result = optimized_find_truncatable_primes()\n",
    "print(f\"The sum of the 11 truncatable primes is: {result}\")"
   ]
  }
 ],
 "metadata": {
  "kernelspec": {
   "display_name": "Python 3",
   "language": "python",
   "name": "python3"
  },
  "language_info": {
   "codemirror_mode": {
    "name": "ipython",
    "version": 3
   },
   "file_extension": ".py",
   "mimetype": "text/x-python",
   "name": "python",
   "nbconvert_exporter": "python",
   "pygments_lexer": "ipython3",
   "version": "3.13.4"
  }
 },
 "nbformat": 4,
 "nbformat_minor": 5
}
