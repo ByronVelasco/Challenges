{
 "cells": [
  {
   "cell_type": "markdown",
   "id": "c45f42cf",
   "metadata": {},
   "source": [
    "# Challenge 37 – Truncatable Primes\n",
    "\n",
    "For this challenge, the goal is **to find the sum of all known truncable primes**. A truncatable prime is a prime number that remains prime when digits are removed from either the left or the right side. There are exactly 11 known truncatable primes."
   ]
  },
  {
   "cell_type": "markdown",
   "id": "c26f6e99",
   "metadata": {},
   "source": [
    "## Problem Statement\n",
    "\n",
    "**Task:**  \n",
    "Find the sum of all known truncatable primes."
   ]
  },
  {
   "cell_type": "markdown",
   "id": "d1b9f217",
   "metadata": {},
   "source": [
    "## Data Context\n",
    "\n",
    "- None\n",
    "\n",
    "Before reading the solution below, try solving the problem yourself and compare your approach and results."
   ]
  },
  {
   "cell_type": "markdown",
   "id": "859516fc",
   "metadata": {},
   "source": [
    "## Systematic Sequential Search for Truncatable Primes with Bidirectional Digit Removal Verification\n",
    "\n",
    "The methodology employs a systematic search approach to identify truncatable prime numbers through three key components. First, it implements an efficient primality testing algorithm that checks divisibility up to the square root of a number, optimizing by handling even numbers as special cases. Second, it verifies the truncatable property by systematically removing digits from both ends of a number and testing whether all resulting truncations remain prime - this involves checking all possible left-to-right truncations (removing digits from the left) and all possible right-to-left truncations (removing digits from the right). Finally, it uses a sequential search strategy that examines odd numbers starting from 11, skipping even numbers for efficiency, and continues until exactly 11 truncatable primes are found, leveraging the known mathematical fact that there are precisely 11 such numbers."
   ]
  },
  {
   "cell_type": "markdown",
   "id": "d41d7dd4",
   "metadata": {},
   "source": [
    "## Optimized Recursive Backtracking for Truncatable Prime Candidate Generation\n",
    "\n",
    "The methodology employs an optimized candidate generation approach using recursive backtracking to build potential truncatable prime numbers. It begins with a carefully selected set of single-digit prime numbers as starting points and uses only specific digits (1, 3, 7, 9) for extensions, as these are the only digits that can appear in truncatable primes without immediately creating composite numbers. The backtracking algorithm recursively constructs multi-digit numbers by appending valid digits to existing prime numbers, pruning branches early when a non-prime number is encountered. This systematic construction ensures that only numbers with the potential to be truncatable primes are generated, significantly reducing the search space. Once all viable candidates are collected, each is tested for the full truncatable prime property, and the sum of all valid truncatable primes is computed."
   ]
  },
  {
   "cell_type": "markdown",
   "id": "54c66571",
   "metadata": {},
   "source": [
    "## Final Result\n",
    "\n",
    "The final result is:\n",
    "\n",
    "**748317**\n",
    "\n",
    "---\n",
    "\n",
    "*Challenge yourself: Try solving it using both methods and reflect on their differences in logic and efficiency!*\n",
    "\n",
    "&copy; Byron Velasco, 2025"
   ]
  }
 ],
 "metadata": {
  "language_info": {
   "name": "python"
  }
 },
 "nbformat": 4,
 "nbformat_minor": 5
}
