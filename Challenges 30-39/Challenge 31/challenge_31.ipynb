{
 "cells": [
  {
   "cell_type": "markdown",
   "id": "5958103a",
   "metadata": {},
   "source": [
    "# **Challenge 31**\n",
    "## **Dynamic Programming Approach for Counting Coin Combinations**\n",
    "The approach uses dynamic programming to efficiently count the number of ways to make a given amount using a set of coin denominations. It initializes a list where each index represents an amount, and the value at each index represents the number of ways to form that amount. For each coin denomination, the method iterates through all possible amounts greater than or equal to the coin's value, updating the list by adding the number of ways to make the current amount minus the coin's value. This ensures that all combinations of coins are considered without repetition, ultimately yielding the total number of ways to form the target amount."
   ]
  },
  {
   "cell_type": "code",
   "execution_count": 13,
   "id": "31e6e591",
   "metadata": {},
   "outputs": [],
   "source": [
    "def coin_sum(pound, pence):\n",
    "\t# Convert the total amount to pence\n",
    "\ttotal_pence = pound * 100 + pence\n",
    "\t# List of available coin denominations in pence\n",
    "\tcoins = [200, 100, 50, 20, 10, 5, 2, 1]\n",
    "\t# Initialize a list to store the number of ways to make each amount up to total_pence\n",
    "\tways = [0] * (total_pence + 1)\n",
    "\tways[0] = 1  # There's one way to make 0 pence (using no coins)\n",
    "\n",
    "\t# For each coin, update the ways to make each amount from coin to total_pence\n",
    "\tfor coin in coins:\n",
    "\t\tfor i in range(coin, total_pence + 1):\n",
    "\t\t\tways[i] += ways[i - coin]  # Add the ways to make (i - coin) pence\n",
    "\n",
    "\t# Return the number of ways to make the total amount in pence\n",
    "\treturn ways[total_pence]"
   ]
  },
  {
   "cell_type": "markdown",
   "id": "195ef3d4",
   "metadata": {},
   "source": [
    "### **Example Usage and Output**"
   ]
  },
  {
   "cell_type": "code",
   "execution_count": 14,
   "id": "910f9f3b",
   "metadata": {},
   "outputs": [
    {
     "name": "stdout",
     "output_type": "stream",
     "text": [
      "Number of ways to make 2 pound(s) and 0 pence: 73682\n"
     ]
    }
   ],
   "source": [
    "pound, pence = 2, 0\n",
    "counts = coin_sum(pound, pence)\n",
    "print(f\"Number of ways to make {pound} pound(s) and {pence} pence: {counts}\")"
   ]
  }
 ],
 "metadata": {
  "kernelspec": {
   "display_name": "Python 3",
   "language": "python",
   "name": "python3"
  },
  "language_info": {
   "codemirror_mode": {
    "name": "ipython",
    "version": 3
   },
   "file_extension": ".py",
   "mimetype": "text/x-python",
   "name": "python",
   "nbconvert_exporter": "python",
   "pygments_lexer": "ipython3",
   "version": "3.13.4"
  }
 },
 "nbformat": 4,
 "nbformat_minor": 5
}
