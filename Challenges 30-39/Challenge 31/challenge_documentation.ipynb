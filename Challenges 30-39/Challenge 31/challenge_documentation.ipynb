{
 "cells": [
  {
   "cell_type": "markdown",
   "id": "c45f42cf",
   "metadata": {},
   "source": [
    "# Challenge 31 – Coin Sum\n",
    "\n",
    "For this challenge, the objective is **to find the number of different ways to make a given amount of money using a set of coins**. In the United Kingdom, the coins in circulation are 1p, 2p, 5p, 10p, 20p, 50p, £1 (100p), and £2 (200p)."
   ]
  },
  {
   "cell_type": "markdown",
   "id": "c26f6e99",
   "metadata": {},
   "source": [
    "## Problem Statement\n",
    "\n",
    "**Task:**  \n",
    "Find the number of different ways to make £2."
   ]
  },
  {
   "cell_type": "markdown",
   "id": "d1b9f217",
   "metadata": {},
   "source": [
    "## Data Context\n",
    "\n",
    "- `pound`: non-negative integer number representing the amount in pounds.\n",
    "- `pence`: non-negative integer number representing the amount in pence.\n",
    "\n",
    "Before reading the solution below, try solving the problem yourself and compare your approach and results."
   ]
  },
  {
   "cell_type": "markdown",
   "id": "8af43551",
   "metadata": {},
   "source": [
    "## Dynamic Programming Approach for Counting Coin Combinations\n",
    "The goal is to determine the number of distinct ways to express a target amount as the sum of given coin denominations, where each denomination can be used any number of times. This is a classic problem in combinatorics and can be solved using dynamic programming.\n",
    "\n",
    "For each coin denomination, the number of ways to make a total amount $n$ is calculated by summing the number of ways to make all amounts from $n-c$, where $c$ is the value of the coin. The recurrence relation can be expressed as:\n",
    "\n",
    "$$\n",
    "\\text{ways}(n) = \\sum_{i=1}^{k} \\text{ways}(n - c_i)\n",
    "$$\n",
    "\n",
    "where $c_1, c_2, ..., c_k$ are the available coin denominations, and $\\text{ways}(0) = 1$ (there is one way to make zero: using no coins). By iteratively applying this relation for each coin and each amount up to the target, all possible combinations are counted without duplication."
   ]
  },
  {
   "cell_type": "markdown",
   "id": "54c66571",
   "metadata": {},
   "source": [
    "## Final Result\n",
    "\n",
    "For `pound=2` and `pence=0`, the correct result is:\n",
    "\n",
    "**73682**\n",
    "\n",
    "---\n",
    "\n",
    "&copy; Byron Velasco, 2025"
   ]
  }
 ],
 "metadata": {
  "language_info": {
   "name": "python"
  }
 },
 "nbformat": 4,
 "nbformat_minor": 5
}
