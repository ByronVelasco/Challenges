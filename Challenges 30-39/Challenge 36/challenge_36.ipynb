{
 "cells": [
  {
   "cell_type": "markdown",
   "id": "5958103a",
   "metadata": {},
   "source": [
    "# **Challenge 36**\n",
    "## **Dual-Base Palindrome Detection Through Systematic Odd Number Analysis**\n",
    "The methodology involves systematically examining all odd numbers within a specified range to identify those that exhibit palindromic properties in both decimal and binary representations. For each candidate number, the approach first converts it to its string representation in base 10 and checks whether it reads the same forwards and backwards. Simultaneously, it converts the number to its binary representation and performs the same palindrome verification on the binary string. Only numbers that satisfy both palindromic conditions in both number bases are included in the running total. The process leverages the mathematical property that even numbers in binary always end with 0, making them non-palindromic in binary representation, which allows the algorithm to optimize by only checking odd numbers and thereby reducing the search space by half."
   ]
  },
  {
   "cell_type": "code",
   "execution_count": 3,
   "id": "1ec0f2cb",
   "metadata": {},
   "outputs": [],
   "source": [
    "def sum_double_base_palindromes(limit):\n",
    "\t\"\"\"\n",
    "\tSums all numbers below the specified limit that are palindromic in both base 10 and base 2.\n",
    "\t\"\"\"\n",
    "\tdef is_palindrome(s):\n",
    "\t\t\"\"\"\n",
    "\t\tChecks if a string is a palindrome.\n",
    "\t\t\"\"\"\n",
    "\t\treturn s == s[::-1]\n",
    "\n",
    "\ttotal = 0\n",
    "\tfor num in range(1, limit, 2):\n",
    "\t\tif is_palindrome(str(num)) and is_palindrome(bin(num)[2:]):\n",
    "\t\t\ttotal += num\n",
    "\treturn total"
   ]
  },
  {
   "cell_type": "markdown",
   "id": "6ac897d1",
   "metadata": {},
   "source": [
    "### **Example Usage and Output**"
   ]
  },
  {
   "cell_type": "code",
   "execution_count": 4,
   "id": "db41049f",
   "metadata": {},
   "outputs": [
    {
     "name": "stdout",
     "output_type": "stream",
     "text": [
      "The sum of all numbers below 1000000 that are palindromic in both base 10 and base 2 is: 872187\n"
     ]
    }
   ],
   "source": [
    "n = 1000000\n",
    "result = sum_double_base_palindromes(n)\n",
    "print(f\"The sum of all numbers below {n} that are palindromic in both base 10 and base 2 is: {result}\")"
   ]
  }
 ],
 "metadata": {
  "kernelspec": {
   "display_name": "Python 3",
   "language": "python",
   "name": "python3"
  },
  "language_info": {
   "codemirror_mode": {
    "name": "ipython",
    "version": 3
   },
   "file_extension": ".py",
   "mimetype": "text/x-python",
   "name": "python",
   "nbconvert_exporter": "python",
   "pygments_lexer": "ipython3",
   "version": "3.13.4"
  }
 },
 "nbformat": 4,
 "nbformat_minor": 5
}
