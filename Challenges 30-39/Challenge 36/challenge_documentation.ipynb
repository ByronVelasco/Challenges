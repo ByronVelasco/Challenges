{
 "cells": [
  {
   "cell_type": "markdown",
   "id": "c45f42cf",
   "metadata": {},
   "source": [
    "# Challenge 36 – Double-base Palindromes\n",
    "\n",
    "For this challenge, the goal is **to find the sum of all numbers below a given limit that are palindromic in both base 10 and base 2**."
   ]
  },
  {
   "cell_type": "markdown",
   "id": "c26f6e99",
   "metadata": {},
   "source": [
    "## Problem Statement\n",
    "\n",
    "**Task:**  \n",
    "Find the sum of all numbers below 1000000 that are palindromic in both base 10 and base 2."
   ]
  },
  {
   "cell_type": "markdown",
   "id": "d1b9f217",
   "metadata": {},
   "source": [
    "## Data Context\n",
    "\n",
    "- `limit`: The upper limit for the search.\n",
    "\n",
    "Before reading the solution below, try solving the problem yourself and compare your approach and results."
   ]
  },
  {
   "cell_type": "markdown",
   "id": "859516fc",
   "metadata": {},
   "source": [
    "## Dual-Base Palindrome Detection Through Systematic Odd Number Analysis\n",
    "\n",
    "The methodology involves systematically examining all odd numbers within a specified range to identify those that exhibit palindromic properties in both decimal and binary representations. For each candidate number, the approach first converts it to its string representation in base 10 and checks whether it reads the same forwards and backwards. Simultaneously, it converts the number to its binary representation and performs the same palindrome verification on the binary string. Only numbers that satisfy both palindromic conditions in both number bases are included in the running total. The process leverages the mathematical property that even numbers in binary always end with 0, making them non-palindromic in binary representation, which allows the algorithm to optimize by only checking odd numbers and thereby reducing the search space by half."
   ]
  },
  {
   "cell_type": "markdown",
   "id": "54c66571",
   "metadata": {},
   "source": [
    "## Final Result\n",
    "\n",
    "For `limit=1000000`, the final result is:\n",
    "\n",
    "**872187**\n",
    "\n",
    "---\n",
    "\n",
    "&copy; Byron Velasco, 2025"
   ]
  }
 ],
 "metadata": {
  "language_info": {
   "name": "python"
  }
 },
 "nbformat": 4,
 "nbformat_minor": 5
}
