{
 "cells": [
  {
   "cell_type": "markdown",
   "id": "c45f42cf",
   "metadata": {},
   "source": [
    "# Challenge 39 – Integer Right Triangles\n",
    "\n",
    "The objective of this challenge is **to determine the value of p (the perimeter) for which the greatest number of distinct integer-sided right triangles can be formed**."
   ]
  },
  {
   "cell_type": "markdown",
   "id": "c26f6e99",
   "metadata": {},
   "source": [
    "## Problem Statement\n",
    "\n",
    "**Task:**  \n",
    "Determine the value of $p \\leq 1000$ for which the number of distinct integer-sided right triangles with perimeter $p$ is maximized."
   ]
  },
  {
   "cell_type": "markdown",
   "id": "d1b9f217",
   "metadata": {},
   "source": [
    "## Data Context\n",
    "\n",
    "- `p_max`: The maximum perimeter for which the number of integer right triangles is to be determined.\n",
    "\n",
    "Before reading the solution below, try solving the problem yourself and compare your approach and results."
   ]
  },
  {
   "cell_type": "markdown",
   "id": "859516fc",
   "metadata": {},
   "source": [
    "## Mathematical Insight and Approach for Integer Right Triangles\n",
    "\n",
    "The key mathematical insight is that for any perimeter, the sides of the triangle must satisfy both the Pythagorean theorem and the perimeter constraint. By manipulating these equations, one can derive a formula that determines whether a set of side lengths forms a valid triangle for a given perimeter.\n",
    "\n",
    "The approach leverages the fact that only even perimeters can yield integer solutions for right-angled triangles. For each possible value, the method checks all feasible combinations of side lengths, using algebraic manipulation to ensure that the triangle sides are integers and satisfy the required conditions.\n",
    "\n",
    "This process efficiently counts the number of valid triangles for each perimeter, allowing identification of the perimeter with the maximum number of solutions. The solution is based on number theory and properties of Pythagorean triples, optimizing the search by reducing unnecessary calculations and focusing only on mathematically possible cases.\n",
    "\n",
    "To solve the problem, two key equations are considered:\n",
    "- The perimeter constraint: the sum of the three sides equals the perimeter.\n",
    "- The Pythagorean theorem: the sum of the squares of the two shorter sides equals the square of the longest side.\n",
    "\n",
    "Let the sides be represented as three positive integers, with the longest side denoted as the hypotenuse. The equations are:\n",
    "- $a + b + c = p$ (perimeter constraint)\n",
    "- $a^2 + b^2 = c^2$ (Pythagorean theorem)\n",
    "\n",
    "By substituting $c = p - (a + b)$ into the Pythagorean equation, we get:\n",
    "$$\n",
    "a^2 + b^2 = (p - (a + b))^2\n",
    "$$\n",
    "Expanding and rearranging terms leads to:\n",
    "$$\n",
    "a^2 + b^2 = p^2 - 2p(a + b) + (a + b)^2\n",
    "$$\n",
    "$$\n",
    "a^2 + b^2 = p^2 - 2p(a + b) + a^2 + 2ab + b^2\n",
    "$$\n",
    "$$\n",
    "0 = p^2 - 2p(a + b) + 2ab\n",
    "$$\n",
    "$$\n",
    "2p(a + b) = p^2 + 2ab\n",
    "$$\n",
    "$$\n",
    "p(a + b) = (p^2 + 2ab)/2\n",
    "$$\n",
    "$$\n",
    "a + b = (p^2 + 2ab)/(2p)\n",
    "$$\n",
    "\n",
    "To ensure integer solutions, further manipulation yields:\n",
    "For each possible value of one side, the other side must satisfy:\n",
    "$$(p * (p - 2a)) \\% (2 * (p - a)) == 0$$\n",
    "This condition guarantees that the triangle sides are integers and form a valid right-angled triangle for the given perimeter."
   ]
  },
  {
   "cell_type": "markdown",
   "id": "54c66571",
   "metadata": {},
   "source": [
    "## Final Result\n",
    "\n",
    "For `p_max = 1000`, the solution is:\n",
    "\n",
    "**840**\n",
    "\n",
    "---\n",
    "\n",
    "&copy; Byron Velasco, 2025"
   ]
  }
 ],
 "metadata": {
  "language_info": {
   "name": "python"
  }
 },
 "nbformat": 4,
 "nbformat_minor": 5
}
