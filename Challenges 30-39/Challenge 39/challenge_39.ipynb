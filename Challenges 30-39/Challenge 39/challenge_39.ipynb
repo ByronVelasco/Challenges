{
 "cells": [
  {
   "cell_type": "markdown",
   "id": "5958103a",
   "metadata": {},
   "source": [
    "# **Challenge 39**\n",
    "## **Mathematical Insight and Approach for Integer Right Triangles**\n",
    "The key mathematical insight is that for any perimeter, the sides of the triangle must satisfy both the Pythagorean theorem and the perimeter constraint. By manipulating these equations, one can derive a formula that determines whether a set of side lengths forms a valid triangle for a given perimeter.\n",
    "\n",
    "The approach leverages the fact that only even perimeters can yield integer solutions for right-angled triangles. For each possible value, the method checks all feasible combinations of side lengths, using algebraic manipulation to ensure that the triangle sides are integers and satisfy the required conditions.\n",
    "\n",
    "This process efficiently counts the number of valid triangles for each perimeter, allowing identification of the perimeter with the maximum number of solutions. The solution is based on number theory and properties of Pythagorean triples, optimizing the search by reducing unnecessary calculations and focusing only on mathematically possible cases."
   ]
  },
  {
   "cell_type": "code",
   "execution_count": null,
   "id": "a10b78b4",
   "metadata": {},
   "outputs": [],
   "source": [
    "def count_right_angle_triangle_with_perimeter(p):\n",
    "  \"\"\"\n",
    "  Counts the number of integer right angle triangles with perimeter p.\n",
    "  \"\"\"\n",
    "  count = 0\n",
    "  for a in range(2, p // 3):\n",
    "    # For each a, check if b is integer and forms a right triangle\n",
    "    if (p * (p - 2 * a)) % (2 * (p - a)) == 0:\n",
    "      count += 1\n",
    "  return count\n",
    "\n",
    "def max_count_right_angle_triangles(p_max):\n",
    "  \"\"\"\n",
    "  Finds the perimeter <= p_max with the maximum number of integer right angle triangle solutions.\n",
    "  \"\"\"\n",
    "  max_count = 0\n",
    "  p_solution = 0\n",
    "  for p in range(2, p_max + 1, 2):  # Only even perimeters\n",
    "    count = count_right_angle_triangle_with_perimeter(p)\n",
    "    if count > max_count:\n",
    "      max_count = count\n",
    "      p_solution = p\n",
    "  return p_solution, max_count"
   ]
  },
  {
   "cell_type": "markdown",
   "id": "6ac897d1",
   "metadata": {},
   "source": [
    "### **Example Usage and Output**"
   ]
  },
  {
   "cell_type": "code",
   "execution_count": 6,
   "id": "1ecd49ce",
   "metadata": {},
   "outputs": [
    {
     "name": "stdout",
     "output_type": "stream",
     "text": [
      "p = 840, count = 9\n"
     ]
    }
   ],
   "source": [
    "p_max = 1000\n",
    "p_solution, max_count = max_count_right_angle_triangles(p_max)\n",
    "print(f\"p = {p_solution}, count = {max_count}\")"
   ]
  }
 ],
 "metadata": {
  "kernelspec": {
   "display_name": "Python 3",
   "language": "python",
   "name": "python3"
  },
  "language_info": {
   "codemirror_mode": {
    "name": "ipython",
    "version": 3
   },
   "file_extension": ".py",
   "mimetype": "text/x-python",
   "name": "python",
   "nbconvert_exporter": "python",
   "pygments_lexer": "ipython3",
   "version": "3.13.6"
  }
 },
 "nbformat": 4,
 "nbformat_minor": 5
}
