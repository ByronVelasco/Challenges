{
 "cells": [
  {
   "cell_type": "markdown",
   "id": "c45f42cf",
   "metadata": {},
   "source": [
    "# Challenge 35 – Circular Primes\n",
    "\n",
    "For this challenge, the goal is **to find all circular prime numbers below a specified limit**. A circular prime is a prime number that remains prime when its digits are rotated in all possible ways."
   ]
  },
  {
   "cell_type": "markdown",
   "id": "c26f6e99",
   "metadata": {},
   "source": [
    "## Problem Statement\n",
    "\n",
    "**Task:**  \n",
    "Find the number of circular primes below 1000000."
   ]
  },
  {
   "cell_type": "markdown",
   "id": "d1b9f217",
   "metadata": {},
   "source": [
    "## Data Context\n",
    "\n",
    "- `n`: The upper limit for finding circular primes.\n",
    "\n",
    "Before reading the solution below, try solving the problem yourself and compare your approach and results."
   ]
  },
  {
   "cell_type": "markdown",
   "id": "859516fc",
   "metadata": {},
   "source": [
    "## Multi-Step Sieve-Based Approach for Identifying Circular Prime Numbers\n",
    "\n",
    "The methodology employs a comprehensive multi-step approach to systematically identify circular prime numbers within a specified range. The process begins by generating all prime numbers below a given limit using the highly efficient Sieve of Eratosthenes algorithm. This classical method works by creating a boolean array representing all numbers up to the limit, then systematically marking composite numbers as non-prime by iteratively eliminating multiples of each discovered prime, starting from the prime's square to avoid redundant operations.\n",
    "\n",
    "Following prime generation, the algorithm applies an intelligent optimization by filtering the prime list to exclude numbers containing problematic digits. Specifically, any prime containing the digits 0, 2, 4, 5, 6, or 8 is removed from consideration (with the exception of the primes 2 and 5 themselves). This filtering step is crucial because any rotation of a number containing these digits would inevitably produce a composite number: rotations involving even digits (0, 2, 4, 6, 8) would create even numbers (and therefore non-prime except for 2), while rotations involving 5 would create numbers ending in 5 (and therefore divisible by 5, except for 5 itself).\n",
    "\n",
    "For each remaining candidate prime, the algorithm generates all possible digit rotations by systematically cycling through the number's digits. This rotation process involves taking the string representation of the number and creating new numbers by moving each digit from the beginning to the end in sequence, effectively producing all cyclic permutations of the original number's digits.\n",
    "\n",
    "The core verification step then checks whether every single rotation of the candidate prime is itself a prime number. This verification is performed efficiently using set-based lookup operations for constant-time primality checking against the pre-computed prime set. Only when all rotations pass this primality test does the algorithm classify the entire group as circular primes.\n",
    "\n",
    "To maximize efficiency and prevent redundant computations, the algorithm employs a sophisticated tracking mechanism. Once a prime is identified as part of a circular prime group, all of its rotations are immediately added to the result set. Subsequently, when the algorithm encounters any of these rotations during its iteration through the prime list, it skips the verification process entirely since these numbers have already been processed as part of their circular prime family. This optimization significantly reduces computational overhead, especially for larger limits where multiple rotations of the same circular prime group might appear in the prime list."
   ]
  },
  {
   "cell_type": "markdown",
   "id": "54c66571",
   "metadata": {},
   "source": [
    "## Final Result\n",
    "\n",
    "For `n=1000000`, the final result is:\n",
    "\n",
    "**55**\n",
    "\n",
    "---\n",
    "\n",
    "&copy; Byron Velasco, 2025"
   ]
  }
 ],
 "metadata": {
  "language_info": {
   "name": "python"
  }
 },
 "nbformat": 4,
 "nbformat_minor": 5
}
