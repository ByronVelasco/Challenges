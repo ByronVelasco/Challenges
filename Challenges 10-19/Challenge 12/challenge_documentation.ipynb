{
 "cells": [
  {
   "cell_type": "markdown",
   "id": "397fb622",
   "metadata": {},
   "source": [
    "# Challenge 12 – Highly Divisible Triangular Number\n",
    "\n",
    "In this challenge, the objective is to **find the smallest triangle number that has at least `k` divisors**.  \n",
    "A **triangle number** is the sum of the first `n` natural numbers; for example, 15 is a triangle number because 15 = 1 + 2 + 3 + 4 + 5."
   ]
  },
  {
   "cell_type": "markdown",
   "id": "f6d72761",
   "metadata": {},
   "source": [
    "## Problem Statement\n",
    "\n",
    "**Task:**  \n",
    "Find the smallest triangle number that has at least 500 divisors."
   ]
  },
  {
   "cell_type": "markdown",
   "id": "7d60b027",
   "metadata": {},
   "source": [
    "## Data Context\n",
    "\n",
    "- `k`: positive integer number.\n",
    "\n",
    "Before reading the solution below, try solving the problem yourself and compare your approach and results."
   ]
  },
  {
   "cell_type": "markdown",
   "id": "e7cecd70",
   "metadata": {},
   "source": [
    "## Brute Force Search for Highly Divisible Triangle Numbers\n",
    "\n",
    "This approach incrementally generates triangle numbers by summing consecutive natural numbers. For each generated value, it calculates the total number of divisors by checking all integers up to its square root, counting both the divisor and its complement. The process continues until a triangle number is found that meets or exceeds the required number of divisors."
   ]
  },
  {
   "cell_type": "markdown",
   "id": "279dd63e",
   "metadata": {},
   "source": [
    "## Optimized Triangle Number Search Using Prime Factorization and Memoization\n",
    "\n",
    "This method leverages the mathematical properties of triangle numbers and divisor counting to improve efficiency:\n",
    "\n",
    "1. **Triangle Number Formula**: the $n$-th triangle number is given by: $$T_n = \\frac{n(n+1)}{2}$$\n",
    "  Since $n$ and $n+1$ are consecutive integers, they are always coprime (share no common factors except 1).\n",
    "\n",
    "\n",
    "2. **Divisor Function Multiplicativity**: for two coprime numbers $a$ and $b$, the number of divisors of their product is the product of their individual divisor counts: $$d(a \\cdot b) = d(a) \\cdot d(b)$$ where $d(x)$ denotes the number of divisors of $x$.\n",
    "\n",
    "3. **Efficient Factorization**:  \n",
    "\t- If $n$ is even, $T_n = \\frac{n}{2} \\cdot (n+1)$.\n",
    "\t- If $n$ is odd, $T_n = n \\cdot \\frac{n+1}{2}$.   \n",
    "\n",
    "&nbsp;&nbsp;&nbsp;&nbsp;&nbsp;&nbsp;&nbsp;&nbsp;&nbsp;&nbsp;This ensures both factors are integers and coprime, allowing the divisor counts to be multiplied directly.\n",
    "\n",
    "4. **Memoization**:  \n",
    "\tPreviously computed divisor counts are stored and reused to avoid redundant calculations, significantly speeding up the search.\n",
    "\n",
    "By combining these properties, the function efficiently finds the smallest triangle number with at least $k$ divisors."
   ]
  },
  {
   "cell_type": "markdown",
   "id": "1d8f2526",
   "metadata": {},
   "source": [
    "## Final Result\n",
    "\n",
    "For `k=500`, the correct result is:\n",
    "\n",
    "**70600674**\n",
    "\n",
    "---\n",
    "\n",
    "*Challenge yourself: Try solving it using both methods and reflect on their differences in logic and efficiency!*\n",
    "\n",
    "&copy; Byron Velasco, 2025"
   ]
  }
 ],
 "metadata": {
  "language_info": {
   "name": "python"
  }
 },
 "nbformat": 4,
 "nbformat_minor": 5
}
