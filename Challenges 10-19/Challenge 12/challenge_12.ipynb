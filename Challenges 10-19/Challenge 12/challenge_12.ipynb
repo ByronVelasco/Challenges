{
 "cells": [
  {
   "cell_type": "markdown",
   "id": "5958103a",
   "metadata": {},
   "source": [
    "# **Challenge 12**\n",
    "## **Brute Force Search for Highly Divisible Triangle Numbers**\n",
    "This approach incrementally generates triangle numbers by summing consecutive natural numbers. For each generated value, it calculates the total number of divisors by checking all integers up to its square root, counting both the divisor and its complement. The process continues until a triangle number is found that meets or exceeds the required number of divisors."
   ]
  },
  {
   "cell_type": "code",
   "execution_count": 68,
   "id": "557e13e9",
   "metadata": {},
   "outputs": [],
   "source": [
    "def count_divisors(n):\n",
    "\t# Initialize the divisor count\n",
    "\tcount = 0\n",
    "\t# Iterate from 1 up to the square root of n\n",
    "\tfor i in range(1, int(n**0.5) + 1):\n",
    "\t\t# If i divides n, count both i and n//i as divisors\n",
    "\t\tif n % i == 0:\n",
    "\t\t\tcount += 2 if i != n // i else 1  # Avoid double-counting the square root if n is a perfect square\n",
    "\t# Return the total number of divisors\n",
    "\treturn count\n",
    "\n",
    "def triangle_number_with_k_divisors(k):\n",
    "\ttriangle_number = 0  # Initialize the triangle number\n",
    "\tn = 1  # Start with the first natural number\n",
    "\twhile True:\n",
    "\t\ttriangle_number += n  # Compute the next triangle number\n",
    "\t\t# Check if the triangle number has at least k divisors\n",
    "\t\tif count_divisors(triangle_number) >= k:\n",
    "\t\t\treturn triangle_number  # Return the first triangle number with at least k divisors\n",
    "\t\tn += 1  # Move to the next natural number"
   ]
  },
  {
   "cell_type": "markdown",
   "id": "bed24426",
   "metadata": {},
   "source": [
    "### **Example Usage and Output**"
   ]
  },
  {
   "cell_type": "code",
   "execution_count": 69,
   "id": "07321258",
   "metadata": {},
   "outputs": [
    {
     "name": "stdout",
     "output_type": "stream",
     "text": [
      "The lowest triangle number with at least 500 divisors is 76576500\n"
     ]
    }
   ],
   "source": [
    "k = 500\n",
    "result = triangle_number_with_k_divisors(k)\n",
    "print(f\"The lowest triangle number with at least {k} divisors is {result}\")"
   ]
  },
  {
   "cell_type": "markdown",
   "id": "4500319c",
   "metadata": {},
   "source": [
    "## **Optimized Triangle Number Search Using Prime Factorization and Memoization**\n",
    "This approach leverages prime factorization to efficiently determine the number of divisors for triangle numbers. By expressing each triangle number as the product of two consecutive integers (with one divided by two), the method calculates the divisor counts of these factors separately and multiplies them to obtain the total. Memoization is used to store previously computed divisor counts, significantly reducing redundant calculations and improving performance compared to brute-force methods."
   ]
  },
  {
   "cell_type": "code",
   "execution_count": 70,
   "id": "4a6514d7",
   "metadata": {},
   "outputs": [],
   "source": [
    "def count_divisors_optimized(n, memo={}):\n",
    "\t# Check if the number of divisors for n has already been computed\n",
    "\tif n in memo:\n",
    "\t\treturn memo[n]\n",
    "\toriginal_n = n  # Store the original value of n for memoization\n",
    "\tcount = 1  # Initialize the divisor count\n",
    "\ti = 2\n",
    "\t# Factorize n and count the exponents of each prime factor\n",
    "\twhile i * i <= n:\n",
    "\t\texp = 0\n",
    "\t\twhile n % i == 0:\n",
    "\t\t\tn //= i\n",
    "\t\t\texp += 1\n",
    "\t\tcount *= (exp + 1)  # Update the divisor count based on the exponent\n",
    "\t\ti += 1\n",
    "\t# If n is greater than 1, it is a prime factor itself\n",
    "\tif n > 1:\n",
    "\t\tcount *= 2\n",
    "\tmemo[original_n] = count  # Store the result in the memo dictionary\n",
    "\treturn count\n",
    "\n",
    "def triangle_number_with_k_divisors_optimized(k):\n",
    "\tn = 1  # Start with the first natural number\n",
    "\tmemo = {}  # Dictionary to store previously computed divisor counts\n",
    "\twhile True:\n",
    "\t\t# The n-th triangle number is n*(n+1)//2\n",
    "\t\tif n % 2 == 0:\n",
    "\t\t\t# If n is even, divide n by 2 for one factor and use n+1 for the other\n",
    "\t\t\tdiv1 = count_divisors_optimized(n // 2, memo)\n",
    "\t\t\tdiv2 = count_divisors_optimized(n + 1, memo)\n",
    "\t\telse:\n",
    "\t\t\t# If n is odd, divide n+1 by 2 for one factor and use n for the other\n",
    "\t\t\tdiv1 = count_divisors_optimized(n, memo)\n",
    "\t\t\tdiv2 = count_divisors_optimized((n + 1) // 2, memo)\n",
    "\t\t# The total number of divisors of the triangle number is the product of the two counts\n",
    "\t\tif div1 * div2 >= k:\n",
    "\t\t\t# Return the first triangle number with at least k divisors\n",
    "\t\t\treturn n * (n + 1) // 2\n",
    "\t\tn += 1  # Move to the next natural number"
   ]
  },
  {
   "cell_type": "markdown",
   "id": "db4faef2",
   "metadata": {},
   "source": [
    "### **Example Usage and Output**"
   ]
  },
  {
   "cell_type": "code",
   "execution_count": 71,
   "id": "27ada12f",
   "metadata": {},
   "outputs": [
    {
     "name": "stdout",
     "output_type": "stream",
     "text": [
      "The lowest triangle number with at least 500 divisors is 76576500\n"
     ]
    }
   ],
   "source": [
    "k = 500\n",
    "result = triangle_number_with_k_divisors_optimized(k)\n",
    "print(f\"The lowest triangle number with at least {k} divisors is {result}\")"
   ]
  }
 ],
 "metadata": {
  "kernelspec": {
   "display_name": "Python 3",
   "language": "python",
   "name": "python3"
  },
  "language_info": {
   "codemirror_mode": {
    "name": "ipython",
    "version": 3
   },
   "file_extension": ".py",
   "mimetype": "text/x-python",
   "name": "python",
   "nbconvert_exporter": "python",
   "pygments_lexer": "ipython3",
   "version": "3.8.10"
  }
 },
 "nbformat": 4,
 "nbformat_minor": 5
}
