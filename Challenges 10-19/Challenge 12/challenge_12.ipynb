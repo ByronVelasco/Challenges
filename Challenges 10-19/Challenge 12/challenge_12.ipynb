{
 "cells": [
  {
   "cell_type": "markdown",
   "id": "5958103a",
   "metadata": {},
   "source": [
    "## **Algorithm**"
   ]
  },
  {
   "cell_type": "code",
   "execution_count": 10,
   "id": "557e13e9",
   "metadata": {},
   "outputs": [
    {
     "name": "stdout",
     "output_type": "stream",
     "text": [
      "The lowest triangle number with at least 500 divisors is 76576500\n"
     ]
    }
   ],
   "source": [
    "def count_divisors(n):\n",
    "\tcount = 0\n",
    "\tfor i in range(1, int(n**0.5) + 1):\n",
    "\t\tif n % i == 0:\n",
    "\t\t\tcount += 2 if i != n // i else 1\n",
    "\treturn count\n",
    "\n",
    "def find_triangle_number_with_divisors(k):\n",
    "\ttriangle_number = 0\n",
    "\tn = 1\n",
    "\twhile True:\n",
    "\t\ttriangle_number += n\n",
    "\t\tif count_divisors(triangle_number) >= k:\n",
    "\t\t\treturn triangle_number\n",
    "\t\tn += 1\n",
    "\n",
    "# Example usage\n",
    "k = 500  # Replace with your desired value of k\n",
    "result = find_triangle_number_with_divisors(k)\n",
    "print(f\"The lowest triangle number with at least {k} divisors is {result}\")"
   ]
  }
 ],
 "metadata": {
  "kernelspec": {
   "display_name": "Python 3",
   "language": "python",
   "name": "python3"
  },
  "language_info": {
   "codemirror_mode": {
    "name": "ipython",
    "version": 3
   },
   "file_extension": ".py",
   "mimetype": "text/x-python",
   "name": "python",
   "nbconvert_exporter": "python",
   "pygments_lexer": "ipython3",
   "version": "3.8.10"
  }
 },
 "nbformat": 4,
 "nbformat_minor": 5
}
