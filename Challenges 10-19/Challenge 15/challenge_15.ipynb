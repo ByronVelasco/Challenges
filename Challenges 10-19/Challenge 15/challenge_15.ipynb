{
 "cells": [
  {
   "cell_type": "markdown",
   "id": "5958103a",
   "metadata": {},
   "source": [
    "# **Challenge 15**\n",
    "## **Brute Force Recursive Search for Lattice Paths**\n",
    "This approach uses recursion to count the number of possible paths in a grid by exploring all possible moves at each step. At every position, it considers moving either right or down, and recursively sums the number of ways to reach the destination from each new position. The process continues until the edge of the grid is reached, where only one path remains. This exhaustive search ensures that all unique routes are counted."
   ]
  },
  {
   "cell_type": "code",
   "execution_count": 1,
   "id": "dd100a5e",
   "metadata": {},
   "outputs": [],
   "source": [
    "def lattice_paths(n, x=0, y=0, memo=None):\n",
    "\tif memo is None:\n",
    "\t\tmemo = {}\n",
    "\t# If we've reached the bottom or right edge, only one path remains\n",
    "\tif x == n or y == n:\n",
    "\t\treturn 1\n",
    "\t# Check if result is already computed\n",
    "\tif (x, y) in memo:\n",
    "\t\treturn memo[(x, y)]\n",
    "\t# Otherwise, sum the paths from moving right and moving down\n",
    "\tmemo[(x, y)] = lattice_paths(n, x + 1, y, memo) + lattice_paths(n, x, y + 1, memo)\n",
    "\treturn memo[(x, y)]"
   ]
  },
  {
   "cell_type": "markdown",
   "id": "2c3e2807",
   "metadata": {},
   "source": [
    "### **Example Usage and Output**"
   ]
  },
  {
   "cell_type": "code",
   "execution_count": 2,
   "id": "dd763f33",
   "metadata": {},
   "outputs": [
    {
     "name": "stdout",
     "output_type": "stream",
     "text": [
      "The number of routes through a 20x20 grid is: 137846528820\n"
     ]
    }
   ],
   "source": [
    "n = 20\n",
    "route = lattice_paths(n)\n",
    "print(f\"The number of routes through a {n}x{n} grid is: {route}\")"
   ]
  },
  {
   "cell_type": "markdown",
   "id": "a8c323ab",
   "metadata": {},
   "source": [
    "## **Efficient Lattice Path Counting Using Binomial Coefficients**\n",
    "This approach leverages combinatorial mathematics to efficiently determine the number of unique paths in a grid. By recognizing that each path consists of a fixed number of moves in two directions, the total number of distinct routes can be calculated using the binomial coefficient. This coefficient represents the number of ways to arrange a sequence of moves, ensuring all possible combinations are counted without redundant computation."
   ]
  },
  {
   "cell_type": "code",
   "execution_count": 3,
   "id": "c81efc4c",
   "metadata": {},
   "outputs": [],
   "source": [
    "from math import comb\n",
    "\n",
    "def lattice_paths_optimized(n):\n",
    "    # Calculate the number of lattice paths through an n x n grid\n",
    "    # The formula is the binomial coefficient C(2n, n)\n",
    "    # This represents the number of ways to arrange n moves down and n moves right\n",
    "    return comb(2 * n, n)"
   ]
  },
  {
   "cell_type": "markdown",
   "id": "955386fa",
   "metadata": {},
   "source": [
    "### **Example Usage and Output**"
   ]
  },
  {
   "cell_type": "code",
   "execution_count": 4,
   "id": "b1f2b434",
   "metadata": {},
   "outputs": [
    {
     "name": "stdout",
     "output_type": "stream",
     "text": [
      "The number of routes through a 20x20 grid is: 137846528820\n"
     ]
    }
   ],
   "source": [
    "n = 20\n",
    "route = lattice_paths_optimized(n)\n",
    "print(f\"The number of routes through a {n}x{n} grid is: {route}\")"
   ]
  }
 ],
 "metadata": {
  "kernelspec": {
   "display_name": "Python 3",
   "language": "python",
   "name": "python3"
  },
  "language_info": {
   "codemirror_mode": {
    "name": "ipython",
    "version": 3
   },
   "file_extension": ".py",
   "mimetype": "text/x-python",
   "name": "python",
   "nbconvert_exporter": "python",
   "pygments_lexer": "ipython3",
   "version": "3.13.3"
  }
 },
 "nbformat": 4,
 "nbformat_minor": 5
}
