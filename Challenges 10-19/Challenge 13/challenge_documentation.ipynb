{
 "cells": [
  {
   "cell_type": "markdown",
   "id": "9538fa7f",
   "metadata": {},
   "source": [
    "# Challenge 13 – Large Sum\n",
    "\n",
    "In this challenge, the goal is to **find the first k digits of a large sum**."
   ]
  },
  {
   "cell_type": "markdown",
   "id": "f6e01cc3",
   "metadata": {},
   "source": [
    "## Problem Statement\n",
    "\n",
    "**Task:**  \n",
    "Find the first ten digits of the sum of one hundred 50-digit numbers."
   ]
  },
  {
   "cell_type": "markdown",
   "id": "a6487a4f",
   "metadata": {},
   "source": [
    "## Data Context\n",
    "\n",
    "- `numbers`: List of numbers to be added.\n",
    "- `k`: positive integer number.\n",
    "\n",
    "Before reading the solution below, try solving the problem yourself and compare your approach and results."
   ]
  },
  {
   "cell_type": "markdown",
   "id": "97b0fbfb",
   "metadata": {},
   "source": [
    "## Leading Digit Extraction from the Sum of Large Numbers\n",
    "\n",
    "The approach involves calculating the total sum of a list of large numbers and then extracting only the leading digits from the resulting sum. This method ensures that only the most significant digits are retained for further analysis or reporting."
   ]
  },
  {
   "cell_type": "markdown",
   "id": "2b6e4601",
   "metadata": {},
   "source": [
    "## Final Result\n",
    "\n",
    "For `k=10`, the correct result is:\n",
    "\n",
    "**5537376230**\n",
    "\n",
    "---\n",
    "\n",
    "&copy; Byron Velasco, 2025"
   ]
  }
 ],
 "metadata": {
  "language_info": {
   "name": "python"
  }
 },
 "nbformat": 4,
 "nbformat_minor": 5
}
