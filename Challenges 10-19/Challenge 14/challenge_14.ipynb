{
 "cells": [
  {
   "cell_type": "markdown",
   "id": "5958103a",
   "metadata": {},
   "source": [
    "## **First Approach**"
   ]
  },
  {
   "cell_type": "code",
   "execution_count": 3,
   "id": "a09393a4",
   "metadata": {},
   "outputs": [],
   "source": [
    "def longest_collatz_sequence(k):\n",
    "\tmax_num = 1\n",
    "\tmax_count = 1\n",
    "\tfor num in range(1, k):\n",
    "\t\tcount = 1\n",
    "\t\tn = num\n",
    "\t\twhile n != 1:\n",
    "\t\t\tif n % 2 == 0:\n",
    "\t\t\t\tn //= 2\n",
    "\t\t\telse:\n",
    "\t\t\t\tn = 3*n + 1\n",
    "\t\t\tcount += 1\n",
    "\t\tif count > max_count:\n",
    "\t\t\tmax_count = count\n",
    "\t\t\tmax_num = num\n",
    "\treturn max_num, max_count"
   ]
  },
  {
   "cell_type": "code",
   "execution_count": 6,
   "id": "dd763f33",
   "metadata": {},
   "outputs": [
    {
     "name": "stdout",
     "output_type": "stream",
     "text": [
      "The number under 1000000 that produces the longest Collatz sequence is 837799 with a length of 525.\n"
     ]
    }
   ],
   "source": [
    "k = 1000000\n",
    "print(f'The number under {k} that produces the longest Collatz sequence is {longest_collatz_sequence(k)[0]} with a length of {longest_collatz_sequence(k)[1]}.')"
   ]
  },
  {
   "cell_type": "code",
   "execution_count": 5,
   "id": "c81efc4c",
   "metadata": {},
   "outputs": [],
   "source": [
    "def longest_collatz_sequence_optimized(k):\n",
    "\tmemo = {1: 1}\n",
    "\tmax_num = 1\n",
    "\tmax_count = 1\n",
    "\tfor num in range(k // 2 + 1, k):\n",
    "\t\tn = num\n",
    "\t\tcount = 0\n",
    "\t\tseq = []\n",
    "\t\twhile n not in memo:\n",
    "\t\t\tseq.append(n)\n",
    "\t\t\tif n % 2 == 0:\n",
    "\t\t\t\tn //= 2\n",
    "\t\t\telse:\n",
    "\t\t\t\tn = 3 * n + 1\n",
    "\t\t\tcount += 1\n",
    "\t\ttotal_count = memo[n] + count\n",
    "\t\t# Fill memo for this sequence\n",
    "\t\tfor i, val in enumerate(seq):\n",
    "\t\t\tmemo[val] = total_count - i\n",
    "\t\tif total_count > max_count:\n",
    "\t\t\tmax_count = total_count\n",
    "\t\t\tmax_num = num\n",
    "\treturn max_num, max_count"
   ]
  },
  {
   "cell_type": "code",
   "execution_count": 9,
   "id": "b1f2b434",
   "metadata": {},
   "outputs": [
    {
     "name": "stdout",
     "output_type": "stream",
     "text": [
      "The number under 1000000 that produces the longest Collatz sequence is 837799 with a length of 525.\n"
     ]
    }
   ],
   "source": [
    "k = 1000000\n",
    "print(f'The number under {k} that produces the longest Collatz sequence is {longest_collatz_sequence_optimized(k)[0]} with a length of {longest_collatz_sequence_optimized(k)[1]}.')"
   ]
  }
 ],
 "metadata": {
  "kernelspec": {
   "display_name": "Python 3",
   "language": "python",
   "name": "python3"
  },
  "language_info": {
   "codemirror_mode": {
    "name": "ipython",
    "version": 3
   },
   "file_extension": ".py",
   "mimetype": "text/x-python",
   "name": "python",
   "nbconvert_exporter": "python",
   "pygments_lexer": "ipython3",
   "version": "3.8.10"
  }
 },
 "nbformat": 4,
 "nbformat_minor": 5
}
