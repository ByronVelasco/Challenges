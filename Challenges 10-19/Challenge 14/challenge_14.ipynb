{
 "cells": [
  {
   "cell_type": "markdown",
   "id": "5958103a",
   "metadata": {},
   "source": [
    "# **Challenge 14**\n",
    "## **Systematic Generation and Analysis of Collatz Sequences**\n",
    "This approach systematically examines every integer from 1 up to a specified limit, generating the Collatz sequence for each number. For each starting value, it repeatedly applies the Collatz rules—halving the number if it is even, or multiplying by three and adding one if it is odd—until reaching 1. The length of each sequence is tracked, and the method identifies the starting number that produces the longest sequence within the given range."
   ]
  },
  {
   "cell_type": "code",
   "execution_count": null,
   "id": "a09393a4",
   "metadata": {},
   "outputs": [],
   "source": [
    "def longest_collatz_sequence(k):\n",
    "\tmax_num = 1      # Store the number that produces the longest sequence\n",
    "\tmax_count = 1    # Store the length of the longest sequence found\n",
    "\t# Iterate through all numbers from 1 up to (but not including) k\n",
    "\tfor num in range(1, k):\n",
    "\t\tcount = 1    # Initialize the sequence length for the current number\n",
    "\t\tn = num      # Start the sequence with the current number\n",
    "\t\t# Generate the Collatz sequence until reaching 1\n",
    "\t\twhile n != 1:\n",
    "\t\t\tif n % 2 == 0:\n",
    "\t\t\t\tn //= 2      # If n is even, divide by 2\n",
    "\t\t\telse:\n",
    "\t\t\t\tn = 3 * n + 1  # If n is odd, apply 3n + 1\n",
    "\t\t\tcount += 1\n",
    "\t\t# Update the maximum if a longer sequence is found\n",
    "\t\tif count > max_count:\n",
    "\t\t\tmax_count = count\n",
    "\t\t\tmax_num = num\n",
    "\t# Return the number with the longest sequence and its length\n",
    "\treturn max_num, max_count"
   ]
  },
  {
   "cell_type": "markdown",
   "id": "2c3e2807",
   "metadata": {},
   "source": [
    "### **Example Usage and Output**"
   ]
  },
  {
   "cell_type": "code",
   "execution_count": 3,
   "id": "dd763f33",
   "metadata": {},
   "outputs": [
    {
     "name": "stdout",
     "output_type": "stream",
     "text": [
      "The number under 1000000 that produces the longest Collatz sequence is 837799 with a length of 525.\n"
     ]
    }
   ],
   "source": [
    "k = 1000000\n",
    "max_num, max_count = longest_collatz_sequence(k)\n",
    "print(f'The number under {k} that produces the longest Collatz sequence is {max_num} with a length of {max_count}.')"
   ]
  },
  {
   "cell_type": "markdown",
   "id": "7bc07a25",
   "metadata": {},
   "source": [
    "## **Optimized Collatz Sequence Search Using Memoization**\n",
    "This approach leverages memoization to efficiently determine the length of Collatz sequences for large ranges of numbers. By storing previously computed sequence lengths in a dictionary, it avoids redundant calculations for numbers that appear multiple times across different sequences. The method iterates through a subset of numbers, generating their Collatz sequences until reaching a value with a known sequence length, then updates the stored lengths for all encountered values. This significantly reduces computation time compared to recalculating each sequence from scratch."
   ]
  },
  {
   "cell_type": "code",
   "execution_count": null,
   "id": "c81efc4c",
   "metadata": {},
   "outputs": [],
   "source": [
    "def longest_collatz_sequence_optimized(k):\n",
    "\tmemo = {1: 1}  # Dictionary to store the length of Collatz sequences for known numbers\n",
    "\tmax_num = 1    # Store the number that produces the longest sequence\n",
    "\tmax_count = 1  # Store the length of the longest sequence found\n",
    "\n",
    "\t# Iterate through numbers from k//2 + 1 up to (but not including) k\n",
    "\tfor num in range(k // 2 + 1, k):\n",
    "\t\tn = num\n",
    "\t\tcount = 0\n",
    "\t\tseq = []  # List to keep track of the sequence for memoization\n",
    "\t\t# Generate the Collatz sequence until reaching a number already in memo\n",
    "\t\twhile n not in memo:\n",
    "\t\t\tseq.append(n)\n",
    "\t\t\tif n % 2 == 0:\n",
    "\t\t\t\tn //= 2\n",
    "\t\t\telse:\n",
    "\t\t\t\tn = 3 * n + 1\n",
    "\t\t\tcount += 1\n",
    "\t\ttotal_count = memo[n] + count  # Add the known sequence length from memo\n",
    "\n",
    "\t\t# Store the computed sequence lengths in memo for all numbers in the sequence\n",
    "\t\tfor i, val in enumerate(seq):\n",
    "\t\t\tmemo[val] = total_count - i\n",
    "\n",
    "\t\t# Update the maximum if a longer sequence is found\n",
    "\t\tif total_count > max_count:\n",
    "\t\t\tmax_count = total_count\n",
    "\t\t\tmax_num = num\n",
    "\n",
    "\t# Return the number with the longest sequence and its length\n",
    "\treturn max_num, max_count"
   ]
  },
  {
   "cell_type": "markdown",
   "id": "955386fa",
   "metadata": {},
   "source": [
    "### **Example Usage and Output**"
   ]
  },
  {
   "cell_type": "code",
   "execution_count": 5,
   "id": "b1f2b434",
   "metadata": {},
   "outputs": [
    {
     "name": "stdout",
     "output_type": "stream",
     "text": [
      "The number under 1000000 that produces the longest Collatz sequence is 837799 with a length of 525.\n"
     ]
    }
   ],
   "source": [
    "k = 1000000\n",
    "max_num, max_count = longest_collatz_sequence_optimized(k)\n",
    "print(f'The number under {k} that produces the longest Collatz sequence is {max_num} with a length of {max_count}.')"
   ]
  }
 ],
 "metadata": {
  "kernelspec": {
   "display_name": "Python 3",
   "language": "python",
   "name": "python3"
  },
  "language_info": {
   "codemirror_mode": {
    "name": "ipython",
    "version": 3
   },
   "file_extension": ".py",
   "mimetype": "text/x-python",
   "name": "python",
   "nbconvert_exporter": "python",
   "pygments_lexer": "ipython3",
   "version": "3.13.3"
  }
 },
 "nbformat": 4,
 "nbformat_minor": 5
}
