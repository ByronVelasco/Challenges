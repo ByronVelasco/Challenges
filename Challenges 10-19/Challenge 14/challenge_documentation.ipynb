{
 "cells": [
  {
   "cell_type": "markdown",
   "id": "2b32227d",
   "metadata": {},
   "source": [
    "# Challenge 14 – Longest Collatz Sequence\n",
    "\n",
    "In this challenge, the objective is to **find the starting number under a given limit that produces the longest Collatz sequence**.  \n",
    "A **Collatz sequence** is generated from a starting positive integer by repeatedly applying the following rules:\n",
    "- If the number is even, divide it by 2.\n",
    "- If the number is odd, multiply it by 3 and add 1.\n",
    "\n",
    "Continue this process with each new value until the sequence reaches 1."
   ]
  },
  {
   "cell_type": "markdown",
   "id": "28bc41a1",
   "metadata": {},
   "source": [
    "## Problem Statement\n",
    "\n",
    "**Task:**  \n",
    "Find the longest Collatz Sequence with a starting number under 1 million."
   ]
  },
  {
   "cell_type": "markdown",
   "id": "de63041f",
   "metadata": {},
   "source": [
    "## Data Context\n",
    "\n",
    "- `k`: integer number greater than 1.\n",
    "\n",
    "Before reading the solution below, try solving the problem yourself and compare your approach and results."
   ]
  },
  {
   "cell_type": "markdown",
   "id": "2ea5beed",
   "metadata": {},
   "source": [
    "## Systematic Generation and Analysis of Collatz Sequences\n",
    "\n",
    "This approach systematically examines every integer from 1 up to a specified limit, generating the Collatz sequence for each number. For each starting value, it repeatedly applies the Collatz rules—halving the number if it is even, or multiplying by three and adding one if it is odd—until reaching 1. The length of each sequence is tracked, and the method identifies the starting number that produces the longest sequence within the given range."
   ]
  },
  {
   "cell_type": "markdown",
   "id": "6d3d48ce",
   "metadata": {},
   "source": [
    "## Optimized Collatz Sequence Search Using Memoization\n",
    "\n",
    "This approach leverages memoization to efficiently determine the length of Collatz sequences for large ranges of numbers. By storing previously computed sequence lengths in a dictionary, it avoids redundant calculations for numbers that appear multiple times across different sequences. The method iterates through a subset of numbers, generating their Collatz sequences until reaching a value with a known sequence length, then updates the stored lengths for all encountered values. This significantly reduces computation time compared to recalculating each sequence from scratch."
   ]
  },
  {
   "cell_type": "markdown",
   "id": "9b783d4a",
   "metadata": {},
   "source": [
    "## Final Result\n",
    "\n",
    "For `k=1000000`, the correct result is:\n",
    "\n",
    "**837799**\n",
    "\n",
    "---\n",
    "\n",
    "*Challenge yourself: Try solving it using both methods and reflect on their differences in logic and efficiency!*\n",
    "\n",
    "&copy; Byron Velasco, 2025"
   ]
  }
 ],
 "metadata": {
  "language_info": {
   "name": "python"
  }
 },
 "nbformat": 4,
 "nbformat_minor": 5
}
