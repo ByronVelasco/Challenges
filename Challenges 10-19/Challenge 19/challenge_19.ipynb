{
 "cells": [
  {
   "cell_type": "markdown",
   "id": "5958103a",
   "metadata": {},
   "source": [
    "# **Challenge 19**\n",
    "## **Counting Sundays on the First of the Month by Simulating Calendar Progression**\n",
    "This approach determines the number of Sundays that fall on the first day of each month within a specified date range. It simulates the progression of months and years, accounting for leap years, and tracks the day of the week for the first day of each month. By incrementing a counter whenever the first day is a Sunday, it efficiently computes the desired total."
   ]
  },
  {
   "cell_type": "code",
   "execution_count": 1,
   "id": "dfe938a9",
   "metadata": {},
   "outputs": [],
   "source": [
    "def count_sundays_on_first(end_year, end_month=12):\n",
    "\t# Helper function to determine if a year is a leap year\n",
    "\tdef is_leap_year(year):\n",
    "\t\treturn (year % 4 == 0 and (year % 100 != 0 or year % 400 == 0))\n",
    "\n",
    "\t# Number of days in each month (February is 28, leap years handled separately)\n",
    "\tdays_in_month = [31, 28, 31, 30, 31, 30, 31, 31, 30, 31, 30, 31]\n",
    "\t# 2 Jan 1901 was a Tuesday, so day_of_week = 2 (0=Sunday, 1=Monday, ..., 6=Saturday)\n",
    "\tday_of_week = 2\n",
    "\n",
    "\t# Initialize the count of Sundays that fall on the first of the month\n",
    "\tsunday_count = 0\n",
    "\tyear, month = 1901, 0  # Start from January 1901 (month: 0=Jan, ..., 11=Dec)\n",
    "\n",
    "\t# Loop through each month up to the specified end date\n",
    "\twhile (year < end_year) or (year == end_year and month <= end_month - 1):\n",
    "\t\t# If the first day of the month is a Sunday, increment the counter\n",
    "\t\tif day_of_week == 0:\n",
    "\t\t\tsunday_count += 1\n",
    "\t\t# Get the number of days in the current month\n",
    "\t\tdays = days_in_month[month]\n",
    "\t\t# Adjust for leap year if the current month is February\n",
    "\t\tif month == 1 and is_leap_year(year):\n",
    "\t\t\tdays += 1\n",
    "\t\t# Update the day of the week for the first day of the next month\n",
    "\t\tday_of_week = (day_of_week + days) % 7\n",
    "\t\t# Move to the next month\n",
    "\t\tmonth += 1\n",
    "\t\t# If we've reached the end of the year, reset month and increment year\n",
    "\t\tif month == 12:\n",
    "\t\t\tmonth = 0\n",
    "\t\t\tyear += 1\n",
    "\n",
    "\t# Return the total count of Sundays that fell on the first of the month\n",
    "\treturn sunday_count"
   ]
  },
  {
   "cell_type": "markdown",
   "id": "955386fa",
   "metadata": {},
   "source": [
    "### **Example Usage and Output**"
   ]
  },
  {
   "cell_type": "code",
   "execution_count": 2,
   "id": "b1f2b434",
   "metadata": {},
   "outputs": [
    {
     "name": "stdout",
     "output_type": "stream",
     "text": [
      "Sundays that fell on the first of the month from 1901 to 2000: 171\n"
     ]
    }
   ],
   "source": [
    "end_year = 2000\n",
    "sundays_count = count_sundays_on_first(end_year)\n",
    "print(f\"Sundays that fell on the first of the month from 1901 to {end_year}: {sundays_count}\")"
   ]
  }
 ],
 "metadata": {
  "kernelspec": {
   "display_name": "Python 3",
   "language": "python",
   "name": "python3"
  },
  "language_info": {
   "codemirror_mode": {
    "name": "ipython",
    "version": 3
   },
   "file_extension": ".py",
   "mimetype": "text/x-python",
   "name": "python",
   "nbconvert_exporter": "python",
   "pygments_lexer": "ipython3",
   "version": "3.13.3"
  }
 },
 "nbformat": 4,
 "nbformat_minor": 5
}
