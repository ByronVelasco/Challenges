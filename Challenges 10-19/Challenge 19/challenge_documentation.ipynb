{
 "cells": [
  {
   "cell_type": "markdown",
   "id": "c45f42cf",
   "metadata": {},
   "source": [
    "# Challenge 19 – Counting Sundays\n",
    "\n",
    "In this challenge, the objective is to **count the number of months that began on a Sunday** within a specified range of years, starting from 1901."
   ]
  },
  {
   "cell_type": "markdown",
   "id": "c26f6e99",
   "metadata": {},
   "source": [
    "## Problem Statement\n",
    "\n",
    "**Task:**  \n",
    "Count the number of months that began on a Sunday from January 1, 1901, to December 31, 2000."
   ]
  },
  {
   "cell_type": "markdown",
   "id": "d1b9f217",
   "metadata": {},
   "source": [
    "## Data Context\n",
    "\n",
    "- `end_year`: end year of the range (inclusive).\n",
    "- `end_month`: end month of the range (inclusive). By default, this is set to December (12).\n",
    "\n",
    "Before reading the solution below, try solving the problem yourself and compare your approach and results."
   ]
  },
  {
   "cell_type": "markdown",
   "id": "d4697042",
   "metadata": {},
   "source": [
    "## Counting Sundays on the First of the Month by Simulating Calendar Progression\n",
    "\n",
    "This approach determines the number of Sundays that fall on the first day of each month within a specified date range. It simulates the progression of months and years, accounting for leap years, and tracks the day of the week for the first day of each month. By incrementing a counter whenever the first day is a Sunday, it efficiently computes the desired total."
   ]
  },
  {
   "cell_type": "markdown",
   "id": "54c66571",
   "metadata": {},
   "source": [
    "## Final Result\n",
    "\n",
    "The correct result is:\n",
    "\n",
    "**171**\n",
    "\n",
    "---\n",
    "\n",
    "&copy; Byron Velasco, 2025"
   ]
  }
 ],
 "metadata": {
  "language_info": {
   "name": "python"
  }
 },
 "nbformat": 4,
 "nbformat_minor": 5
}
