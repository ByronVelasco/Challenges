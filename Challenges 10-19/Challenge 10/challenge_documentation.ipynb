{
 "cells": [
  {
   "cell_type": "markdown",
   "id": "ec707f72",
   "metadata": {},
   "source": [
    "# Challenge 10 – Sum of prime numbers\n",
    "\n",
    "In this challenge, the objective is to **calculate the sum of all prime numbers less than a specified number**."
   ]
  },
  {
   "cell_type": "markdown",
   "id": "c7adc77c",
   "metadata": {},
   "source": [
    "## Problem Statement\n",
    "\n",
    "**Task:**  \n",
    "Calculate the sum of prime numbers below 2000000."
   ]
  },
  {
   "cell_type": "markdown",
   "id": "e21c321f",
   "metadata": {},
   "source": [
    "## Data Context\n",
    "\n",
    "- `k`: positive integer number.\n",
    "\n",
    "Before reading the solutions below, try solving the problem yourself and compare your approach and results."
   ]
  },
  {
   "cell_type": "markdown",
   "id": "e6986830",
   "metadata": {},
   "source": [
    "## Efficient Prime Summation Using the Sieve of Eratosthenes\n",
    "\n",
    "This approach utilizes the Sieve of Eratosthenes algorithm to efficiently identify all prime numbers below a given limit. The method begins by assuming all numbers in the range are prime, then iteratively marks the multiples of each discovered prime as non-prime. By the end of the process, only prime numbers remain unmarked, allowing for their sum to be calculated efficiently."
   ]
  },
  {
   "cell_type": "markdown",
   "id": "311d7562",
   "metadata": {},
   "source": [
    "## Optimized Sieve for Odd Numbers Only\n",
    "\n",
    "A more efficient approach leverages the fact that 2 is the only even prime number. By initializing the sum with 2 and applying the Sieve of Eratosthenes only to odd numbers, memory usage and computation time are significantly reduced. This method marks non-prime odd numbers and accumulates the sum of all primes below the given limit."
   ]
  },
  {
   "cell_type": "markdown",
   "id": "378bf201",
   "metadata": {},
   "source": [
    "## Final Result\n",
    "\n",
    "For `k=2000000`, the correct result is:\n",
    "\n",
    "**142913828922**\n",
    "\n",
    "---\n",
    "\n",
    "*Challenge yourself: Try solving it using both methods and reflect on their differences in logic and efficiency!*\n",
    "\n",
    "&copy; Byron Velasco, 2025"
   ]
  }
 ],
 "metadata": {
  "language_info": {
   "name": "python"
  }
 },
 "nbformat": 4,
 "nbformat_minor": 5
}
