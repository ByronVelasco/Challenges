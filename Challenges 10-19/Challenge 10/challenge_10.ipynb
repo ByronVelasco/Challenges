{
 "cells": [
  {
   "cell_type": "markdown",
   "id": "14a0a303",
   "metadata": {},
   "source": [
    "# **Challenge 10**\n",
    "## **Efficient Prime Summation Using the Sieve of Eratosthenes**\n",
    "This approach utilizes the Sieve of Eratosthenes algorithm to efficiently identify all prime numbers below a given limit. The method begins by assuming all numbers in the range are prime, then iteratively marks the multiples of each discovered prime as non-prime. By the end of the process, only prime numbers remain unmarked, allowing for their sum to be calculated efficiently."
   ]
  },
  {
   "cell_type": "code",
   "execution_count": 51,
   "id": "7c68ac41",
   "metadata": {},
   "outputs": [],
   "source": [
    "def sum_of_primes_under_k(k):\n",
    "\t# Initialize the sieve for prime number generation\n",
    "\tsieve = [True] * k\n",
    "\tsum = 0\n",
    "\n",
    "\t# Sieve of Eratosthenes: mark non-primes as False\n",
    "\tfor i in range(2, k):\n",
    "\t\tif sieve[i]:\n",
    "\t\t\tsum += i\n",
    "\t\t\t# Mark all multiples of i as non-prime\n",
    "\t\t\tfor j in range(i * i, k, i):\n",
    "\t\t\t\tsieve[j] = False\n",
    "\treturn sum"
   ]
  },
  {
   "cell_type": "markdown",
   "id": "e888bd0e",
   "metadata": {},
   "source": [
    "### **Example Usage and Output**"
   ]
  },
  {
   "cell_type": "code",
   "execution_count": 58,
   "id": "c2f43101",
   "metadata": {},
   "outputs": [
    {
     "name": "stdout",
     "output_type": "stream",
     "text": [
      "The sum of all primes less than 2000000 is: 142913828922\n"
     ]
    }
   ],
   "source": [
    "k = 2000000\n",
    "sum_of_primes = sum_of_primes_under_k(k)\n",
    "print(f\"The sum of all primes less than {k} is: {sum_of_primes}\")"
   ]
  },
  {
   "cell_type": "markdown",
   "id": "db9dd535",
   "metadata": {},
   "source": [
    "## **Optimized Sieve for Odd Numbers Only**\n",
    "A more efficient approach leverages the fact that 2 is the only even prime number. By initializing the sum with 2 and applying the Sieve of Eratosthenes only to odd numbers, memory usage and computation time are significantly reduced. This method marks non-prime odd numbers and accumulates the sum of all primes below the given limit."
   ]
  },
  {
   "cell_type": "code",
   "execution_count": 53,
   "id": "0dcedaeb",
   "metadata": {},
   "outputs": [],
   "source": [
    "def sum_of_primes_under_k_optimized(k):\n",
    "\t# Handle small values of k directly\n",
    "\tif k <= 3:\n",
    "\t\treturn 2 if k == 3 else 0\n",
    "\n",
    "\t# Create a sieve for odd numbers only (index i represents number 2*i + 1)\n",
    "\tsieve = [True] * (k // 2)\n",
    "\t# Initialize sum with 2, the only even prime\n",
    "\tsum = 2\n",
    "\n",
    "\t# Iterate through odd numbers from 3 up to k (step 2)\n",
    "\tfor i in range(3, k, 2):\n",
    "\t\t# If i is marked as prime in the sieve\n",
    "\t\tif sieve[i // 2]:\n",
    "\t\t\tsum += i  # Add the prime to the sum\n",
    "\t\t\t# Mark all odd multiples of i as non-prime in the sieve\n",
    "\t\t\tfor j in range(i * i, k, 2 * i):\n",
    "\t\t\t\tsieve[j // 2] = False\n",
    "\t# Return the total sum of primes found\n",
    "\treturn sum"
   ]
  },
  {
   "cell_type": "markdown",
   "id": "e6f807c3",
   "metadata": {},
   "source": [
    "### **Example Usage and Output**"
   ]
  },
  {
   "cell_type": "code",
   "execution_count": 57,
   "id": "548a0826",
   "metadata": {},
   "outputs": [
    {
     "name": "stdout",
     "output_type": "stream",
     "text": [
      "The sum of all primes less than 2000000 is: 142913828922\n"
     ]
    }
   ],
   "source": [
    "k = 2000000\n",
    "sum_of_primes = sum_of_primes_under_k_optimized(k)\n",
    "print(f\"The sum of all primes less than {k} is: {sum_of_primes}\")"
   ]
  }
 ],
 "metadata": {
  "kernelspec": {
   "display_name": "Python 3",
   "language": "python",
   "name": "python3"
  },
  "language_info": {
   "codemirror_mode": {
    "name": "ipython",
    "version": 3
   },
   "file_extension": ".py",
   "mimetype": "text/x-python",
   "name": "python",
   "nbconvert_exporter": "python",
   "pygments_lexer": "ipython3",
   "version": "3.8.10"
  }
 },
 "nbformat": 4,
 "nbformat_minor": 5
}
