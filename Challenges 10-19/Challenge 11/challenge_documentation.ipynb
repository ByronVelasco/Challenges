{
 "cells": [
  {
   "cell_type": "markdown",
   "id": "dee81592",
   "metadata": {},
   "source": [
    "# Challenge 11 – Largest product in the same direction\n",
    "\n",
    "In this challenge, the objective is to **find the largest product that can be formed by multiplying k adjacent numbers in the same direction (up, down, left, right, or diagonally) within a matrix**."
   ]
  },
  {
   "cell_type": "markdown",
   "id": "ee9e31b2",
   "metadata": {},
   "source": [
    "## Problem Statement\n",
    "\n",
    "**Task:**  \n",
    "Find the largest product of four adjacent numbers in the same direction."
   ]
  },
  {
   "cell_type": "markdown",
   "id": "48d67e76",
   "metadata": {},
   "source": [
    "## Data Context\n",
    "\n",
    "- `matrix`: a `n x n` matrix.\n",
    "- `k`: positive integer number.\n",
    "\n",
    "Before reading the solution below, try solving the problem yourself and compare your approach and results."
   ]
  },
  {
   "cell_type": "markdown",
   "id": "39ea48ae",
   "metadata": {},
   "source": [
    "## Systematic Search for the Largest Product of Adjacent Numbers in a Matrix\n",
    "The approach systematically examines all possible groups of adjacent numbers in a square matrix, considering every row, column, and both diagonal directions. For each direction, it iterates through the matrix, calculating the product of consecutive elements of a specified length. If a zero is encountered, the search skips ahead to optimize performance. The process ensures that the largest product found in any direction is identified and returned."
   ]
  },
  {
   "cell_type": "markdown",
   "id": "78732588",
   "metadata": {},
   "source": [
    "## Final Result\n",
    "\n",
    "For `k=4`, the correct result is:\n",
    "\n",
    "**70600674**\n",
    "\n",
    "---\n",
    "\n",
    "&copy; Byron Velasco, 2025"
   ]
  }
 ],
 "metadata": {
  "language_info": {
   "name": "python"
  }
 },
 "nbformat": 4,
 "nbformat_minor": 5
}
