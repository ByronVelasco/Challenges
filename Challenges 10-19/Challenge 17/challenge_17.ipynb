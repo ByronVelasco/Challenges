{
 "cells": [
  {
   "cell_type": "markdown",
   "id": "5958103a",
   "metadata": {},
   "source": [
    "# **Challenge 17**\n",
    "## **Letter Counting in English Number Words up to One Thousand**\n",
    "The approach involves converting each integer within a specified range into its English word representation, omitting spaces and hyphens. For numbers less than twenty, direct word mappings are used. Numbers from twenty to ninety-nine are constructed by combining the appropriate tens and units words. For numbers in the hundreds, the method includes the word \"hundred\" and, when necessary, the conjunction \"and\" before appending the remaining part. The process is repeated for each number in the range, and the total count of letters used in all word representations is calculated.\n",
    "\n",
    "We restrict our mapping to numbers up to one thousand. For handling larger numbers, a more general function capable of converting any integer to its full English word representation would be required."
   ]
  },
  {
   "cell_type": "code",
   "execution_count": 3,
   "id": "f3df8b32",
   "metadata": {},
   "outputs": [],
   "source": [
    "def count_letters_in_numbers(n):\n",
    "\t# Helper function to convert a number less than 1001 to its word representation (without spaces or hyphens)\n",
    "\tdef number_to_words_less_than_1001(n):\n",
    "\t\tones = [\"\", \"one\", \"two\", \"three\", \"four\", \"five\", \"six\", \"seven\", \"eight\", \"nine\",\n",
    "\t\t\t\t\t\t\"ten\", \"eleven\", \"twelve\", \"thirteen\", \"fourteen\", \"fifteen\",\n",
    "\t\t\t\t\t\t\"sixteen\", \"seventeen\", \"eighteen\", \"nineteen\"]\n",
    "\t\ttens = [\"\", \"\", \"twenty\", \"thirty\", \"forty\", \"fifty\", \"sixty\", \"seventy\", \"eighty\", \"ninety\"]\n",
    "\n",
    "\t\tif n == 1000:\n",
    "\t\t\t# Special case for 1000\n",
    "\t\t\treturn \"onethousand\"\n",
    "\t\telif n >= 100:\n",
    "\t\t\t# Handle hundreds\n",
    "\t\t\trem = n % 100\n",
    "\t\t\t# Add \"and\" only if there is a remainder after the hundred\n",
    "\t\t\treturn ones[n // 100] + \"hundred\" + (\"\" if rem == 0 else \"and\" + number_to_words_less_than_1001(rem))\n",
    "\t\telif n >= 20:\n",
    "\t\t\t# Handle tens and units for numbers 20-99\n",
    "\t\t\treturn tens[n // 10] + ones[n % 10]\n",
    "\t\telse:\n",
    "\t\t\t# Handle numbers less than 20\n",
    "\t\t\treturn ones[n]\n",
    "\n",
    "\t# Sum the lengths of the word representations for all numbers from 1 to n\n",
    "\ttotal_letters = sum(len(number_to_words_less_than_1001(i)) for i in range(1, n + 1))\n",
    "\treturn total_letters"
   ]
  },
  {
   "cell_type": "markdown",
   "id": "2c3e2807",
   "metadata": {},
   "source": [
    "### **Example Usage and Output**"
   ]
  },
  {
   "cell_type": "code",
   "execution_count": 4,
   "id": "dd763f33",
   "metadata": {},
   "outputs": [
    {
     "name": "stdout",
     "output_type": "stream",
     "text": [
      "The number of letters in the words from 1 to 1000 is: 21124\n"
     ]
    }
   ],
   "source": [
    "n = 1000\n",
    "result = count_letters_in_numbers(n)\n",
    "print('The number of letters in the words from 1 to', n, 'is:', result)"
   ]
  }
 ],
 "metadata": {
  "kernelspec": {
   "display_name": "Python 3",
   "language": "python",
   "name": "python3"
  },
  "language_info": {
   "codemirror_mode": {
    "name": "ipython",
    "version": 3
   },
   "file_extension": ".py",
   "mimetype": "text/x-python",
   "name": "python",
   "nbconvert_exporter": "python",
   "pygments_lexer": "ipython3",
   "version": "3.13.3"
  }
 },
 "nbformat": 4,
 "nbformat_minor": 5
}
