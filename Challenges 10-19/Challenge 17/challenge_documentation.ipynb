{
 "cells": [
  {
   "cell_type": "markdown",
   "id": "c45f42cf",
   "metadata": {},
   "source": [
    "# Challenge 17 – Number Letter Counts\n",
    "\n",
    "In this challenge, the objective is to **calculate the total number of letters used when writing out all numbers from 1 up to a specified limit (not exceeding 1000) in English words**. Spaces and hyphens should not be counted in the letter total."
   ]
  },
  {
   "cell_type": "markdown",
   "id": "c26f6e99",
   "metadata": {},
   "source": [
    "## Problem Statement\n",
    "\n",
    "**Task:**  \n",
    "Compute the total number of letters used in the English words for all numbers from 1 to 1000."
   ]
  },
  {
   "cell_type": "markdown",
   "id": "d1b9f217",
   "metadata": {},
   "source": [
    "## Data Context\n",
    "\n",
    "- `n`: positive integer number.\n",
    "\n",
    "Before reading the solution below, try solving the problem yourself and compare your approach and results."
   ]
  },
  {
   "cell_type": "markdown",
   "id": "d4697042",
   "metadata": {},
   "source": [
    "## Letter Counting in English Number Words up to One Thousand\n",
    "\n",
    "The approach involves converting each integer within a specified range into its English word representation, omitting spaces and hyphens. For numbers less than twenty, direct word mappings are used. Numbers from twenty to ninety-nine are constructed by combining the appropriate tens and units words. For numbers in the hundreds, the method includes the word \"hundred\" and, when necessary, the conjunction \"and\" before appending the remaining part. The process is repeated for each number in the range, and the total count of letters used in all word representations is calculated.\n",
    "\n",
    "We restrict our mapping to numbers up to one thousand. For handling larger numbers, a more general function capable of converting any integer to its full English word representation would be required."
   ]
  },
  {
   "cell_type": "markdown",
   "id": "54c66571",
   "metadata": {},
   "source": [
    "## Final Result\n",
    "\n",
    "For `n=1000`, the correct result is:\n",
    "\n",
    "**21124**\n",
    "\n",
    "---\n",
    "\n",
    "&copy; Byron Velasco, 2025"
   ]
  }
 ],
 "metadata": {
  "language_info": {
   "name": "python"
  }
 },
 "nbformat": 4,
 "nbformat_minor": 5
}
