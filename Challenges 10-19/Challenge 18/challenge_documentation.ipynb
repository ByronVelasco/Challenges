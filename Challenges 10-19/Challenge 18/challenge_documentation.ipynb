{
 "cells": [
  {
   "cell_type": "markdown",
   "id": "c45f42cf",
   "metadata": {},
   "source": [
    "# Challenge 18 – Maximum Path Sum\n",
    "\n",
    "In this challenge, the objective is **to determine the maximum sum** that can be obtained by starting at the top of a triangle and moving to adjacent numbers on each row below, all the way to the base."
   ]
  },
  {
   "cell_type": "markdown",
   "id": "c26f6e99",
   "metadata": {},
   "source": [
    "## Problem Statement\n",
    "\n",
    "**Task:**  \n",
    "Find the maximum path sum in the triangle below.\n",
    "```plaintext\n",
    "              75\n",
    "             95 64\n",
    "            17 47 82\n",
    "           18 35 87 10\n",
    "          20 04 82 47 65\n",
    "         19 01 23 75 03 34\n",
    "        88 02 77 73 07 63 67\n",
    "       99 65 04 28 06 16 70 92\n",
    "      41 41 26 56 83 40 80 70 33\n",
    "     41 48 72 33 47 32 37 16 94 29\n",
    "    53 71 44 65 25 43 91 52 97 51 14\n",
    "   70 11 33 28 77 73 17 78 39 68 17 57\n",
    "  91 71 52 38 17 14 91 43 58 50 27 29 48\n",
    " 63 66 04 68 89 53 67 30 73 16 69 87 40 31\n",
    "04 62 98 27 23 09 70 98 73 93 38 53 60 04 23\n",
    "```"
   ]
  },
  {
   "cell_type": "markdown",
   "id": "d1b9f217",
   "metadata": {},
   "source": [
    "## Data Context\n",
    "\n",
    "- `triangle`: list of lists, where each inner list represents a row in the triangle.\n",
    "\n",
    "Before reading the solution below, try solving the problem yourself and compare your approach and results."
   ]
  },
  {
   "cell_type": "markdown",
   "id": "d4697042",
   "metadata": {},
   "source": [
    "## Brute Force Path Enumeration for Maximum Triangle Sum\n",
    "\n",
    "This approach systematically explores all possible paths from the top to the bottom of the triangle by representing each decision at every level as a binary choice. It generates every combination of left or right moves for each row, calculates the sum for each resulting path, and identifies the maximum total among all possible routes. This exhaustive search guarantees that the optimal path is found, but it is computationally intensive for larger triangles due to the exponential number of possible paths."
   ]
  },
  {
   "cell_type": "markdown",
   "id": "d37f7bae",
   "metadata": {},
   "source": [
    "## Optimized Dynamic Programming Approach\n",
    "\n",
    "The method is based on the principle of dynamic programming, which solves complex problems by breaking them down into simpler subproblems and solving each subproblem only once. In the context of the triangle path sum problem, the optimal solution for any position in the triangle depends only on the optimal solutions of its two adjacent positions directly below it. By starting from the bottom row and moving upwards, each element is updated to represent the maximum sum obtainable from that position to the base of the triangle. This ensures that, at each step, the subproblem solutions are reused efficiently, and the global optimum is constructed from these local optima. The process guarantees that the value at the top of the triangle represents the maximum total from top to bottom, as it accumulates the best possible choices at each level."
   ]
  },
  {
   "cell_type": "markdown",
   "id": "54c66571",
   "metadata": {},
   "source": [
    "## Final Result\n",
    "\n",
    "The correct result is:\n",
    "\n",
    "**1074**\n",
    "\n",
    "---\n",
    "\n",
    "*Challenge yourself: Try solving it using both methods and reflect on their differences in logic and efficiency!*\n",
    "\n",
    "&copy; Byron Velasco, 2025"
   ]
  }
 ],
 "metadata": {
  "language_info": {
   "name": "python"
  }
 },
 "nbformat": 4,
 "nbformat_minor": 5
}
