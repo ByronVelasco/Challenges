{
 "cells": [
  {
   "cell_type": "markdown",
   "id": "5958103a",
   "metadata": {},
   "source": [
    "# **Challenge 18**\n",
    "## **Data Preparation**\n",
    "\n",
    "We represent the triangle as a list of lists, where each inner list corresponds to a row of the triangle. This structure allows for easy access and manipulation of the triangle's values when implementing algorithms to solve the problem."
   ]
  },
  {
   "cell_type": "code",
   "execution_count": 1,
   "id": "63cd9b2f",
   "metadata": {},
   "outputs": [],
   "source": [
    "triangle = [\n",
    "\t[75],\n",
    "\t[95, 64],\n",
    "\t[17, 47, 82],\n",
    "\t[18, 35, 87, 10],\n",
    "\t[20,  4, 82, 47, 65],\n",
    "\t[19,  1, 23, 75,  3, 34],\n",
    "\t[88,  2, 77, 73,  7, 63, 67],\n",
    "\t[99, 65, 4, 28, 6, 16, 70, 92],\n",
    "\t[41, 41, 26, 56, 83, 40, 80, 70, 33],\n",
    "\t[41, 48, 72, 33, 47, 32, 37, 16, 94, 29],\n",
    "\t[53, 71, 44, 65, 25, 43, 91, 52, 97, 51, 14],\n",
    "\t[70, 11, 33, 28, 77, 73, 17, 78, 39, 68, 17, 57],\n",
    "\t[91, 71, 52, 38, 17, 14, 91, 43, 58, 50, 27, 29, 48],\n",
    "\t[63, 66, 4, 68, 89, 53, 67, 30, 73, 16, 69, 87, 40, 31],\n",
    "\t[4, 62, 98, 27, 23, 9, 70, 98, 73, 93, 38, 53, 60, 4, 23],\n",
    "]"
   ]
  },
  {
   "cell_type": "markdown",
   "id": "03a48a06",
   "metadata": {},
   "source": [
    "## **Brute Force Path Enumeration for Maximum Triangle Sum**\n",
    "This approach systematically explores all possible paths from the top to the bottom of the triangle by representing each decision at every level as a binary choice. It generates every combination of left or right moves for each row, calculates the sum for each resulting path, and identifies the maximum total among all possible routes. This exhaustive search guarantees that the optimal path is found, but it is computationally intensive for larger triangles due to the exponential number of possible paths."
   ]
  },
  {
   "cell_type": "code",
   "execution_count": 2,
   "id": "f53aea31",
   "metadata": {},
   "outputs": [],
   "source": [
    "from itertools import product\n",
    "\n",
    "def max_path_sum(triangle):\n",
    "\tn = len(triangle)  # Number of rows in the triangle\n",
    "\tmax_sum = 0        # Initialize the maximum path sum found\n",
    "\n",
    "\t# Generate all possible sequences of left (0) or right (1) moves for n-1 steps\n",
    "\tfor choices in product([0, 1], repeat=n-1):\n",
    "\t\tidx = 0\n",
    "\t\ttotal = triangle[0][0]  # Start at the top of the triangle\n",
    "\t\t# Traverse the triangle according to the current sequence of moves\n",
    "\t\tfor row, move in enumerate(choices, 1):\n",
    "\t\t\tidx += move  # Move to the next index (right if move==1, left if move==0)\n",
    "\t\t\ttotal += triangle[row][idx]  # Add the value at the new position\n",
    "\t\t# Update max_sum if a larger path sum is found\n",
    "\t\tif total > max_sum:\n",
    "\t\t\tmax_sum = total\n",
    "\t# Return the largest path sum found\n",
    "\treturn max_sum"
   ]
  },
  {
   "cell_type": "markdown",
   "id": "2c3e2807",
   "metadata": {},
   "source": [
    "### **Example Usage and Output**"
   ]
  },
  {
   "cell_type": "code",
   "execution_count": 3,
   "id": "dd763f33",
   "metadata": {},
   "outputs": [
    {
     "name": "stdout",
     "output_type": "stream",
     "text": [
      "Maximum path sum is 1074\n"
     ]
    }
   ],
   "source": [
    "total = max_path_sum(triangle)\n",
    "print(f\"Maximum path sum is {total}\")"
   ]
  },
  {
   "cell_type": "markdown",
   "id": "4adf073b",
   "metadata": {},
   "source": [
    "## **Optimized Dynamic Programming Approach**\n",
    "This method solves the triangle path sum problem by working from the bottom of the triangle upwards. At each step, it replaces each element with the sum of itself and the maximum of its two adjacent elements directly below. By iteratively updating each row in this manner, the process efficiently accumulates the largest possible sum for each position. Ultimately, the top element contains the maximum total from top to bottom, ensuring an optimal solution with significantly reduced computational complexity compared to brute-force enumeration."
   ]
  },
  {
   "cell_type": "code",
   "execution_count": 4,
   "id": "dfe938a9",
   "metadata": {},
   "outputs": [],
   "source": [
    "def max_path_sum_optimized(triangle):\n",
    "\t# Create a copy of the triangle to avoid modifying the original\n",
    "\ttriangle_copy = [row[:] for row in triangle]\n",
    "\t# Start from the second last row and move upwards\n",
    "\tfor row in range(len(triangle_copy) - 2, -1, -1):\n",
    "\t\tfor col in range(len(triangle_copy[row])):\n",
    "\t\t\t# Update each element to be the sum of itself and the max of the two elements below it\n",
    "\t\t\ttriangle_copy[row][col] += max(triangle_copy[row + 1][col], triangle_copy[row + 1][col + 1])\n",
    "\t# The top element now contains the maximum total\n",
    "\treturn triangle_copy[0][0]"
   ]
  },
  {
   "cell_type": "markdown",
   "id": "955386fa",
   "metadata": {},
   "source": [
    "### **Example Usage and Output**"
   ]
  },
  {
   "cell_type": "code",
   "execution_count": 5,
   "id": "b1f2b434",
   "metadata": {},
   "outputs": [
    {
     "name": "stdout",
     "output_type": "stream",
     "text": [
      "Maximum path sum is 1074\n"
     ]
    }
   ],
   "source": [
    "total = max_path_sum_optimized(triangle)\n",
    "print(f\"Maximum path sum is {total}\")"
   ]
  }
 ],
 "metadata": {
  "kernelspec": {
   "display_name": "Python 3",
   "language": "python",
   "name": "python3"
  },
  "language_info": {
   "codemirror_mode": {
    "name": "ipython",
    "version": 3
   },
   "file_extension": ".py",
   "mimetype": "text/x-python",
   "name": "python",
   "nbconvert_exporter": "python",
   "pygments_lexer": "ipython3",
   "version": "3.13.3"
  }
 },
 "nbformat": 4,
 "nbformat_minor": 5
}
