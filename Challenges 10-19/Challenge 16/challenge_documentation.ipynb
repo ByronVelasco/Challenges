{
 "cells": [
  {
   "cell_type": "markdown",
   "id": "c45f42cf",
   "metadata": {},
   "source": [
    "# Challenge 16 – Power Digit Sum\n",
    "\n",
    "In this challenge, the objective is to **calculate the sum of the digits of a number obtained by raising a base to a given exponent**."
   ]
  },
  {
   "cell_type": "markdown",
   "id": "c26f6e99",
   "metadata": {},
   "source": [
    "## Problem Statement\n",
    "\n",
    "**Task:**  \n",
    "Fint the sum of the digits of the number $2^{1000}$."
   ]
  },
  {
   "cell_type": "markdown",
   "id": "d1b9f217",
   "metadata": {},
   "source": [
    "## Data Context\n",
    "\n",
    "- `base`: a positive integer.\n",
    "- `exponent`: a non-negative integer.\n",
    "\n",
    "For mathematical consistency, `base` and `exponent` should not both be $0$ simultaneously, as $0^0$ is undefined.\n",
    "\n",
    "Before reading the solution below, try solving the problem yourself and compare your approach and results."
   ]
  },
  {
   "cell_type": "markdown",
   "id": "d4697042",
   "metadata": {},
   "source": [
    "## Summing the Digits of a Large Exponential Number Using String Manipulation\n",
    "\n",
    "The approach involves calculating a large number by raising a base to a specified exponent. The resulting number is then converted to a string to facilitate iteration over each digit. Each digit is individually converted back to an integer, and all digits are summed together to obtain the final result. This method efficiently handles very large numbers by leveraging string manipulation and list comprehension."
   ]
  },
  {
   "cell_type": "markdown",
   "id": "54c66571",
   "metadata": {},
   "source": [
    "## Final Result\n",
    "\n",
    "For `base=2` and `exponent=1000`, the correct result is:\n",
    "\n",
    "**1366**\n",
    "\n",
    "---\n",
    "\n",
    "&copy; Byron Velasco, 2025"
   ]
  }
 ],
 "metadata": {
  "language_info": {
   "name": "python"
  }
 },
 "nbformat": 4,
 "nbformat_minor": 5
}
