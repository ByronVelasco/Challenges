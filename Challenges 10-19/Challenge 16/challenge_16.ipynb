{
 "cells": [
  {
   "cell_type": "markdown",
   "id": "5958103a",
   "metadata": {},
   "source": [
    "# **Challenge 16**\n",
    "## **Summing the Digits of a Large Exponential Number Using String Manipulation**\n",
    "The approach involves calculating a large number by raising a base to a specified exponent. The resulting number is then converted to a string to facilitate iteration over each digit. Each digit is individually converted back to an integer, and all digits are summed together to obtain the final result. This method efficiently handles very large numbers by leveraging string manipulation and list comprehension."
   ]
  },
  {
   "cell_type": "code",
   "execution_count": 3,
   "id": "f49a7a83",
   "metadata": {},
   "outputs": [],
   "source": [
    "def power_digit_sum(base, exponent):\n",
    "\t# Calculate base raised to the given exponent\n",
    "  result = str(base ** exponent)\n",
    "\t# Convert the result to a string and sum the integer values of each digit\n",
    "  return sum(int(digit) for digit in result)"
   ]
  },
  {
   "cell_type": "markdown",
   "id": "2c3e2807",
   "metadata": {},
   "source": [
    "### **Example Usage and Output**"
   ]
  },
  {
   "cell_type": "code",
   "execution_count": 4,
   "id": "dd100a5e",
   "metadata": {},
   "outputs": [
    {
     "name": "stdout",
     "output_type": "stream",
     "text": [
      "The sum of the digits in the number 2^1000 is: 1366\n"
     ]
    }
   ],
   "source": [
    "base, exponent = 2, 1000\n",
    "result = power_digit_sum(base, exponent)\n",
    "print(f\"The sum of the digits in the number {base}^{exponent} is: {result}\")"
   ]
  }
 ],
 "metadata": {
  "kernelspec": {
   "display_name": "Python 3",
   "language": "python",
   "name": "python3"
  },
  "language_info": {
   "codemirror_mode": {
    "name": "ipython",
    "version": 3
   },
   "file_extension": ".py",
   "mimetype": "text/x-python",
   "name": "python",
   "nbconvert_exporter": "python",
   "pygments_lexer": "ipython3",
   "version": "3.13.3"
  }
 },
 "nbformat": 4,
 "nbformat_minor": 5
}
