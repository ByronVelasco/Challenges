{
 "cells": [
  {
   "cell_type": "markdown",
   "id": "62fdf2d8",
   "metadata": {},
   "source": [
    "# **Challenge 2 – Sum of even Fibonacci numbers**\n",
    "\n",
    "In this challenge, the goal is to **find the sum all the even Fibonacci numbers less than a given threshold.**"
   ]
  },
  {
   "cell_type": "markdown",
   "id": "33f047c3",
   "metadata": {},
   "source": [
    "## Problem Statement\n",
    "\n",
    "**Task:**  \n",
    "Find the sum of all the even Fibonacci numbers less than `4000000`."
   ]
  },
  {
   "cell_type": "markdown",
   "id": "b26d804a",
   "metadata": {},
   "source": [
    "## Data Context\n",
    "\n",
    "- `k`: a positive integer number.\n",
    "\n",
    "Before reading the solutions below, try solving the problem yourself and compare your approach and results."
   ]
  },
  {
   "cell_type": "markdown",
   "id": "9cd446fa",
   "metadata": {},
   "source": [
    "## Brute Force Function Implementation\n",
    "\n",
    "The problem involves finding the sum of all even-valued terms in the Fibonacci sequence that do not exceed a given limit. The Fibonacci sequence is defined by the recurrence relation:\n",
    "\n",
    "$$\n",
    "F_0 = 0, \\quad F_1 = 1\n",
    "$$\n",
    "\n",
    "$$\n",
    "F_n = F_{n-1} + F_{n-2} \\quad \\text{for} \\quad n \\geq 2\n",
    "$$\n",
    "\n",
    "The task is to compute:\n",
    "\n",
    "$$\n",
    "\\text{Sum} = \\sum_{\\substack{F_n < \\text{limit} \\\\ \\\\ F_n \\text{ even}}} F_n\n",
    "$$\n",
    "\n",
    "That is, sum all Fibonacci numbers less than or equal to the specified limit, considering only those terms that are even."
   ]
  },
  {
   "cell_type": "markdown",
   "id": "c82b8522",
   "metadata": {},
   "source": [
    "## Optimized Approach Using Even Fibonacci Recurrence\n",
    "\n",
    "The sum of even-valued terms in the Fibonacci sequence up to a given limit can be efficiently computed by leveraging the fact that every third Fibonacci number is even. The sequence of even Fibonacci numbers follows its own recurrence relation:\n",
    "$$\n",
    "E(n) = 4\\cdot E(n-1) + E(n-2)\n",
    "$$\n",
    "where $E(n)$ denotes the n-th even Fibonacci number, with initial values $E(1) = 2$ and $E(2) = 8$. This relation allows direct generation of even Fibonacci numbers without computing the odd terms, significantly reducing the number of calculations required. The process continues until the generated even Fibonacci number exceeds the specified upper limit, and the sum of all such terms is accumulated."
   ]
  },
  {
   "cell_type": "markdown",
   "id": "17c39941",
   "metadata": {},
   "source": [
    "## Final Result\n",
    "\n",
    "For `k = 4000000`, the correct result is:\n",
    "\n",
    "**4613732**\n",
    "\n",
    "---\n",
    "\n",
    "*Challenge yourself: Try solving it using both methods and reflect on their differences in logic and efficiency!*\n",
    "\n",
    "&copy; Byron Velasco, 2025"
   ]
  }
 ],
 "metadata": {
  "language_info": {
   "name": "python"
  }
 },
 "nbformat": 4,
 "nbformat_minor": 5
}
