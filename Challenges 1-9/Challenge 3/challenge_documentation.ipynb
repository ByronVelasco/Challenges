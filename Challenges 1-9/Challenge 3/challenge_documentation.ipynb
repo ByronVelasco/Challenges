{
 "cells": [
  {
   "cell_type": "markdown",
   "id": "4ef7bf57",
   "metadata": {},
   "source": [
    "# Challenge 3 – Largest Prime Factor\n",
    "\n",
    "In this challenge, the objective is to **determine the largest prime factor** of a given number."
   ]
  },
  {
   "cell_type": "markdown",
   "id": "2679a2ea",
   "metadata": {},
   "source": [
    "## Problem Statement\n",
    "\n",
    "**Task:**  \n",
    "Find the largest prime factor of $600851475143$"
   ]
  },
  {
   "cell_type": "markdown",
   "id": "ffbc2bc2",
   "metadata": {},
   "source": [
    "## Data Context\n",
    "\n",
    "- `n`: positive integer number greater than 1.\n",
    "\n",
    "Before reading the solutions below, try solving the problem yourself and compare your approach and results."
   ]
  },
  {
   "cell_type": "markdown",
   "id": "a1e931ab",
   "metadata": {},
   "source": [
    "## Brute Force Function Implementation\n",
    "\n",
    "To find the largest prime factor of a given number:\n",
    "\n",
    "1. First, determine if the number itself is prime by checking divisibility from 2 up to its square root. If it is only divisible by 1 and itself, it is prime.\n",
    "2. If the number is not prime, search for its largest factor by starting from half of the number and decrementing.\n",
    "3. For each candidate factor, check if it divides the number evenly and if it is a prime number.\n",
    "4. The process stops when the largest such prime factor is found."
   ]
  },
  {
   "cell_type": "markdown",
   "id": "65e9421e",
   "metadata": {},
   "source": [
    "## Efficient Prime Factorization by Progressive Division\n",
    "\n",
    "To efficiently determine the largest prime factor of a given integer, one can utilize the following mathematical approach:\n",
    "\n",
    "First, remove all factors of 2 from the number, as 2 is the smallest and only even prime. This ensures that the remaining value is odd, simplifying subsequent steps. After eliminating all factors of 2, proceed to check divisibility by odd numbers, starting from 3 and incrementing by 2 each time. For each odd candidate, if it divides the current value evenly, divide the value by this candidate and continue the process. This stepwise division removes smaller prime factors early, reducing the size of the number to be factored and thus improving efficiency.\n",
    "\n",
    "The process continues until the square of the current candidate exceeds the remaining value. At this point, if the remaining value is greater than 1, it must itself be a prime number and is therefore the largest prime factor. This method is justified because, after removing all smaller prime factors, any remaining factor greater than the square root of the original number must be prime."
   ]
  },
  {
   "cell_type": "markdown",
   "id": "77d3f998",
   "metadata": {},
   "source": [
    "\n",
    "## Final Result\n",
    "\n",
    "For `n = 600851475143`, the correct result is:\n",
    "\n",
    "**6857**\n",
    "\n",
    "---\n",
    "\n",
    "*Challenge yourself: Try solving it using both methods and reflect on their differences in logic and efficiency!*\n",
    "\n",
    "&copy; Byron Velasco, 2025"
   ]
  }
 ],
 "metadata": {
  "language_info": {
   "name": "python"
  }
 },
 "nbformat": 4,
 "nbformat_minor": 5
}
