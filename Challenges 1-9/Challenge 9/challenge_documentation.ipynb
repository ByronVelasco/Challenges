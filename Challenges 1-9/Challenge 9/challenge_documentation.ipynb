{
 "cells": [
  {
   "cell_type": "markdown",
   "id": "ac813f08",
   "metadata": {},
   "source": [
    "# Challenge 9 – Pythagorean Triplet\n",
    "\n",
    "In this challenge, the objective is to **find Pythagorean triplets**—sets of three natural numbers $a < b < c$ that satisfy the equation $a^2 + b^2 = c^2$."
   ]
  },
  {
   "cell_type": "markdown",
   "id": "e5ffa75e",
   "metadata": {},
   "source": [
    "## Problem Statement\n",
    "\n",
    "**Task:**  \n",
    "Find all Pythagorean triplets for which $a + b + c = 1000$ and display the product of each triplet."
   ]
  },
  {
   "cell_type": "markdown",
   "id": "c5448706",
   "metadata": {},
   "source": [
    "## Data Context\n",
    "\n",
    "- `total`: integer number greater than or equal to 6.\n",
    "\n",
    "Before reading the solution below, try solving the problem yourself and compare your approach and results."
   ]
  },
  {
   "cell_type": "markdown",
   "id": "8cc80cc7",
   "metadata": {},
   "source": [
    "## Brute Force Search for Pythagorean Triplets with a Given Sum\n",
    "\n",
    "This approach systematically searches for sets of three positive integers that satisfy the Pythagorean theorem and sum to a specified value. It does so by iterating through all possible combinations of two numbers within logical bounds, calculating the third value based on the required sum, and checking if the three numbers form a valid right triangle. Valid solutions are collected for further analysis."
   ]
  },
  {
   "cell_type": "markdown",
   "id": "bdef3272",
   "metadata": {},
   "source": [
    "## Efficient Generation of Pythagorean Triplets Using Euclid's Formula\n",
    "\n",
    "Euclid's formula provides a systematic way to generate all primitive Pythagorean triplets (those where $a$, $b$, and $c$ are coprime):\n",
    "\n",
    "$$\n",
    "a = m^2 - n^2,\\quad b = 2mn,\\quad c = m^2 + n^2\n",
    "$$\n",
    "\n",
    "where $m > n > 0$, $m$ and $n$ are coprime, and not both odd (i.e., one is even and one is odd).\n",
    "\n",
    "To find all Pythagorean triplets with a specific sum $S$, observe that any non-primitive triplet can be obtained by scaling a primitive triplet by a positive integer $k$:\n",
    "\n",
    "$$\n",
    "ka + kb + kc = S\n",
    "$$\n",
    "\n",
    "Thus, for each valid pair $(m, n)$, compute the sum of the corresponding primitive triplet and check if it divides $S$ evenly. If so, scaling the primitive triplet by $k = S / (a + b + c)$ yields a triplet whose elements sum to $S$.\n",
    "\n",
    "This approach ensures that only valid and unique triplets are generated, significantly reducing computational effort compared to brute-force enumeration."
   ]
  },
  {
   "cell_type": "markdown",
   "id": "84c893b2",
   "metadata": {},
   "source": [
    "## Final Result\n",
    "\n",
    "For `total = 1000`, the correct result is:\n",
    "\n",
    "**31875000**\n",
    "\n",
    "---\n",
    "\n",
    "*Challenge yourself: Try solving it using both methods and reflect on their differences in logic and efficiency!*\n",
    "\n",
    "&copy; Byron Velasco, 2025"
   ]
  }
 ],
 "metadata": {
  "language_info": {
   "name": "python"
  }
 },
 "nbformat": 4,
 "nbformat_minor": 5
}
