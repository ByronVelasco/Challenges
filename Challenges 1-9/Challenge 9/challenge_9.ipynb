{
 "cells": [
  {
   "cell_type": "markdown",
   "id": "7f093ee4",
   "metadata": {},
   "source": [
    "# **Challenge 9**\n",
    "## **Brute Force Search for Pythagorean Triplets with a Given Sum**\n",
    "This approach systematically searches for sets of three positive integers that satisfy the Pythagorean theorem and sum to a specified value. It does so by iterating through all possible combinations of two numbers within logical bounds, calculating the third value based on the required sum, and checking if the three numbers form a valid right triangle. Valid solutions are collected for further analysis."
   ]
  },
  {
   "cell_type": "code",
   "execution_count": 12,
   "id": "27479eef",
   "metadata": {},
   "outputs": [],
   "source": [
    "def pythagorean_triplets(total):\n",
    "\ttriplets = []\n",
    "\tfor a in range(1, total // 3):\n",
    "\t\tfor b in range(a + 1, (total - a) // 2):\n",
    "\t\t\tc = total - a - b\n",
    "\t\t\tif a * a + b * b == c * c:\n",
    "\t\t\t\ttriplets.append((a, b, c))\n",
    "\treturn triplets"
   ]
  },
  {
   "cell_type": "markdown",
   "id": "ad8d913a",
   "metadata": {},
   "source": [
    "### **Example Usage and Output**"
   ]
  },
  {
   "cell_type": "code",
   "execution_count": 13,
   "id": "271349bf",
   "metadata": {},
   "outputs": [
    {
     "name": "stdout",
     "output_type": "stream",
     "text": [
      "Pythagorian triplet: (200, 375, 425)\tProduct: 31875000\n"
     ]
    }
   ],
   "source": [
    "from math import prod\n",
    "\n",
    "total=1000\n",
    "triplets = pythagorean_triplets(total)\n",
    "if triplets:\n",
    "\tfor triplet in triplets:\n",
    "\t\tprint(f'Pythagorian triplet: {triplet}\\tProduct: {prod(triplet)}')\n",
    "else:\n",
    "\tprint(f'No Pythagorean triplet found for total {total}')"
   ]
  },
  {
   "cell_type": "markdown",
   "id": "73075126",
   "metadata": {},
   "source": [
    "## **Efficient Generation of Pythagorean Triplets Using Euclid's Formula**\n",
    "This approach leverages Euclid's formula to efficiently generate Pythagorean triplets with a specific sum. By systematically selecting pairs of coprime integers of opposite parity, it constructs primitive triplets and scales them to match the desired total. The method ensures that only valid combinations are considered, significantly reducing the number of computations compared to brute-force search."
   ]
  },
  {
   "cell_type": "code",
   "execution_count": 14,
   "id": "f40c6ac0",
   "metadata": {},
   "outputs": [],
   "source": [
    "from math import sqrt, gcd\n",
    "\n",
    "def pythagorean_triplets_optimized(total):\n",
    "\ttriplets = []\n",
    "\t# Iterate over possible values of m (Euclid's formula parameter)\n",
    "\tfor m in range(2, int(sqrt(total // 2)) + 1):\n",
    "\t\t# Iterate over possible values of n (must be less than m)\n",
    "\t\tfor n in range(1, m):\n",
    "\t\t\t# Ensure m and n are coprime and not both odd (one must be even, one odd)\n",
    "\t\t\tif (m - n) % 2 == 1 and gcd(m, n) == 1:\n",
    "\t\t\t\t# Generate primitive triplet using Euclid's formula\n",
    "\t\t\t\ta = m * m - n * n\n",
    "\t\t\t\tb = 2 * m * n\n",
    "\t\t\t\tc = m * m + n * n\n",
    "\t\t\t\t# Determine the scaling factor k to reach the desired total\n",
    "\t\t\t\tk = total // (a + b + c)\n",
    "\t\t\t\t# Check if the scaled triplet sums to the desired total\n",
    "\t\t\t\tif k * (a + b + c) == total:\n",
    "\t\t\t\t\ttriplets.append((k * a, k * b, k * c))\n",
    "\t# Return all triplets found\n",
    "\treturn triplets"
   ]
  },
  {
   "cell_type": "markdown",
   "id": "84b74fd9",
   "metadata": {},
   "source": [
    "### **Example Usage and Output**"
   ]
  },
  {
   "cell_type": "code",
   "execution_count": 16,
   "id": "378f0738",
   "metadata": {},
   "outputs": [
    {
     "name": "stdout",
     "output_type": "stream",
     "text": [
      "Pythagorian triplet: (375, 200, 425)\tProduct: 31875000\n"
     ]
    }
   ],
   "source": [
    "from math import prod\n",
    "\n",
    "total=1000\n",
    "triplets = pythagorean_triplets_optimized(total)\n",
    "if triplets:\n",
    "\tfor triplet in triplets:\n",
    "\t\tprint(f'Pythagorian triplet: {triplet}\\tProduct: {prod(triplet)}')\n",
    "else:\n",
    "\tprint(f'No Pythagorean triplet found for total {total}')"
   ]
  }
 ],
 "metadata": {
  "kernelspec": {
   "display_name": "Python 3",
   "language": "python",
   "name": "python3"
  },
  "language_info": {
   "codemirror_mode": {
    "name": "ipython",
    "version": 3
   },
   "file_extension": ".py",
   "mimetype": "text/x-python",
   "name": "python",
   "nbconvert_exporter": "python",
   "pygments_lexer": "ipython3",
   "version": "3.8.10"
  }
 },
 "nbformat": 4,
 "nbformat_minor": 5
}
