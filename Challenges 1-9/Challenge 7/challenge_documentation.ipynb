{
 "cells": [
  {
   "cell_type": "markdown",
   "id": "644363ce",
   "metadata": {},
   "source": [
    "# Challenge 7 – k-th prime number\n",
    "\n",
    "In this challenge, the goal is to **find the k-th prime number**."
   ]
  },
  {
   "cell_type": "markdown",
   "id": "238eabbe",
   "metadata": {},
   "source": [
    "## Problem Statement\n",
    "\n",
    "**Task:**  \n",
    "Find the 10001st prime number."
   ]
  },
  {
   "cell_type": "markdown",
   "id": "eb36819d",
   "metadata": {},
   "source": [
    "## Data Context\n",
    "\n",
    "- `k`: positive integer number.\n",
    "\n",
    "Before reading the solutions below, try solving the problem yourself and compare your approach and results."
   ]
  },
  {
   "cell_type": "markdown",
   "id": "4a939c25",
   "metadata": {},
   "source": [
    "## Prime Number Search Using Square Root Optimization\n",
    "\n",
    "In previous challenges, we used the fact that 2 is the only even prime number and that any composite number has at least one prime factor less than or equal to its square root. Building on these ideas, we can efficiently identify prime numbers by checking divisibility only up to the square root and skipping even numbers greater than 2. By counting primes in this way, we can find and return the k-th prime number."
   ]
  },
  {
   "cell_type": "markdown",
   "id": "1b767027",
   "metadata": {},
   "source": [
    "## Efficient Prime Search Using the Prime Number Theorem and Sieve of Eratosthenes\n",
    "\n",
    "To efficiently find the k-th prime number, we rely on the **Prime Number Theorem**, which states that the number of primes less than a given number $n$ is approximately $\\frac{n}{\\ln(n)}$. This relationship allows us to estimate an upper bound for the location of the k-th prime. Specifically, the k-th prime is roughly near $k \\ln(k)$, and a more accurate estimate is given by $k(\\ln(k) + \\ln(\\ln(k)))$ for large values of $k$.\n",
    "\n",
    "With this upper bound, we can use the **Sieve of Eratosthenes** algorithm to efficiently generate all prime numbers up to the estimated limit. The sieve works by iteratively marking the multiples of each prime as composite, ensuring that only primes remain unmarked. By counting the primes as they are found, we can identify the k-th prime without checking every number individually, greatly improving computational efficiency."
   ]
  },
  {
   "cell_type": "markdown",
   "id": "3f2afed1",
   "metadata": {},
   "source": [
    "## Final Result\n",
    "\n",
    "For `k = 10001`, the correct result is:\n",
    "\n",
    "**104743**\n",
    "\n",
    "---\n",
    "\n",
    "*Challenge yourself: Try solving it using both methods and reflect on their differences in logic and efficiency!*\n",
    "\n",
    "&copy; Byron Velasco, 2025"
   ]
  }
 ],
 "metadata": {
  "language_info": {
   "name": "python"
  }
 },
 "nbformat": 4,
 "nbformat_minor": 5
}
