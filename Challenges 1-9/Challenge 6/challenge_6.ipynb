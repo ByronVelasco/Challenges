{
 "cells": [
  {
   "cell_type": "markdown",
   "id": "409e774d",
   "metadata": {},
   "source": [
    "# **Challenge 6**\n",
    "## **Calculating the Sum Square Difference**\n",
    "This methodology involves two main calculations: first, it computes the sum of the first n natural numbers and then squares the result; second, it calculates the sum of the squares of the first n natural numbers. The final step is to find the difference between these two values."
   ]
  },
  {
   "cell_type": "code",
   "execution_count": 1,
   "id": "6c4458c4",
   "metadata": {},
   "outputs": [],
   "source": [
    "def sum_square_difference(n):\n",
    "\t# Calculate the sum of the squares of the first n natural numbers\n",
    "\tsum_of_squares = sum(i ** 2 for i in range(1, n + 1))\n",
    "\t# Calculate the square of the sum of the first n natural numbers\n",
    "\tsquare_of_sum = sum(range(1, n + 1)) ** 2\n",
    "\t# Return the difference between the square of the sum and the sum of the squares\n",
    "\treturn square_of_sum - sum_of_squares"
   ]
  },
  {
   "cell_type": "markdown",
   "id": "6099ba37",
   "metadata": {},
   "source": [
    "### **Example Usage and Output**"
   ]
  },
  {
   "cell_type": "code",
   "execution_count": 2,
   "id": "7dfc4249",
   "metadata": {},
   "outputs": [
    {
     "name": "stdout",
     "output_type": "stream",
     "text": [
      "The difference between the sum of the squares and the square of the sum of the first 100 natural numbers is: 25164150\n"
     ]
    }
   ],
   "source": [
    "n = 100\n",
    "result = sum_square_difference(n)\n",
    "print(f\"The difference between the sum of the squares and the square of the sum of the first {n} natural numbers is: {result}\")"
   ]
  },
  {
   "cell_type": "markdown",
   "id": "83e8c3c2",
   "metadata": {},
   "source": [
    "## **Optimized Calculation Using Closed-Form Formulas**\n",
    "This approach leverages mathematical formulas to efficiently compute the required values. It uses the closed-form expression for the sum of the first n natural numbers and the sum of their squares, eliminating the need for iteration. By applying these formulas, the calculation is performed in constant time, making it highly efficient even for large values of n."
   ]
  },
  {
   "cell_type": "code",
   "execution_count": 3,
   "id": "12cd2ba3",
   "metadata": {},
   "outputs": [],
   "source": [
    "def sum_square_difference_optimized(n):\n",
    "\t# Using the formula for the sum of the first n natural numbers\n",
    "\tsum_n = n * (n + 1) // 2\n",
    "\t# Using the formula for the sum of squares of the first n natural numbers\n",
    "\tsum_squares_n = n * (n + 1) * (2 * n + 1) // 6\n",
    "\t# Return the difference between the square of the sum and the sum of the squares\n",
    "\treturn sum_n ** 2 - sum_squares_n"
   ]
  },
  {
   "cell_type": "markdown",
   "id": "5a7650c7",
   "metadata": {},
   "source": [
    "### **Example Usage and Output**"
   ]
  },
  {
   "cell_type": "code",
   "execution_count": 4,
   "id": "19084565",
   "metadata": {},
   "outputs": [
    {
     "name": "stdout",
     "output_type": "stream",
     "text": [
      "The difference between the sum of the squares and the square of the sum of the first 100 natural numbers is: 25164150\n"
     ]
    }
   ],
   "source": [
    "n = 100\n",
    "result = sum_square_difference_optimized(n)\n",
    "print(f\"The difference between the sum of the squares and the square of the sum of the first {n} natural numbers is: {result}\")"
   ]
  }
 ],
 "metadata": {
  "kernelspec": {
   "display_name": "Python 3",
   "language": "python",
   "name": "python3"
  },
  "language_info": {
   "codemirror_mode": {
    "name": "ipython",
    "version": 3
   },
   "file_extension": ".py",
   "mimetype": "text/x-python",
   "name": "python",
   "nbconvert_exporter": "python",
   "pygments_lexer": "ipython3",
   "version": "3.8.10"
  }
 },
 "nbformat": 4,
 "nbformat_minor": 5
}
