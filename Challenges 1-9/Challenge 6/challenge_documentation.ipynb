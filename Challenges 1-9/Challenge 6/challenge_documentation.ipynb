{
 "cells": [
  {
   "cell_type": "markdown",
   "id": "8bf91df7",
   "metadata": {},
   "source": [
    "# Challenge 6 – Difference of square sums\n",
    "\n",
    "In this challenge, the goal is to **calculate the difference between the square of the sum and the sum of the squares** of the first n natural numbers."
   ]
  },
  {
   "cell_type": "markdown",
   "id": "c4642606",
   "metadata": {},
   "source": [
    "## Problem Statement\n",
    "\n",
    "**Task:**  \n",
    "Find the difference between the square of the sum and the sum of the squares of the first one hundred natural numbers."
   ]
  },
  {
   "cell_type": "markdown",
   "id": "9a2c5d29",
   "metadata": {},
   "source": [
    "## Data Context\n",
    "\n",
    "- `n`: positive integer number.\n",
    "\n",
    "Before reading the solutions below, try solving the problem yourself and compare your approach and results."
   ]
  },
  {
   "cell_type": "markdown",
   "id": "8ecf700f",
   "metadata": {},
   "source": [
    "## Calculating the Sum Square Difference\n",
    "\n",
    "Computes the sum of the first `n` natural numbers and squares it. Then, computes the sums of squares of the first `n` natural numbers. Finally, computes the difference."
   ]
  },
  {
   "cell_type": "markdown",
   "id": "4451a60d",
   "metadata": {},
   "source": [
    "## Optimized Calculation Using Closed-Form Formulas\n",
    "\n",
    "To find the difference between the square of the sum and the sum of the squares of the first **n** natural numbers, consider the following:\n",
    "\n",
    "1. The sum of the first _n_ natural numbers is given by the formula:  \n",
    "$$\n",
    "S = 1 + 2 + 3 + \\ldots + n = \\frac{n(n+1)}{2}\n",
    "$$\n",
    "\n",
    "2. The square of this sum is:  \n",
    "$$\n",
    "(S)^2 = \\left(\\frac{n(n+1)}{2}\\right)^2\n",
    "$$\n",
    "\n",
    "3. The sum of the squares of the first _n_ natural numbers is:  \n",
    "$$\n",
    "Q = 1^2 + 2^2 + 3^2 + \\ldots + n^2 = \\frac{n(n+1)(2n+1)}{6}\n",
    "$$\n",
    "\n",
    "4. The required difference is:  \n",
    "$$\n",
    "(S)^2 - Q = \\left(\\frac{n(n+1)}{2}\\right)^2 - \\frac{n(n+1)(2n+1)}{6}\n",
    "$$\n",
    "\n",
    "This expression provides a direct way to compute the difference using closed-form formulas."
   ]
  },
  {
   "cell_type": "markdown",
   "id": "e999f059",
   "metadata": {},
   "source": [
    "## Final Result\n",
    "\n",
    "For `n = 100`, the correct result is:\n",
    "\n",
    "**25164150**\n",
    "\n",
    "---\n",
    "\n",
    "*Challenge yourself: Try solving it using both methods and reflect on their differences in logic and efficiency!*\n",
    "\n",
    "&copy; Byron Velasco, 2025"
   ]
  }
 ],
 "metadata": {
  "language_info": {
   "name": "python"
  }
 },
 "nbformat": 4,
 "nbformat_minor": 5
}
