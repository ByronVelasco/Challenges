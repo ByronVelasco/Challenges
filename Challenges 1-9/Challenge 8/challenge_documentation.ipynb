{
 "cells": [
  {
   "cell_type": "markdown",
   "id": "f4b1c426",
   "metadata": {},
   "source": [
    "# Challenge 8 – Largest product in a series\n",
    "\n",
    "In this challenge, the objective is to **find the largest product that can be formed by multiplying k consecutive digits within a given series of numbers**."
   ]
  },
  {
   "cell_type": "markdown",
   "id": "cf0cbb41",
   "metadata": {},
   "source": [
    "## Problem Statement\n",
    "\n",
    "**Task:**  \n",
    "Find the largest product that can be obtained by multiplying thirteen consecutive digits in the following series:\n",
    "\n",
    "73167176531330624919225119674426574742355349194934    \n",
    "96983520312774506326239578318016984801869478851843    \n",
    "85861560789112949495459501737958331952853208805511    \n",
    "12540698747158523863050715693290963295227443043557    \n",
    "66896648950445244523161731856403098711121722383113    \n",
    "62229893423380308135336276614282806444486645238749    \n",
    "30358907296290491560440772390713810515859307960866    \n",
    "70172427121883998797908792274921901699720888093776    \n",
    "65727333001053367881220235421809751254540594752243    \n",
    "52584907711670556013604839586446706324415722155397    \n",
    "53697817977846174064955149290862569321978468622482    \n",
    "83972241375657056057490261407972968652414535100474    \n",
    "82166370484403199890008895243450658541227588666881    \n",
    "16427171479924442928230863465674813919123162824586    \n",
    "17866458359124566529476545682848912883142607690042    \n",
    "24219022671055626321111109370544217506941658960408    \n",
    "07198403850962455444362981230987879927244284909188    \n",
    "84580156166097919133875499200524063689912560717606    \n",
    "05886116467109405077541002256983155200055935729725    \n",
    "71636269561882670428252483600823257530420752963450    "
   ]
  },
  {
   "cell_type": "markdown",
   "id": "dadabf09",
   "metadata": {},
   "source": [
    "## Data Context\n",
    "\n",
    "- `series`: series of digits in which the search is performed.\n",
    "- `k`: positive integer less than or equal to the length of the series.\n",
    "\n",
    "Before reading the solutions below, try solving the problem yourself and compare your approach and results."
   ]
  },
  {
   "cell_type": "markdown",
   "id": "7dc65b7a",
   "metadata": {},
   "source": [
    "## Efficient Maximum Product Search in a Digit Series\n",
    "\n",
    "The approach involves scanning through a long sequence of digits to find the highest product obtainable from a fixed number of consecutive digits. For each possible group of adjacent digits, the method multiplies them together to compute their product. If a zero is encountered within a group, the process skips ahead to avoid unnecessary calculations, as any product involving zero will be zero. Throughout the scan, the maximum product found is tracked and updated whenever a larger product is discovered."
   ]
  },
  {
   "cell_type": "markdown",
   "id": "5712668b",
   "metadata": {},
   "source": [
    "## Final Result\n",
    "\n",
    "For `k = 13`, the correct result is:\n",
    "\n",
    "**23514624000**\n",
    "\n",
    "---\n",
    "\n",
    "&copy; Byron Velasco, 2025"
   ]
  }
 ],
 "metadata": {
  "language_info": {
   "name": "python"
  }
 },
 "nbformat": 4,
 "nbformat_minor": 5
}
