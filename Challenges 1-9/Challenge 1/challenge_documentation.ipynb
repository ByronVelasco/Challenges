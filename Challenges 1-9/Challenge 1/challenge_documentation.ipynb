{
 "cells": [
  {
   "cell_type": "markdown",
   "id": "3163de83",
   "metadata": {},
   "source": [
    "# Challenge 1 – Sum of Multiples\n",
    "\n",
    "In this challenge, the goal is to **find the sum of all natural numbers less than a given threshold that are multiples of either of two specified numbers.**"
   ]
  },
  {
   "cell_type": "markdown",
   "id": "592167bd",
   "metadata": {},
   "source": [
    "## Problem Statement\n",
    "\n",
    "**Task:**  \n",
    "Find the sum of all multiples of `3` and `5` that are less than `1000`."
   ]
  },
  {
   "cell_type": "markdown",
   "id": "c3064c80",
   "metadata": {},
   "source": [
    "## Data Context\n",
    "\n",
    "- `k`: an integer greater than 1.\n",
    "- `n1` and `n2`: positive integers.\n",
    "\n",
    "Before reading the solutions below, try solving the problem yourself and compare your approach and results."
   ]
  },
  {
   "cell_type": "markdown",
   "id": "87779625",
   "metadata": {},
   "source": [
    "## Brute Force Function Implementation\n",
    "\n",
    "To find the sum of all natural numbers below a certain limit that are multiples of two given numbers, we can use the following approach:\n",
    "\n",
    "1. Identify all numbers less than the limit that are divisible by either of the two given numbers.\n",
    "2. Add together all these numbers to obtain the total sum.\n",
    "\n",
    "Mathematically, this can be represented as the sum of all numbers less than the limit that satisfy at least one of the divisibility conditions."
   ]
  },
  {
   "cell_type": "markdown",
   "id": "192fe9cf",
   "metadata": {},
   "source": [
    "## Efficient Sum Using Inclusion-Exclusion Principle\n",
    "\n",
    "To efficiently compute the sum of all natural numbers below a given limit that are divisible by either of two numbers, we use the inclusion-exclusion principle:\n",
    "\n",
    "1. **Sum of Multiples of a Number Below a Limit:**  \n",
    "\tThe sum of all multiples of a number $(a)$ less than a limit $(k)$ can be found using the formula for the sum of an arithmetic progression:\n",
    "$$\n",
    "\\text{Sum} = a + 2a + 3a + \\ldots + pa\n",
    "$$\n",
    "&nbsp;&nbsp;&nbsp;&nbsp;&nbsp;&nbsp;&nbsp;&nbsp;&nbsp;&nbsp; where $p = \\left\\lfloor \\frac{k-1}{a} \\right\\rfloor$. The sum simplifies to:\n",
    "$$    \n",
    "\\text{Sum} = a \\cdot \\frac{p(p+1)}{2}\n",
    "$$\n",
    "2. **Inclusion-Exclusion Principle:**  \n",
    "\tTo avoid double-counting numbers divisible by both values, we:\n",
    "\t- Add the sum of multiples of the first number.\n",
    "\t- Add the sum of multiples of the second number.\n",
    "\t- Subtract the sum of multiples of their least common multiple (LCM).\n",
    "\n",
    "\tMathematically:\t$\\text{Total Sum} = S_a + S_b - S_{\\text{lcm}(a, b)}$, where $S_x$ is the sum of multiples of $x$ below the limit.\n",
    "\n",
    "\tThis approach provides an efficient, formula-based solution without iterating through every number."
   ]
  },
  {
   "cell_type": "markdown",
   "id": "96dd7167",
   "metadata": {},
   "source": [
    "## Final Result\n",
    "\n",
    "For `k = 1000`, `n1 = 3`, and `n2 = 5`, the correct result is:\n",
    "\n",
    "**233168**\n",
    "\n",
    "---\n",
    "\n",
    "*Challenge yourself: Try solving it using both methods and reflect on their differences in logic and efficiency!*\n",
    "\n",
    "&copy; Byron Velasco, 2025"
   ]
  }
 ],
 "metadata": {
  "kernelspec": {
   "display_name": "Python 3",
   "language": "python",
   "name": "python3"
  },
  "language_info": {
   "name": "python",
   "version": "3.13.3"
  }
 },
 "nbformat": 4,
 "nbformat_minor": 5
}
