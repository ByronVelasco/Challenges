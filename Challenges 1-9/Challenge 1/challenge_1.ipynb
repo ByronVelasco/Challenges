{
 "cells": [
  {
   "cell_type": "markdown",
   "id": "bf0f2447",
   "metadata": {},
   "source": [
    "# **Challenge 1**\n",
    "## **Brute Force Function Implementation**\n",
    "This approach systematically examines each number within a specified range, checking whether it is divisible by either of two given values. If a number meets this condition, it is included in a running total. By iterating through all candidates and accumulating those that satisfy the divisibility criteria, the method ensures that all relevant numbers are counted in the final sum."
   ]
  },
  {
   "cell_type": "code",
   "execution_count": 1,
   "id": "169ce7bb",
   "metadata": {},
   "outputs": [],
   "source": [
    "def sum_of_multiples(n1, n2, k):\n",
    "\t# Initialize the sum accumulator\n",
    "\tsum = 0\n",
    "\t# Iterate through all numbers from 1 up to (but not including) k\n",
    "\tfor i in range(1, k):\n",
    "\t\t# Check if the current number is a multiple of n1 or n2\n",
    "\t\tif i % n1 == 0 or i % n2 == 0:\n",
    "\t\t\t# If so, add it to the sum\n",
    "\t\t\tsum += i\n",
    "\t# Return the total sum of all multiples found\n",
    "\treturn sum"
   ]
  },
  {
   "cell_type": "markdown",
   "id": "fa34bc2e",
   "metadata": {},
   "source": [
    "### **Example Usage and Output**"
   ]
  },
  {
   "cell_type": "code",
   "execution_count": 2,
   "id": "b5352dab",
   "metadata": {},
   "outputs": [
    {
     "name": "stdout",
     "output_type": "stream",
     "text": [
      "The sum of all multiples of 3 or 5, below 1000, is: 233168\n"
     ]
    }
   ],
   "source": [
    "k = 1000  # Upper limit (not inclusive) for the numbers to check\n",
    "n1 = 3    # First divisor\n",
    "n2 = 5    # Second divisor\n",
    "\n",
    "# Call the function to compute the sum of all multiples of n1 or n2 below k\n",
    "sum = sum_of_multiples(n1, n2, k)\n",
    "\n",
    "# Print the result in a formatted string\n",
    "print(f\"The sum of all multiples of {n1} or {n2}, below {k}, is: {sum}\")"
   ]
  },
  {
   "cell_type": "markdown",
   "id": "56a31ffe",
   "metadata": {},
   "source": [
    "## **Efficient Sum Using Inclusion-Exclusion Principle**\n",
    "This method leverages mathematical formulas and the inclusion-exclusion principle to efficiently compute the total of all numbers below a specified limit that are divisible by either of two given values. Instead of checking each number individually, it calculates the sum of multiples for each value and subtracts the sum of their common multiples, ensuring accurate and rapid results."
   ]
  },
  {
   "cell_type": "code",
   "execution_count": 3,
   "id": "01cc3ba7",
   "metadata": {},
   "outputs": [],
   "source": [
    "def sum_of_multiples_optimized(n1, n2, k):\n",
    "\t# Helper function to calculate the sum of all multiples of n below k\n",
    "\tdef sum_divisible_by(n):\n",
    "\t\t# Find the largest integer less than k that is divisible by n\n",
    "\t\tp = (k - 1) // n\n",
    "\t\t# Use the formula for the sum of the first p natural numbers, scaled by n\n",
    "\t\treturn n * p * (p + 1) // 2\n",
    "\n",
    "\t# Helper function to compute the greatest common divisor (GCD) of two numbers\n",
    "\tdef gcd(a, b):\n",
    "\t\twhile b:\n",
    "\t\t\ta, b = b, a % b\n",
    "\t\treturn a\n",
    "\n",
    "\t# Calculate least common multiple (LCM) of n1 and n2 using GCD\n",
    "\tlcm = n1 * n2 // gcd(n1, n2)\n",
    "\n",
    "\t# Apply the inclusion-exclusion principle to avoid double-counting common multiples\n",
    "\treturn sum_divisible_by(n1) + sum_divisible_by(n2) - sum_divisible_by(lcm)"
   ]
  },
  {
   "cell_type": "markdown",
   "id": "8812f5bf",
   "metadata": {},
   "source": [
    "### **Example Usage and Output**"
   ]
  },
  {
   "cell_type": "code",
   "execution_count": 4,
   "id": "21ba7c2f",
   "metadata": {},
   "outputs": [
    {
     "name": "stdout",
     "output_type": "stream",
     "text": [
      "The sum of all multiples of 3 or 5, below 1000, is: 233168\n"
     ]
    }
   ],
   "source": [
    "k = 1000  # Upper limit (not inclusive) for the numbers to check\n",
    "n1 = 3    # First divisor\n",
    "n2 = 5    # Second divisor\n",
    "\n",
    "# Call the function to compute the sum of all multiples of n1 or n2 below k\n",
    "sum = sum_of_multiples_optimized(n1, n2, k)\n",
    "\n",
    "# Print the result in a formatted string\n",
    "print(f\"The sum of all multiples of {n1} or {n2}, below {k}, is: {sum}\")"
   ]
  }
 ],
 "metadata": {
  "kernelspec": {
   "display_name": "Python 3",
   "language": "python",
   "name": "python3"
  },
  "language_info": {
   "codemirror_mode": {
    "name": "ipython",
    "version": 3
   },
   "file_extension": ".py",
   "mimetype": "text/x-python",
   "name": "python",
   "nbconvert_exporter": "python",
   "pygments_lexer": "ipython3",
   "version": "3.13.3"
  }
 },
 "nbformat": 4,
 "nbformat_minor": 5
}
