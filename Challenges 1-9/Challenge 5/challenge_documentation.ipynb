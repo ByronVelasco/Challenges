{
 "cells": [
  {
   "cell_type": "markdown",
   "id": "1bea83ef",
   "metadata": {},
   "source": [
    "# Challenge 5 – Least common multiple of a range\n",
    "\n",
    "In this challenge, the objective is to **determine the least common multiple (LCM) of all positive integers up to a given number**."
   ]
  },
  {
   "cell_type": "markdown",
   "id": "05c4f34b",
   "metadata": {},
   "source": [
    "## Problem Statement\n",
    "\n",
    "**Task:**  \n",
    "Find the least common multiple of all positive integer numbers up to 20."
   ]
  },
  {
   "cell_type": "markdown",
   "id": "3ffdbace",
   "metadata": {},
   "source": [
    "## Data Context\n",
    "\n",
    "- `n`: positive integer number.\n",
    "\n",
    "Before reading the solution below, try solving the problem yourself and compare your approach and results."
   ]
  },
  {
   "cell_type": "markdown",
   "id": "c12f4179",
   "metadata": {},
   "source": [
    "## Brute Force Search for the Least Common Multiple\n",
    "\n",
    "To find the least common multiple (LCM) of all integers in a given range, consider that the LCM must be a multiple of each number in that range. The approach is to examine successive multiples of the largest number in the range, checking for each whether it is divisible by all other numbers in the range. The first such multiple encountered is guaranteed to be the smallest number that is evenly divisible by every number in the range. This brute-force method is justified because it systematically tests each candidate in increasing order, ensuring that the smallest valid solution is found."
   ]
  },
  {
   "cell_type": "markdown",
   "id": "d09556c0",
   "metadata": {},
   "source": [
    "## Efficient LCM Calculation Using GCD\n",
    "\n",
    "To efficiently compute the LCM for a range of numbers, one can use the mathematical relationship between the LCM and the greatest common divisor (GCD): for any two integers, the LCM can be found by dividing their product by their GCD. By applying this relationship iteratively, starting with 1 and combining it with each successive integer in the range, the process accumulates the LCM for the entire set. This method is justified because the LCM operation is associative, ensuring that the final result is the smallest number divisible by all numbers in the range."
   ]
  },
  {
   "cell_type": "markdown",
   "id": "c6b97833",
   "metadata": {},
   "source": [
    "## Final Result\n",
    "\n",
    "For `n = 20`, the correct result is:\n",
    "\n",
    "**232792560**\n",
    "\n",
    "---\n",
    "\n",
    "*Challenge yourself: Try solving it using both methods and reflect on their differences in logic and efficiency!*\n",
    "\n",
    "&copy; Byron Velasco, 2025"
   ]
  }
 ],
 "metadata": {
  "language_info": {
   "name": "python"
  }
 },
 "nbformat": 4,
 "nbformat_minor": 5
}
