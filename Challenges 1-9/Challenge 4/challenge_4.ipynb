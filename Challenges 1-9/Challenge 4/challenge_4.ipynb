{
 "cells": [
  {
   "cell_type": "markdown",
   "id": "6a586515",
   "metadata": {},
   "source": [
    "# **Challenge 4**\n",
    "## **Finding the Largest Palindromic Product by Exhaustive Search**\n",
    "The approach involves reversing the digits of a given number and comparing the reversed value to the original to determine if it reads the same forwards and backwards. To find the largest number with this property that results from multiplying two numbers below a certain limit, all possible pairs are checked in descending order, updating the result whenever a larger qualifying number is found."
   ]
  },
  {
   "cell_type": "code",
   "execution_count": 27,
   "id": "ba2badbe",
   "metadata": {},
   "outputs": [],
   "source": [
    "def is_palindrome(num):\n",
    "\t# Store the original number to compare later\n",
    "\toriginal = num\n",
    "\treversed_num = 0\n",
    "\t# Reverse the digits of the number\n",
    "\twhile num > 0:\n",
    "\t\treversed_num = reversed_num * 10 + num % 10\n",
    "\t\tnum //= 10\n",
    "\t# Check if the original number is equal to its reverse\n",
    "\treturn original == reversed_num\n",
    "\n",
    "\n",
    "def largest_palindrome(k):\n",
    "\t# Initialize the largest palindrome found\n",
    "\tlargest_pal = 0\n",
    "\t# Iterate through all pairs of numbers less than k in descending order\n",
    "\tfor x in range(k-1, 0, -1):\n",
    "\t\tfor y in range(x, 0, -1):\n",
    "\t\t\tproduct = x * y\n",
    "\t\t\t# If the product is less than or equal to the current largest palindrome, break inner loop\n",
    "\t\t\tif product <= largest_pal:\n",
    "\t\t\t\tbreak\n",
    "\t\t\t# Check if the product is a palindrome using the helper function\n",
    "\t\t\tif is_palindrome(product):\n",
    "\t\t\t\tlargest_pal = product\n",
    "\t# Return the largest palindrome found\n",
    "\treturn largest_pal"
   ]
  },
  {
   "cell_type": "markdown",
   "id": "389e938c",
   "metadata": {},
   "source": [
    "### **Example Usage and Output**"
   ]
  },
  {
   "cell_type": "code",
   "execution_count": 28,
   "id": "499aab2e",
   "metadata": {},
   "outputs": [
    {
     "name": "stdout",
     "output_type": "stream",
     "text": [
      "The largest palindrome made from the product of two numbers less than 1000 is 906609.\n"
     ]
    }
   ],
   "source": [
    "k = 1000  # Set the upper limit for the factors\n",
    "largest_pal = largest_palindrome(k)  # Find the largest palindrome product for numbers less than k\n",
    "\n",
    "print(f\"The largest palindrome made from the product of two numbers less than {k} is {largest_pal}.\")"
   ]
  },
  {
   "cell_type": "markdown",
   "id": "f05731d3",
   "metadata": {},
   "source": [
    "## **Palindromic Product Search Using String Comparison**\n",
    "This approach systematically checks all possible products of two numbers below a specified limit, starting from the largest values and moving downward. For each product, it determines if the number reads the same forwards and backwards by comparing its string representation to its reverse. The process continues until the largest palindromic product is found."
   ]
  },
  {
   "cell_type": "code",
   "execution_count": null,
   "id": "52d8660b",
   "metadata": {},
   "outputs": [],
   "source": [
    "def largest_palindrome_optimized(k):\n",
    "\t# Initialize the largest palindrome found\n",
    "\tlargest_pal = 0\n",
    "\t# Iterate through all pairs of numbers less than k in descending order\n",
    "\tfor x in range(k-1, 0, -1):\n",
    "\t\tfor y in range(x, 0, -1):\n",
    "\t\t\tproduct = x * y\n",
    "\t\t\t# If the product is less than or equal to the current largest palindrome, break inner loop\n",
    "\t\t\tif product <= largest_pal:\n",
    "\t\t\t\tbreak\n",
    "\t\t\t# Check if the product is a palindrome by comparing its string to its reverse\n",
    "\t\t\tif str(product) == str(product)[::-1]:\n",
    "\t\t\t\tlargest_pal = product\n",
    "\t# Return the largest palindrome found\n",
    "\treturn largest_pal"
   ]
  },
  {
   "cell_type": "markdown",
   "id": "8fc94cbf",
   "metadata": {},
   "source": [
    "### **Example Usage and Output**"
   ]
  },
  {
   "cell_type": "code",
   "execution_count": 30,
   "id": "60014725",
   "metadata": {},
   "outputs": [
    {
     "name": "stdout",
     "output_type": "stream",
     "text": [
      "The largest palindrome made from the product of two numbers less than 1000 is 906609.\n"
     ]
    }
   ],
   "source": [
    "k = 1000  # Set the upper limit for the factors\n",
    "largest_pal = largest_palindrome_optimized(k)  # Find the largest palindrome product for numbers less than k\n",
    "\n",
    "print(f\"The largest palindrome made from the product of two numbers less than {k} is {largest_pal}.\")"
   ]
  }
 ],
 "metadata": {
  "kernelspec": {
   "display_name": "Python 3",
   "language": "python",
   "name": "python3"
  },
  "language_info": {
   "codemirror_mode": {
    "name": "ipython",
    "version": 3
   },
   "file_extension": ".py",
   "mimetype": "text/x-python",
   "name": "python",
   "nbconvert_exporter": "python",
   "pygments_lexer": "ipython3",
   "version": "3.8.10"
  }
 },
 "nbformat": 4,
 "nbformat_minor": 5
}
