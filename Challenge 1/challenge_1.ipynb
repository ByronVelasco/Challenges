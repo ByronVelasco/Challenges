{
 "cells": [
  {
   "cell_type": "markdown",
   "id": "486de2a6",
   "metadata": {},
   "source": [
    "## **First approach**"
   ]
  },
  {
   "cell_type": "code",
   "execution_count": 1,
   "id": "169ce7bb",
   "metadata": {},
   "outputs": [],
   "source": [
    "def naive_sum_multiples_n1_n2(threshold, n1, n2):\n",
    "\ttotal = 0\n",
    "\tfor i in range(1, threshold):\n",
    "\t\tif i % n1 == 0 or i % n2 == 0:\n",
    "\t\t\ttotal += i\n",
    "\treturn total"
   ]
  },
  {
   "cell_type": "code",
   "execution_count": 2,
   "id": "b5352dab",
   "metadata": {},
   "outputs": [
    {
     "name": "stdout",
     "output_type": "stream",
     "text": [
      "233168\n"
     ]
    }
   ],
   "source": [
    "threshold = 1000\n",
    "n1 = 3\n",
    "n2 = 5\n",
    "print(naive_sum_multiples_n1_n2(threshold, n1, n2))"
   ]
  },
  {
   "cell_type": "markdown",
   "id": "68e1acfd",
   "metadata": {},
   "source": [
    "## **Optimal method**"
   ]
  },
  {
   "cell_type": "code",
   "execution_count": 3,
   "id": "a16483ae",
   "metadata": {},
   "outputs": [],
   "source": [
    "from math import gcd\n",
    "\n",
    "def sum_multiples_n(threshold, n):\n",
    "\tm = (threshold-1) // n\n",
    "\treturn n * (m * (m+1) // 2)\n",
    "\n",
    "def lcm(n1, n2):\n",
    "  return n1 * n2 // gcd(n1, n2)\n",
    "\n",
    "def optimal_sum_multiples_n1_n2(threshold, n1, n2):\n",
    "  return sum_multiples_n(threshold, n1) + sum_multiples_n(threshold, n2) - sum_multiples_n(threshold, lcm(n1,n2))"
   ]
  },
  {
   "cell_type": "code",
   "execution_count": 4,
   "id": "295fe946",
   "metadata": {},
   "outputs": [
    {
     "name": "stdout",
     "output_type": "stream",
     "text": [
      "233168\n"
     ]
    }
   ],
   "source": [
    "threshold = 1000\n",
    "n1 = 3\n",
    "n2 = 5\n",
    "print(optimal_sum_multiples_n1_n2(threshold, n1, n2))"
   ]
  },
  {
   "cell_type": "markdown",
   "id": "66e279ce",
   "metadata": {},
   "source": [
    "## **Correctness**"
   ]
  },
  {
   "cell_type": "code",
   "execution_count": 11,
   "id": "e922be9a",
   "metadata": {},
   "outputs": [
    {
     "name": "stdout",
     "output_type": "stream",
     "text": [
      "Both algorithms get the same results\n"
     ]
    }
   ],
   "source": [
    "n = 100\n",
    "test = True\n",
    "for threshold in range(2, n+1):\n",
    "  for n1 in range(1, threshold+1):\n",
    "    for n2 in range(1, threshold+1):\n",
    "      if optimal_sum_multiples_n1_n2(threshold, n1, n2) != naive_sum_multiples_n1_n2(threshold, n1, n2):\n",
    "        test = False\n",
    "        break\n",
    "\n",
    "if test:\n",
    "  print('Both algorithms get the same results')\n",
    "else:\n",
    "  print('The algorithms get different results')"
   ]
  }
 ],
 "metadata": {
  "kernelspec": {
   "display_name": "Python 3",
   "language": "python",
   "name": "python3"
  },
  "language_info": {
   "codemirror_mode": {
    "name": "ipython",
    "version": 3
   },
   "file_extension": ".py",
   "mimetype": "text/x-python",
   "name": "python",
   "nbconvert_exporter": "python",
   "pygments_lexer": "ipython3",
   "version": "3.8.10"
  }
 },
 "nbformat": 4,
 "nbformat_minor": 5
}
